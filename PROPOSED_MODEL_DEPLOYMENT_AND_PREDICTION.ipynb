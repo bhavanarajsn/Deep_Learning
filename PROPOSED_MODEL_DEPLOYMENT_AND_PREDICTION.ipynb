{
  "nbformat": 4,
  "nbformat_minor": 0,
  "metadata": {
    "colab": {
      "provenance": [],
      "gpuType": "T4",
      "machine_shape": "hm"
    },
    "kernelspec": {
      "name": "python3",
      "display_name": "Python 3"
    },
    "language_info": {
      "name": "python"
    },
    "accelerator": "GPU"
  },
  "cells": [
    {
      "cell_type": "code",
      "execution_count": 1,
      "metadata": {
        "id": "xZ-r8CCqST9d",
        "colab": {
          "base_uri": "https://localhost:8080/"
        },
        "outputId": "dd0c0fe1-509e-4ff9-bfaf-bd69142c6b51"
      },
      "outputs": [
        {
          "output_type": "stream",
          "name": "stdout",
          "text": [
            "Mounted at /content/drive\n"
          ]
        }
      ],
      "source": [
        "#Mounting Google Drive in Colab notebook\n",
        "from google.colab import drive\n",
        "import numpy as np\n",
        "drive.mount('/content/drive')"
      ]
    },
    {
      "cell_type": "markdown",
      "source": [
        "**LIBRARY IMPORTS**"
      ],
      "metadata": {
        "id": "e62TCkwWpwRa"
      }
    },
    {
      "cell_type": "code",
      "source": [
        "from numpy.random import seed\n",
        "\n",
        "# Ignore specific warnings\n",
        "import warnings\n",
        "warnings.filterwarnings(\"ignore\", category=UserWarning)\n",
        "warnings.filterwarnings(\"ignore\", category=DeprecationWarning)\n",
        "\n",
        "#Importing Basic Libaries for Data Load and Image Movement\n",
        "import os\n",
        "import pandas as pd\n",
        "import numpy as np\n",
        "import itertools\n",
        "import shutil\n",
        "\n",
        "#Tensorflow libraries\n",
        "import tensorflow\n",
        "tensorflow.random.set_seed(101)\n",
        "\n",
        "#libraries to build neural network models\n",
        "from keras.models import Sequential\n",
        "from keras.layers import Dense, Dropout, Flatten,GlobalAveragePooling2D,BatchNormalization\n",
        "from keras import backend as k\n",
        "\n",
        "from keras.utils import to_categorical\n",
        "from keras import optimizers\n",
        "from keras.optimizers import SGD,Adam\n",
        "from tensorflow.keras.preprocessing.image import ImageDataGenerator\n",
        "from keras.preprocessing import image\n",
        "from keras.models import Model\n",
        "from tensorflow.keras.models import Model\n",
        "from tensorflow.keras.utils import img_to_array,array_to_img\n",
        "from tensorflow.keras.callbacks import EarlyStopping, ReduceLROnPlateau, ModelCheckpoint, CSVLogger\n",
        "from tensorflow.keras import regularizers\n",
        "\n",
        "#Model Libraries:\n",
        "from tensorflow.keras.applications import DenseNet201\n",
        "from tensorflow.keras.applications.densenet  import preprocess_input\n",
        "\n",
        "#Split and Importing evaluation libraries\n",
        "from tensorflow.keras.metrics import categorical_crossentropy\n",
        "from sklearn.metrics import confusion_matrix, roc_curve, auc,classification_report,balanced_accuracy_score,precision_score,recall_score,f1_score\n",
        "from sklearn.model_selection import train_test_split\n",
        "from sklearn.metrics import roc_curve, auc\n",
        "from sklearn.metrics import roc_auc_score\n",
        "from sklearn.preprocessing import LabelBinarizer\n",
        "\n",
        "\n",
        "#Plotting Graphs:\n",
        "import matplotlib.pyplot as plt\n",
        "%matplotlib inline\n",
        "import seaborn as sns"
      ],
      "metadata": {
        "id": "qHnOLntKIZft"
      },
      "execution_count": 2,
      "outputs": []
    },
    {
      "cell_type": "code",
      "source": [
        "import os\n",
        "import tensorflow as tf\n",
        "import numpy as np\n",
        "from tensorflow.keras.preprocessing import image\n",
        "from tensorflow.keras.models import load_model\n",
        "from tensorflow.keras.applications.densenet import preprocess_input"
      ],
      "metadata": {
        "id": "C_q4j-yh3Bmx"
      },
      "execution_count": 3,
      "outputs": []
    },
    {
      "cell_type": "markdown",
      "source": [
        "**DIRECTORIES CREATION**"
      ],
      "metadata": {
        "id": "n9EjU3Ofp3jO"
      }
    },
    {
      "cell_type": "code",
      "source": [
        "# Creating new directory for file movement:\n",
        "skin_dense_base_dir = 'skin_dense_base_dir'\n",
        "os.mkdir(skin_dense_base_dir)"
      ],
      "metadata": {
        "id": "JipwHZVPIGnH"
      },
      "execution_count": 4,
      "outputs": []
    },
    {
      "cell_type": "code",
      "source": [
        "# Generate a pathway leading to the 'skin_dense_base_dir' to which we will append the names of the new folders\n",
        "# Training Directory creation\n",
        "train_dir = os.path.join(skin_dense_base_dir, 'train_dir')\n",
        "os.mkdir(train_dir)\n",
        "\n",
        "# Validation Directory creation\n",
        "val_dir = os.path.join(skin_dense_base_dir, 'val_dir')\n",
        "os.mkdir(val_dir)\n",
        "\n",
        "# Test Directory creation\n",
        "test_dir = os.path.join(skin_dense_base_dir, 'test_dir')\n",
        "os.mkdir(test_dir)"
      ],
      "metadata": {
        "id": "NqjyvhBQIqCx"
      },
      "execution_count": 5,
      "outputs": []
    },
    {
      "cell_type": "code",
      "source": [
        "# Creation of new folders inside Training Directory\n",
        "nv = os.path.join(train_dir, 'nv')\n",
        "os.mkdir(nv)\n",
        "mel = os.path.join(train_dir, 'mel')\n",
        "os.mkdir(mel)\n",
        "bkl = os.path.join(train_dir, 'bkl')\n",
        "os.mkdir(bkl)\n",
        "bcc = os.path.join(train_dir, 'bcc')\n",
        "os.mkdir(bcc)\n",
        "akiec = os.path.join(train_dir, 'akiec')\n",
        "os.mkdir(akiec)\n",
        "vasc = os.path.join(train_dir, 'vasc')\n",
        "os.mkdir(vasc)\n",
        "df = os.path.join(train_dir, 'df')\n",
        "os.mkdir(df)"
      ],
      "metadata": {
        "id": "sFYzdCOtItkr"
      },
      "execution_count": 6,
      "outputs": []
    },
    {
      "cell_type": "code",
      "source": [
        "# Creation of new folders inside Validation Directory\n",
        "nv = os.path.join(val_dir, 'nv')\n",
        "os.mkdir(nv)\n",
        "mel = os.path.join(val_dir, 'mel')\n",
        "os.mkdir(mel)\n",
        "bkl = os.path.join(val_dir, 'bkl')\n",
        "os.mkdir(bkl)\n",
        "bcc = os.path.join(val_dir, 'bcc')\n",
        "os.mkdir(bcc)\n",
        "akiec = os.path.join(val_dir, 'akiec')\n",
        "os.mkdir(akiec)\n",
        "vasc = os.path.join(val_dir, 'vasc')\n",
        "os.mkdir(vasc)\n",
        "df = os.path.join(val_dir, 'df')\n",
        "os.mkdir(df)"
      ],
      "metadata": {
        "id": "1-MtW1DvIw2g"
      },
      "execution_count": 7,
      "outputs": []
    },
    {
      "cell_type": "code",
      "source": [
        "# create new folders inside test_dir\n",
        "nv = os.path.join(test_dir, 'nv')\n",
        "os.mkdir(nv)\n",
        "mel = os.path.join(test_dir, 'mel')\n",
        "os.mkdir(mel)\n",
        "bkl = os.path.join(test_dir, 'bkl')\n",
        "os.mkdir(bkl)\n",
        "bcc = os.path.join(test_dir, 'bcc')\n",
        "os.mkdir(bcc)\n",
        "akiec = os.path.join(test_dir, 'akiec')\n",
        "os.mkdir(akiec)\n",
        "vasc = os.path.join(test_dir, 'vasc')\n",
        "os.mkdir(vasc)\n",
        "df = os.path.join(test_dir, 'df')\n",
        "os.mkdir(df)"
      ],
      "metadata": {
        "id": "nMDvWqJOIz3F"
      },
      "execution_count": 8,
      "outputs": []
    },
    {
      "cell_type": "markdown",
      "source": [
        "**DATA LOAD AND ANALYSIS**"
      ],
      "metadata": {
        "id": "GMPQPOxHqJsm"
      }
    },
    {
      "cell_type": "code",
      "source": [
        "#Read metadata information of HAM10000 dataset\n",
        "df_data = pd.read_csv('/content/drive/MyDrive/DISSERTATION/HAM10000_DATASET/HAM10000_metadata')\n",
        "\n",
        "df_data.head()"
      ],
      "metadata": {
        "id": "8oMTRK-gI5eU",
        "colab": {
          "base_uri": "https://localhost:8080/",
          "height": 206
        },
        "outputId": "75d2755f-0349-46ab-8019-ff5f769c1554"
      },
      "execution_count": 9,
      "outputs": [
        {
          "output_type": "execute_result",
          "data": {
            "text/plain": [
              "     lesion_id      image_id   dx dx_type   age   sex localization  \\\n",
              "0  HAM_0000118  ISIC_0027419  bkl   histo  80.0  male        scalp   \n",
              "1  HAM_0000118  ISIC_0025030  bkl   histo  80.0  male        scalp   \n",
              "2  HAM_0002730  ISIC_0026769  bkl   histo  80.0  male        scalp   \n",
              "3  HAM_0002730  ISIC_0025661  bkl   histo  80.0  male        scalp   \n",
              "4  HAM_0001466  ISIC_0031633  bkl   histo  75.0  male          ear   \n",
              "\n",
              "        dataset  \n",
              "0  vidir_modern  \n",
              "1  vidir_modern  \n",
              "2  vidir_modern  \n",
              "3  vidir_modern  \n",
              "4  vidir_modern  "
            ],
            "text/html": [
              "\n",
              "  <div id=\"df-a3a3b8c3-7645-492f-82dd-0486fe6fe725\" class=\"colab-df-container\">\n",
              "    <div>\n",
              "<style scoped>\n",
              "    .dataframe tbody tr th:only-of-type {\n",
              "        vertical-align: middle;\n",
              "    }\n",
              "\n",
              "    .dataframe tbody tr th {\n",
              "        vertical-align: top;\n",
              "    }\n",
              "\n",
              "    .dataframe thead th {\n",
              "        text-align: right;\n",
              "    }\n",
              "</style>\n",
              "<table border=\"1\" class=\"dataframe\">\n",
              "  <thead>\n",
              "    <tr style=\"text-align: right;\">\n",
              "      <th></th>\n",
              "      <th>lesion_id</th>\n",
              "      <th>image_id</th>\n",
              "      <th>dx</th>\n",
              "      <th>dx_type</th>\n",
              "      <th>age</th>\n",
              "      <th>sex</th>\n",
              "      <th>localization</th>\n",
              "      <th>dataset</th>\n",
              "    </tr>\n",
              "  </thead>\n",
              "  <tbody>\n",
              "    <tr>\n",
              "      <th>0</th>\n",
              "      <td>HAM_0000118</td>\n",
              "      <td>ISIC_0027419</td>\n",
              "      <td>bkl</td>\n",
              "      <td>histo</td>\n",
              "      <td>80.0</td>\n",
              "      <td>male</td>\n",
              "      <td>scalp</td>\n",
              "      <td>vidir_modern</td>\n",
              "    </tr>\n",
              "    <tr>\n",
              "      <th>1</th>\n",
              "      <td>HAM_0000118</td>\n",
              "      <td>ISIC_0025030</td>\n",
              "      <td>bkl</td>\n",
              "      <td>histo</td>\n",
              "      <td>80.0</td>\n",
              "      <td>male</td>\n",
              "      <td>scalp</td>\n",
              "      <td>vidir_modern</td>\n",
              "    </tr>\n",
              "    <tr>\n",
              "      <th>2</th>\n",
              "      <td>HAM_0002730</td>\n",
              "      <td>ISIC_0026769</td>\n",
              "      <td>bkl</td>\n",
              "      <td>histo</td>\n",
              "      <td>80.0</td>\n",
              "      <td>male</td>\n",
              "      <td>scalp</td>\n",
              "      <td>vidir_modern</td>\n",
              "    </tr>\n",
              "    <tr>\n",
              "      <th>3</th>\n",
              "      <td>HAM_0002730</td>\n",
              "      <td>ISIC_0025661</td>\n",
              "      <td>bkl</td>\n",
              "      <td>histo</td>\n",
              "      <td>80.0</td>\n",
              "      <td>male</td>\n",
              "      <td>scalp</td>\n",
              "      <td>vidir_modern</td>\n",
              "    </tr>\n",
              "    <tr>\n",
              "      <th>4</th>\n",
              "      <td>HAM_0001466</td>\n",
              "      <td>ISIC_0031633</td>\n",
              "      <td>bkl</td>\n",
              "      <td>histo</td>\n",
              "      <td>75.0</td>\n",
              "      <td>male</td>\n",
              "      <td>ear</td>\n",
              "      <td>vidir_modern</td>\n",
              "    </tr>\n",
              "  </tbody>\n",
              "</table>\n",
              "</div>\n",
              "    <div class=\"colab-df-buttons\">\n",
              "\n",
              "  <div class=\"colab-df-container\">\n",
              "    <button class=\"colab-df-convert\" onclick=\"convertToInteractive('df-a3a3b8c3-7645-492f-82dd-0486fe6fe725')\"\n",
              "            title=\"Convert this dataframe to an interactive table.\"\n",
              "            style=\"display:none;\">\n",
              "\n",
              "  <svg xmlns=\"http://www.w3.org/2000/svg\" height=\"24px\" viewBox=\"0 -960 960 960\">\n",
              "    <path d=\"M120-120v-720h720v720H120Zm60-500h600v-160H180v160Zm220 220h160v-160H400v160Zm0 220h160v-160H400v160ZM180-400h160v-160H180v160Zm440 0h160v-160H620v160ZM180-180h160v-160H180v160Zm440 0h160v-160H620v160Z\"/>\n",
              "  </svg>\n",
              "    </button>\n",
              "\n",
              "  <style>\n",
              "    .colab-df-container {\n",
              "      display:flex;\n",
              "      gap: 12px;\n",
              "    }\n",
              "\n",
              "    .colab-df-convert {\n",
              "      background-color: #E8F0FE;\n",
              "      border: none;\n",
              "      border-radius: 50%;\n",
              "      cursor: pointer;\n",
              "      display: none;\n",
              "      fill: #1967D2;\n",
              "      height: 32px;\n",
              "      padding: 0 0 0 0;\n",
              "      width: 32px;\n",
              "    }\n",
              "\n",
              "    .colab-df-convert:hover {\n",
              "      background-color: #E2EBFA;\n",
              "      box-shadow: 0px 1px 2px rgba(60, 64, 67, 0.3), 0px 1px 3px 1px rgba(60, 64, 67, 0.15);\n",
              "      fill: #174EA6;\n",
              "    }\n",
              "\n",
              "    .colab-df-buttons div {\n",
              "      margin-bottom: 4px;\n",
              "    }\n",
              "\n",
              "    [theme=dark] .colab-df-convert {\n",
              "      background-color: #3B4455;\n",
              "      fill: #D2E3FC;\n",
              "    }\n",
              "\n",
              "    [theme=dark] .colab-df-convert:hover {\n",
              "      background-color: #434B5C;\n",
              "      box-shadow: 0px 1px 3px 1px rgba(0, 0, 0, 0.15);\n",
              "      filter: drop-shadow(0px 1px 2px rgba(0, 0, 0, 0.3));\n",
              "      fill: #FFFFFF;\n",
              "    }\n",
              "  </style>\n",
              "\n",
              "    <script>\n",
              "      const buttonEl =\n",
              "        document.querySelector('#df-a3a3b8c3-7645-492f-82dd-0486fe6fe725 button.colab-df-convert');\n",
              "      buttonEl.style.display =\n",
              "        google.colab.kernel.accessAllowed ? 'block' : 'none';\n",
              "\n",
              "      async function convertToInteractive(key) {\n",
              "        const element = document.querySelector('#df-a3a3b8c3-7645-492f-82dd-0486fe6fe725');\n",
              "        const dataTable =\n",
              "          await google.colab.kernel.invokeFunction('convertToInteractive',\n",
              "                                                    [key], {});\n",
              "        if (!dataTable) return;\n",
              "\n",
              "        const docLinkHtml = 'Like what you see? Visit the ' +\n",
              "          '<a target=\"_blank\" href=https://colab.research.google.com/notebooks/data_table.ipynb>data table notebook</a>'\n",
              "          + ' to learn more about interactive tables.';\n",
              "        element.innerHTML = '';\n",
              "        dataTable['output_type'] = 'display_data';\n",
              "        await google.colab.output.renderOutput(dataTable, element);\n",
              "        const docLink = document.createElement('div');\n",
              "        docLink.innerHTML = docLinkHtml;\n",
              "        element.appendChild(docLink);\n",
              "      }\n",
              "    </script>\n",
              "  </div>\n",
              "\n",
              "\n",
              "<div id=\"df-891d3abd-609f-46af-a882-4d985c32be23\">\n",
              "  <button class=\"colab-df-quickchart\" onclick=\"quickchart('df-891d3abd-609f-46af-a882-4d985c32be23')\"\n",
              "            title=\"Suggest charts\"\n",
              "            style=\"display:none;\">\n",
              "\n",
              "<svg xmlns=\"http://www.w3.org/2000/svg\" height=\"24px\"viewBox=\"0 0 24 24\"\n",
              "     width=\"24px\">\n",
              "    <g>\n",
              "        <path d=\"M19 3H5c-1.1 0-2 .9-2 2v14c0 1.1.9 2 2 2h14c1.1 0 2-.9 2-2V5c0-1.1-.9-2-2-2zM9 17H7v-7h2v7zm4 0h-2V7h2v10zm4 0h-2v-4h2v4z\"/>\n",
              "    </g>\n",
              "</svg>\n",
              "  </button>\n",
              "\n",
              "<style>\n",
              "  .colab-df-quickchart {\n",
              "      --bg-color: #E8F0FE;\n",
              "      --fill-color: #1967D2;\n",
              "      --hover-bg-color: #E2EBFA;\n",
              "      --hover-fill-color: #174EA6;\n",
              "      --disabled-fill-color: #AAA;\n",
              "      --disabled-bg-color: #DDD;\n",
              "  }\n",
              "\n",
              "  [theme=dark] .colab-df-quickchart {\n",
              "      --bg-color: #3B4455;\n",
              "      --fill-color: #D2E3FC;\n",
              "      --hover-bg-color: #434B5C;\n",
              "      --hover-fill-color: #FFFFFF;\n",
              "      --disabled-bg-color: #3B4455;\n",
              "      --disabled-fill-color: #666;\n",
              "  }\n",
              "\n",
              "  .colab-df-quickchart {\n",
              "    background-color: var(--bg-color);\n",
              "    border: none;\n",
              "    border-radius: 50%;\n",
              "    cursor: pointer;\n",
              "    display: none;\n",
              "    fill: var(--fill-color);\n",
              "    height: 32px;\n",
              "    padding: 0;\n",
              "    width: 32px;\n",
              "  }\n",
              "\n",
              "  .colab-df-quickchart:hover {\n",
              "    background-color: var(--hover-bg-color);\n",
              "    box-shadow: 0 1px 2px rgba(60, 64, 67, 0.3), 0 1px 3px 1px rgba(60, 64, 67, 0.15);\n",
              "    fill: var(--button-hover-fill-color);\n",
              "  }\n",
              "\n",
              "  .colab-df-quickchart-complete:disabled,\n",
              "  .colab-df-quickchart-complete:disabled:hover {\n",
              "    background-color: var(--disabled-bg-color);\n",
              "    fill: var(--disabled-fill-color);\n",
              "    box-shadow: none;\n",
              "  }\n",
              "\n",
              "  .colab-df-spinner {\n",
              "    border: 2px solid var(--fill-color);\n",
              "    border-color: transparent;\n",
              "    border-bottom-color: var(--fill-color);\n",
              "    animation:\n",
              "      spin 1s steps(1) infinite;\n",
              "  }\n",
              "\n",
              "  @keyframes spin {\n",
              "    0% {\n",
              "      border-color: transparent;\n",
              "      border-bottom-color: var(--fill-color);\n",
              "      border-left-color: var(--fill-color);\n",
              "    }\n",
              "    20% {\n",
              "      border-color: transparent;\n",
              "      border-left-color: var(--fill-color);\n",
              "      border-top-color: var(--fill-color);\n",
              "    }\n",
              "    30% {\n",
              "      border-color: transparent;\n",
              "      border-left-color: var(--fill-color);\n",
              "      border-top-color: var(--fill-color);\n",
              "      border-right-color: var(--fill-color);\n",
              "    }\n",
              "    40% {\n",
              "      border-color: transparent;\n",
              "      border-right-color: var(--fill-color);\n",
              "      border-top-color: var(--fill-color);\n",
              "    }\n",
              "    60% {\n",
              "      border-color: transparent;\n",
              "      border-right-color: var(--fill-color);\n",
              "    }\n",
              "    80% {\n",
              "      border-color: transparent;\n",
              "      border-right-color: var(--fill-color);\n",
              "      border-bottom-color: var(--fill-color);\n",
              "    }\n",
              "    90% {\n",
              "      border-color: transparent;\n",
              "      border-bottom-color: var(--fill-color);\n",
              "    }\n",
              "  }\n",
              "</style>\n",
              "\n",
              "  <script>\n",
              "    async function quickchart(key) {\n",
              "      const quickchartButtonEl =\n",
              "        document.querySelector('#' + key + ' button');\n",
              "      quickchartButtonEl.disabled = true;  // To prevent multiple clicks.\n",
              "      quickchartButtonEl.classList.add('colab-df-spinner');\n",
              "      try {\n",
              "        const charts = await google.colab.kernel.invokeFunction(\n",
              "            'suggestCharts', [key], {});\n",
              "      } catch (error) {\n",
              "        console.error('Error during call to suggestCharts:', error);\n",
              "      }\n",
              "      quickchartButtonEl.classList.remove('colab-df-spinner');\n",
              "      quickchartButtonEl.classList.add('colab-df-quickchart-complete');\n",
              "    }\n",
              "    (() => {\n",
              "      let quickchartButtonEl =\n",
              "        document.querySelector('#df-891d3abd-609f-46af-a882-4d985c32be23 button');\n",
              "      quickchartButtonEl.style.display =\n",
              "        google.colab.kernel.accessAllowed ? 'block' : 'none';\n",
              "    })();\n",
              "  </script>\n",
              "</div>\n",
              "    </div>\n",
              "  </div>\n"
            ]
          },
          "metadata": {},
          "execution_count": 9
        }
      ]
    },
    {
      "cell_type": "code",
      "source": [
        "df_data.shape"
      ],
      "metadata": {
        "colab": {
          "base_uri": "https://localhost:8080/"
        },
        "id": "ojgvv4V_qPzQ",
        "outputId": "f2b64aaa-776b-421e-f14d-3eed17517140"
      },
      "execution_count": 10,
      "outputs": [
        {
          "output_type": "execute_result",
          "data": {
            "text/plain": [
              "(10015, 8)"
            ]
          },
          "metadata": {},
          "execution_count": 10
        }
      ]
    },
    {
      "cell_type": "code",
      "source": [
        "df_data.info()"
      ],
      "metadata": {
        "colab": {
          "base_uri": "https://localhost:8080/"
        },
        "id": "b5ZZiK4nqQeo",
        "outputId": "63a45075-cbbf-4b73-a0b8-9a717ee29aac"
      },
      "execution_count": 11,
      "outputs": [
        {
          "output_type": "stream",
          "name": "stdout",
          "text": [
            "<class 'pandas.core.frame.DataFrame'>\n",
            "RangeIndex: 10015 entries, 0 to 10014\n",
            "Data columns (total 8 columns):\n",
            " #   Column        Non-Null Count  Dtype  \n",
            "---  ------        --------------  -----  \n",
            " 0   lesion_id     10015 non-null  object \n",
            " 1   image_id      10015 non-null  object \n",
            " 2   dx            10015 non-null  object \n",
            " 3   dx_type       10015 non-null  object \n",
            " 4   age           9958 non-null   float64\n",
            " 5   sex           10015 non-null  object \n",
            " 6   localization  10015 non-null  object \n",
            " 7   dataset       10015 non-null  object \n",
            "dtypes: float64(1), object(7)\n",
            "memory usage: 626.1+ KB\n"
          ]
        }
      ]
    },
    {
      "cell_type": "code",
      "source": [
        "#HAM1000 attributes basic analysis\n",
        "print('unique lesion_id records:' ,df_data.lesion_id.nunique())\n",
        "print('unique image_id records:' ,df_data.image_id.nunique())\n",
        "print('unique dx records:' ,df_data.dx.nunique())\n",
        "print('unique dx_type records:' ,df_data.dx_type.nunique())\n",
        "print('unique  age records:' ,df_data.age.nunique())\n",
        "print('unique  sex records:' ,df_data.sex.nunique())\n",
        "print('unique  localization records:' ,df_data.localization.nunique())\n",
        "print('unique   dataset records:' ,df_data. dataset.nunique())"
      ],
      "metadata": {
        "colab": {
          "base_uri": "https://localhost:8080/"
        },
        "id": "u9t8tUcHqUgb",
        "outputId": "98da1dff-bd22-49a1-be3f-4267fe003c5e"
      },
      "execution_count": 12,
      "outputs": [
        {
          "output_type": "stream",
          "name": "stdout",
          "text": [
            "unique lesion_id records: 7470\n",
            "unique image_id records: 10015\n",
            "unique dx records: 7\n",
            "unique dx_type records: 4\n",
            "unique  age records: 18\n",
            "unique  sex records: 3\n",
            "unique  localization records: 15\n",
            "unique   dataset records: 4\n"
          ]
        }
      ]
    },
    {
      "cell_type": "code",
      "source": [
        "#Sorting the dataset based on Lesion_Id\n",
        "df_data = df_data.sort_values(by='lesion_id')"
      ],
      "metadata": {
        "id": "HH9rgm_lJPiW"
      },
      "execution_count": 13,
      "outputs": []
    },
    {
      "cell_type": "code",
      "source": [
        "# Train , Test and Validation Split Ratio\n",
        "train_ratio = 0.7  # 70% of the data for training\n",
        "test_ratio = 0.15  # 15% of the data for testing\n",
        "val_ratio = 0.15   # 15% of the data for validation"
      ],
      "metadata": {
        "id": "EWRBCNgbI_zB"
      },
      "execution_count": 14,
      "outputs": []
    },
    {
      "cell_type": "code",
      "source": [
        "# Split the DataFrame into train, test, and validation dataframes\n",
        "df_train, test_val_df = train_test_split(df_data, test_size=(test_ratio + val_ratio), random_state=42)\n",
        "df_test, df_val = train_test_split(test_val_df, test_size=(val_ratio / (test_ratio + val_ratio)), random_state=42)\n"
      ],
      "metadata": {
        "id": "B-LKzCNEJC3n"
      },
      "execution_count": 15,
      "outputs": []
    },
    {
      "cell_type": "code",
      "source": [
        "#Length of Data Frame\n",
        "print('Length of df_train:',len(df_train))\n",
        "print('Length of df_val:',len(df_val))\n",
        "print('Length of df_test:',len(df_test))"
      ],
      "metadata": {
        "id": "TvivLVtyJrSV",
        "colab": {
          "base_uri": "https://localhost:8080/"
        },
        "outputId": "85b5eb14-069f-4e89-dfa0-29a93a2742ec"
      },
      "execution_count": 16,
      "outputs": [
        {
          "output_type": "stream",
          "name": "stdout",
          "text": [
            "Length of df_train: 7010\n",
            "Length of df_val: 1503\n",
            "Length of df_test: 1502\n"
          ]
        }
      ]
    },
    {
      "cell_type": "code",
      "source": [
        "#Training set unique class values\n",
        "df_train['dx'].value_counts()"
      ],
      "metadata": {
        "id": "lSveIm-QJ7AY",
        "colab": {
          "base_uri": "https://localhost:8080/"
        },
        "outputId": "1a6bced2-3638-40c3-a793-db6752ac053e"
      },
      "execution_count": 17,
      "outputs": [
        {
          "output_type": "execute_result",
          "data": {
            "text/plain": [
              "nv       4647\n",
              "bkl       799\n",
              "mel       790\n",
              "bcc       362\n",
              "akiec     228\n",
              "vasc      100\n",
              "df         84\n",
              "Name: dx, dtype: int64"
            ]
          },
          "metadata": {},
          "execution_count": 17
        }
      ]
    },
    {
      "cell_type": "code",
      "source": [
        "#Validation set unique class values\n",
        "df_val['dx'].value_counts()"
      ],
      "metadata": {
        "id": "mrWYmFc_J-lk",
        "colab": {
          "base_uri": "https://localhost:8080/"
        },
        "outputId": "65e345bc-463e-46e5-c1d3-278d929cda09"
      },
      "execution_count": 18,
      "outputs": [
        {
          "output_type": "execute_result",
          "data": {
            "text/plain": [
              "nv       1015\n",
              "mel       182\n",
              "bkl       151\n",
              "bcc        70\n",
              "akiec      54\n",
              "vasc       18\n",
              "df         13\n",
              "Name: dx, dtype: int64"
            ]
          },
          "metadata": {},
          "execution_count": 18
        }
      ]
    },
    {
      "cell_type": "code",
      "source": [
        "#Test set unique class values\n",
        "df_test['dx'].value_counts()"
      ],
      "metadata": {
        "id": "A-USUIghKCaW",
        "colab": {
          "base_uri": "https://localhost:8080/"
        },
        "outputId": "d1a4462a-ce1b-4bf1-f436-ab9230c410c5"
      },
      "execution_count": 19,
      "outputs": [
        {
          "output_type": "execute_result",
          "data": {
            "text/plain": [
              "nv       1043\n",
              "bkl       149\n",
              "mel       141\n",
              "bcc        82\n",
              "akiec      45\n",
              "vasc       24\n",
              "df         18\n",
              "Name: dx, dtype: int64"
            ]
          },
          "metadata": {},
          "execution_count": 19
        }
      ]
    },
    {
      "cell_type": "markdown",
      "source": [
        "**IMAGES COPY FROM SOURCE TO DESTINATION**"
      ],
      "metadata": {
        "id": "DuzHEhT80dmD"
      }
    },
    {
      "cell_type": "code",
      "source": [
        "# Get a list of images from HAM folder in Google Drive\n",
        "folder = os.listdir('/content/drive/MyDrive/DISSERTATION/HAM10000_DATASET/ALL_TRAIN_IMAGES')\n",
        "\n",
        "# Get a list of train ,test and val images\n",
        "train_list = list(df_train['image_id'])\n",
        "val_list = list(df_val['image_id'])\n",
        "test_list = list(df_test['image_id'])"
      ],
      "metadata": {
        "id": "rmJwMCb0KJw6"
      },
      "execution_count": 20,
      "outputs": []
    },
    {
      "cell_type": "code",
      "source": [
        "#Moving the images from google dir to train_dir\n",
        "for image in train_list:\n",
        "\n",
        "    fname = image + '.jpg'\n",
        "    #label = df_data.loc[image,'dx']\n",
        "    label=df_data.loc[df_data['image_id'] == image, 'dx'].values[0]\n",
        "\n",
        "\n",
        "    if fname in folder:\n",
        "        # source path to image\n",
        "        src = os.path.join('/content/drive/MyDrive/DISSERTATION/HAM10000_DATASET/ALL_TRAIN_IMAGES', fname)\n",
        "        # destination path to image\n",
        "        dst = os.path.join(train_dir, label, fname)\n",
        "        # copy the image from the source to the destination\n",
        "        shutil.copyfile(src, dst)"
      ],
      "metadata": {
        "id": "3GLCFhjZKvnA"
      },
      "execution_count": 21,
      "outputs": []
    },
    {
      "cell_type": "code",
      "source": [
        "#Moving the images from google dir to val_dir\n",
        "for image in val_list:\n",
        "\n",
        "    fname = image + '.jpg'\n",
        "    #label = df_data.loc[image,'dx']\n",
        "    label=df_data.loc[df_data['image_id'] == image, 'dx'].values[0]\n",
        "\n",
        "    if fname in folder:\n",
        "        # source path to image\n",
        "        src = os.path.join('/content/drive/MyDrive/DISSERTATION/HAM10000_DATASET/ALL_TRAIN_IMAGES', fname)\n",
        "        # destination path to image\n",
        "        dst = os.path.join(val_dir, label, fname)\n",
        "        # copy the image from the source to the destination\n",
        "        shutil.copyfile(src, dst)"
      ],
      "metadata": {
        "id": "AK4R4YFPLUTL"
      },
      "execution_count": 22,
      "outputs": []
    },
    {
      "cell_type": "code",
      "source": [
        "#Moving the images from google dir to test_dir\n",
        "for image in test_list:\n",
        "\n",
        "    fname = image + '.jpg'\n",
        "    #label = df_data.loc[image,'dx']\n",
        "    label=df_data.loc[df_data['image_id'] == image, 'dx'].values[0]\n",
        "\n",
        "    if fname in folder:\n",
        "        # source path to image\n",
        "        src = os.path.join('/content/drive/MyDrive/DISSERTATION/HAM10000_DATASET/ALL_TRAIN_IMAGES', fname)\n",
        "        # destination path to image\n",
        "        dst = os.path.join(test_dir, label, fname)\n",
        "        # copy the image from the source to the destination\n",
        "        shutil.copyfile(src, dst)"
      ],
      "metadata": {
        "id": "Nc2OrFzyLmN8"
      },
      "execution_count": 23,
      "outputs": []
    },
    {
      "cell_type": "code",
      "source": [
        "# Determine the count of training images present in each directory.\n",
        "\n",
        "print('nv:',len(os.listdir('skin_dense_base_dir/train_dir/nv')))\n",
        "print('mel:',len(os.listdir('skin_dense_base_dir/train_dir/mel')))\n",
        "print('bkl:',len(os.listdir('skin_dense_base_dir/train_dir/bkl')))\n",
        "print('bcc:',len(os.listdir('skin_dense_base_dir/train_dir/bcc')))\n",
        "print('akiec:',len(os.listdir('skin_dense_base_dir/train_dir/akiec')))\n",
        "print('vasc:',len(os.listdir('skin_dense_base_dir/train_dir/vasc')))\n",
        "print('df:',len(os.listdir('skin_dense_base_dir/train_dir/df')))"
      ],
      "metadata": {
        "id": "Bg7TmBR6NAoB",
        "colab": {
          "base_uri": "https://localhost:8080/"
        },
        "outputId": "692ca016-dbaa-43f6-8def-f031b03d0a03"
      },
      "execution_count": 24,
      "outputs": [
        {
          "output_type": "stream",
          "name": "stdout",
          "text": [
            "nv: 4647\n",
            "mel: 790\n",
            "bkl: 799\n",
            "bcc: 362\n",
            "akiec: 228\n",
            "vasc: 100\n",
            "df: 84\n"
          ]
        }
      ]
    },
    {
      "cell_type": "code",
      "source": [
        "# Determine the count of val images present in each directory.\n",
        "\n",
        "print('nv:',len(os.listdir('skin_dense_base_dir/val_dir/nv')))\n",
        "print('mel:',len(os.listdir('skin_dense_base_dir/val_dir/mel')))\n",
        "print('bkl:',len(os.listdir('skin_dense_base_dir/val_dir/bkl')))\n",
        "print('bcc:',len(os.listdir('skin_dense_base_dir/val_dir/bcc')))\n",
        "print('akiec:',len(os.listdir('skin_dense_base_dir/val_dir/akiec')))\n",
        "print('vasc:',len(os.listdir('skin_dense_base_dir/val_dir/vasc')))\n",
        "print('df:',len(os.listdir('skin_dense_base_dir/val_dir/df')))"
      ],
      "metadata": {
        "id": "T8_mrnwmNBRU",
        "colab": {
          "base_uri": "https://localhost:8080/"
        },
        "outputId": "d38a4a58-09b6-456c-b22e-aa93bcfdcaac"
      },
      "execution_count": 25,
      "outputs": [
        {
          "output_type": "stream",
          "name": "stdout",
          "text": [
            "nv: 1015\n",
            "mel: 182\n",
            "bkl: 151\n",
            "bcc: 70\n",
            "akiec: 54\n",
            "vasc: 18\n",
            "df: 13\n"
          ]
        }
      ]
    },
    {
      "cell_type": "code",
      "source": [
        "# Check how many test images we have in each folder.\n",
        "\n",
        "print('nv:',len(os.listdir('skin_dense_base_dir/test_dir/nv')))\n",
        "print('mel:',len(os.listdir('skin_dense_base_dir/test_dir/mel')))\n",
        "print('bkl:',len(os.listdir('skin_dense_base_dir/test_dir/bkl')))\n",
        "print('bcc:',len(os.listdir('skin_dense_base_dir/test_dir/bcc')))\n",
        "print('akiec:',len(os.listdir('skin_dense_base_dir/test_dir/akiec')))\n",
        "print('vasc:',len(os.listdir('skin_dense_base_dir/test_dir/vasc')))\n",
        "print('df:',len(os.listdir('skin_dense_base_dir/test_dir/df')))"
      ],
      "metadata": {
        "id": "BRMVjw1ANDzG",
        "colab": {
          "base_uri": "https://localhost:8080/"
        },
        "outputId": "f36feab5-cb8c-480a-82f6-7871f1f92fb4"
      },
      "execution_count": 26,
      "outputs": [
        {
          "output_type": "stream",
          "name": "stdout",
          "text": [
            "nv: 1043\n",
            "mel: 141\n",
            "bkl: 149\n",
            "bcc: 82\n",
            "akiec: 45\n",
            "vasc: 24\n",
            "df: 18\n"
          ]
        }
      ]
    },
    {
      "cell_type": "code",
      "source": [
        "densenet_model = tf.keras.models.load_model('/content/drive/MyDrive/DISSERTATION/HAM10000_DATASET/MODEL_OUTPUTS/SKIN_CANCER_DENSENET_201_Final_Model.h5')"
      ],
      "metadata": {
        "id": "c41RlSMF2zbR"
      },
      "execution_count": 27,
      "outputs": []
    },
    {
      "cell_type": "code",
      "source": [
        "# Get the list of class names (subfolders)\n",
        "class_names = sorted(os.listdir(test_dir))\n",
        "class_names"
      ],
      "metadata": {
        "colab": {
          "base_uri": "https://localhost:8080/"
        },
        "id": "Am93CSgM2gj5",
        "outputId": "31570956-702f-43ef-9210-d05f597fa185"
      },
      "execution_count": 28,
      "outputs": [
        {
          "output_type": "execute_result",
          "data": {
            "text/plain": [
              "['akiec', 'bcc', 'bkl', 'df', 'mel', 'nv', 'vasc']"
            ]
          },
          "metadata": {},
          "execution_count": 28
        }
      ]
    },
    {
      "cell_type": "code",
      "source": [
        "# Get the list of class names (subfolders)\n",
        "class_names = sorted(os.listdir(test_dir))\n",
        "class_names"
      ],
      "metadata": {
        "id": "SbxEJqrm5RKg",
        "colab": {
          "base_uri": "https://localhost:8080/"
        },
        "outputId": "8f42d346-7ff3-465f-f0dd-104e618d3e07"
      },
      "execution_count": 29,
      "outputs": [
        {
          "output_type": "execute_result",
          "data": {
            "text/plain": [
              "['akiec', 'bcc', 'bkl', 'df', 'mel', 'nv', 'vasc']"
            ]
          },
          "metadata": {},
          "execution_count": 29
        }
      ]
    },
    {
      "cell_type": "code",
      "source": [],
      "metadata": {
        "id": "9q-EhUKQEIOM"
      },
      "execution_count": 30,
      "outputs": []
    },
    {
      "cell_type": "code",
      "source": [
        "# Sample Image prediction\n",
        "for class_name in class_names:\n",
        "    class_path = os.path.join(test_dir, class_name)\n",
        "    image_files = [f for f in os.listdir(class_path) if f.endswith(('.jpg', '.jpeg', '.png'))]"
      ],
      "metadata": {
        "id": "xIpEBFMD2roz"
      },
      "execution_count": 34,
      "outputs": []
    },
    {
      "cell_type": "code",
      "source": [
        "image_files"
      ],
      "metadata": {
        "colab": {
          "base_uri": "https://localhost:8080/"
        },
        "id": "8LXxiDc5HUBk",
        "outputId": "523e927e-54b1-4f46-cbdc-c72e1cefb99f"
      },
      "execution_count": 35,
      "outputs": [
        {
          "output_type": "execute_result",
          "data": {
            "text/plain": [
              "['ISIC_0025596.jpg',\n",
              " 'ISIC_0025599.jpg',\n",
              " 'ISIC_0033158.jpg',\n",
              " 'ISIC_0033123.jpg',\n",
              " 'ISIC_0026876.jpg',\n",
              " 'ISIC_0030283.jpg',\n",
              " 'ISIC_0030722.jpg',\n",
              " 'ISIC_0031648.jpg',\n",
              " 'ISIC_0032932.jpg',\n",
              " 'ISIC_0024402.jpg',\n",
              " 'ISIC_0032076.jpg',\n",
              " 'ISIC_0031217.jpg',\n",
              " 'ISIC_0032409.jpg',\n",
              " 'ISIC_0027159.jpg',\n",
              " 'ISIC_0031950.jpg',\n",
              " 'ISIC_0026393.jpg',\n",
              " 'ISIC_0029099.jpg',\n",
              " 'ISIC_0027385.jpg',\n",
              " 'ISIC_0033092.jpg',\n",
              " 'ISIC_0033817.jpg',\n",
              " 'ISIC_0028680.jpg',\n",
              " 'ISIC_0033749.jpg',\n",
              " 'ISIC_0034214.jpg',\n",
              " 'ISIC_0025578.jpg']"
            ]
          },
          "metadata": {},
          "execution_count": 35
        }
      ]
    },
    {
      "cell_type": "code",
      "source": [
        "from keras.preprocessing import image"
      ],
      "metadata": {
        "id": "Eb_iGQ6gHl-E"
      },
      "execution_count": 36,
      "outputs": []
    },
    {
      "cell_type": "code",
      "source": [
        "for image_file in image_files:\n",
        "    image_path = os.path.join(class_path, image_file)\n",
        "\n",
        "    img = image.load_img(image_path, target_size=(224, 224))\n",
        "    img_array = image.img_to_array(img)\n",
        "    img_array = np.expand_dims(img_array, axis=0)\n",
        "    img_array = preprocess_input(img_array)\n",
        "\n",
        "    image_files_without_extension = image_file.split('.')\n",
        "    predictions = densenet_model.predict(img_array)\n",
        "    class_index = np.argmax(predictions, axis=1)[0]\n",
        "\n",
        "    # Print the predicted class index and class name\n",
        "    print(f\"Image: {image_file}, Predicted Class: {class_names[class_index]}\")\n",
        "    print('Actual Class ',df_data[df_data['image_id'] == image_files_without_extension[0]]['dx'])"
      ],
      "metadata": {
        "colab": {
          "base_uri": "https://localhost:8080/"
        },
        "id": "b5zXuNJ2HSvt",
        "outputId": "03d58687-6923-4447-808e-d067fd9a828e"
      },
      "execution_count": 37,
      "outputs": [
        {
          "output_type": "stream",
          "name": "stdout",
          "text": [
            "1/1 [==============================] - 8s 8s/step\n",
            "Image: ISIC_0025596.jpg, Predicted Class: vasc\n",
            "Actual Class  2420    vasc\n",
            "Name: dx, dtype: object\n",
            "1/1 [==============================] - 0s 38ms/step\n",
            "Image: ISIC_0025599.jpg, Predicted Class: vasc\n",
            "Actual Class  2333    vasc\n",
            "Name: dx, dtype: object\n",
            "1/1 [==============================] - 0s 38ms/step\n",
            "Image: ISIC_0033158.jpg, Predicted Class: vasc\n",
            "Actual Class  2357    vasc\n",
            "Name: dx, dtype: object\n",
            "1/1 [==============================] - 0s 36ms/step\n",
            "Image: ISIC_0033123.jpg, Predicted Class: vasc\n",
            "Actual Class  2375    vasc\n",
            "Name: dx, dtype: object\n",
            "1/1 [==============================] - 0s 36ms/step\n",
            "Image: ISIC_0026876.jpg, Predicted Class: vasc\n",
            "Actual Class  2388    vasc\n",
            "Name: dx, dtype: object\n",
            "1/1 [==============================] - 0s 38ms/step\n",
            "Image: ISIC_0030283.jpg, Predicted Class: vasc\n",
            "Actual Class  2411    vasc\n",
            "Name: dx, dtype: object\n",
            "1/1 [==============================] - 0s 36ms/step\n",
            "Image: ISIC_0030722.jpg, Predicted Class: vasc\n",
            "Actual Class  2387    vasc\n",
            "Name: dx, dtype: object\n",
            "1/1 [==============================] - 0s 35ms/step\n",
            "Image: ISIC_0031648.jpg, Predicted Class: mel\n",
            "Actual Class  2373    vasc\n",
            "Name: dx, dtype: object\n",
            "1/1 [==============================] - 0s 35ms/step\n",
            "Image: ISIC_0032932.jpg, Predicted Class: vasc\n",
            "Actual Class  2404    vasc\n",
            "Name: dx, dtype: object\n",
            "1/1 [==============================] - 0s 34ms/step\n",
            "Image: ISIC_0024402.jpg, Predicted Class: vasc\n",
            "Actual Class  2398    vasc\n",
            "Name: dx, dtype: object\n",
            "1/1 [==============================] - 0s 34ms/step\n",
            "Image: ISIC_0032076.jpg, Predicted Class: vasc\n",
            "Actual Class  2324    vasc\n",
            "Name: dx, dtype: object\n",
            "1/1 [==============================] - 0s 35ms/step\n",
            "Image: ISIC_0031217.jpg, Predicted Class: vasc\n",
            "Actual Class  2332    vasc\n",
            "Name: dx, dtype: object\n",
            "1/1 [==============================] - 0s 34ms/step\n",
            "Image: ISIC_0032409.jpg, Predicted Class: vasc\n",
            "Actual Class  2417    vasc\n",
            "Name: dx, dtype: object\n",
            "1/1 [==============================] - 0s 36ms/step\n",
            "Image: ISIC_0027159.jpg, Predicted Class: vasc\n",
            "Actual Class  2385    vasc\n",
            "Name: dx, dtype: object\n",
            "1/1 [==============================] - 0s 36ms/step\n",
            "Image: ISIC_0031950.jpg, Predicted Class: vasc\n",
            "Actual Class  2383    vasc\n",
            "Name: dx, dtype: object\n",
            "1/1 [==============================] - 0s 36ms/step\n",
            "Image: ISIC_0026393.jpg, Predicted Class: vasc\n",
            "Actual Class  2428    vasc\n",
            "Name: dx, dtype: object\n",
            "1/1 [==============================] - 0s 35ms/step\n",
            "Image: ISIC_0029099.jpg, Predicted Class: vasc\n",
            "Actual Class  2444    vasc\n",
            "Name: dx, dtype: object\n",
            "1/1 [==============================] - 0s 34ms/step\n",
            "Image: ISIC_0027385.jpg, Predicted Class: vasc\n",
            "Actual Class  2344    vasc\n",
            "Name: dx, dtype: object\n",
            "1/1 [==============================] - 0s 35ms/step\n",
            "Image: ISIC_0033092.jpg, Predicted Class: vasc\n",
            "Actual Class  2352    vasc\n",
            "Name: dx, dtype: object\n",
            "1/1 [==============================] - 0s 36ms/step\n",
            "Image: ISIC_0033817.jpg, Predicted Class: vasc\n",
            "Actual Class  2402    vasc\n",
            "Name: dx, dtype: object\n",
            "1/1 [==============================] - 0s 35ms/step\n",
            "Image: ISIC_0028680.jpg, Predicted Class: vasc\n",
            "Actual Class  2418    vasc\n",
            "Name: dx, dtype: object\n",
            "1/1 [==============================] - 0s 35ms/step\n",
            "Image: ISIC_0033749.jpg, Predicted Class: vasc\n",
            "Actual Class  2379    vasc\n",
            "Name: dx, dtype: object\n",
            "1/1 [==============================] - 0s 35ms/step\n",
            "Image: ISIC_0034214.jpg, Predicted Class: vasc\n",
            "Actual Class  2378    vasc\n",
            "Name: dx, dtype: object\n",
            "1/1 [==============================] - 0s 37ms/step\n",
            "Image: ISIC_0025578.jpg, Predicted Class: vasc\n",
            "Actual Class  2334    vasc\n",
            "Name: dx, dtype: object\n"
          ]
        }
      ]
    }
  ]
}
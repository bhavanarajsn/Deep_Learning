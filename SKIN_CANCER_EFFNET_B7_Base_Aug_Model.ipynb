{
  "nbformat": 4,
  "nbformat_minor": 0,
  "metadata": {
    "colab": {
      "provenance": [],
      "machine_shape": "hm",
      "gpuType": "T4"
    },
    "kernelspec": {
      "name": "python3",
      "display_name": "Python 3"
    },
    "language_info": {
      "name": "python"
    },
    "accelerator": "GPU"
  },
  "cells": [
    {
      "cell_type": "markdown",
      "source": [
        "**DRIVE MOUNT**"
      ],
      "metadata": {
        "id": "cK-4KCYlij7-"
      }
    },
    {
      "cell_type": "code",
      "execution_count": null,
      "metadata": {
        "id": "jzmCRYGw0QoF",
        "colab": {
          "base_uri": "https://localhost:8080/"
        },
        "outputId": "791b8141-b2fc-465c-f64e-8c150d3bb4b9"
      },
      "outputs": [
        {
          "output_type": "stream",
          "name": "stdout",
          "text": [
            "Mounted at /content/drive\n"
          ]
        }
      ],
      "source": [
        "#Mounting Google Drive in Colab notebook\n",
        "from google.colab import drive\n",
        "import numpy as np\n",
        "drive.mount('/content/drive')"
      ]
    },
    {
      "cell_type": "code",
      "source": [
        "import datetime\n",
        "import pytz\n",
        "\n",
        "london_timezone = pytz.timezone('Europe/London')\n",
        "current_time_london = datetime.datetime.now(london_timezone)\n",
        "print(\"Current Date and Time in London:\", current_time_london.strftime(\"%Y-%m-%d %H:%M:%S %Z\"))"
      ],
      "metadata": {
        "colab": {
          "base_uri": "https://localhost:8080/"
        },
        "id": "tiL3uIUcZWZl",
        "outputId": "7951b187-5ad9-420a-8f58-64d35644c2f4"
      },
      "execution_count": null,
      "outputs": [
        {
          "output_type": "stream",
          "name": "stdout",
          "text": [
            "Current Date and Time in London: 2023-12-06 17:33:49 GMT\n"
          ]
        }
      ]
    },
    {
      "cell_type": "markdown",
      "source": [
        "**LIBRARY IMPORTS**"
      ],
      "metadata": {
        "id": "EVGhI9W6izJf"
      }
    },
    {
      "cell_type": "code",
      "source": [
        "pip uninstall tensorflow"
      ],
      "metadata": {
        "colab": {
          "base_uri": "https://localhost:8080/"
        },
        "id": "xYHsjNZw30Fc",
        "outputId": "a4297c01-2d7a-4478-82e5-5530cd87ec65"
      },
      "execution_count": null,
      "outputs": [
        {
          "output_type": "stream",
          "name": "stdout",
          "text": [
            "Found existing installation: tensorflow 2.14.0\n",
            "Uninstalling tensorflow-2.14.0:\n",
            "  Would remove:\n",
            "    /usr/local/bin/estimator_ckpt_converter\n",
            "    /usr/local/bin/import_pb_to_tensorboard\n",
            "    /usr/local/bin/saved_model_cli\n",
            "    /usr/local/bin/tensorboard\n",
            "    /usr/local/bin/tf_upgrade_v2\n",
            "    /usr/local/bin/tflite_convert\n",
            "    /usr/local/bin/toco\n",
            "    /usr/local/bin/toco_from_protos\n",
            "    /usr/local/lib/python3.10/dist-packages/tensorflow-2.14.0.dist-info/*\n",
            "    /usr/local/lib/python3.10/dist-packages/tensorflow/*\n",
            "Proceed (Y/n)? y\n",
            "\n",
            "  Successfully uninstalled tensorflow-2.14.0\n"
          ]
        }
      ]
    },
    {
      "cell_type": "code",
      "source": [
        "pip install tensorflow==2.9.1"
      ],
      "metadata": {
        "colab": {
          "base_uri": "https://localhost:8080/",
          "height": 1000
        },
        "id": "i-Q0HgX933WD",
        "outputId": "ed74d252-d491-4c72-f8e8-75a7537afb3b"
      },
      "execution_count": null,
      "outputs": [
        {
          "output_type": "stream",
          "name": "stdout",
          "text": [
            "Collecting tensorflow==2.9.1\n",
            "  Downloading tensorflow-2.9.1-cp310-cp310-manylinux_2_17_x86_64.manylinux2014_x86_64.whl (511.7 MB)\n",
            "\u001b[2K     \u001b[90m━━━━━━━━━━━━━━━━━━━━━━━━━━━━━━━━━━━━━━━━\u001b[0m \u001b[32m511.7/511.7 MB\u001b[0m \u001b[31m2.7 MB/s\u001b[0m eta \u001b[36m0:00:00\u001b[0m\n",
            "\u001b[?25hRequirement already satisfied: absl-py>=1.0.0 in /usr/local/lib/python3.10/dist-packages (from tensorflow==2.9.1) (1.4.0)\n",
            "Requirement already satisfied: astunparse>=1.6.0 in /usr/local/lib/python3.10/dist-packages (from tensorflow==2.9.1) (1.6.3)\n",
            "Collecting flatbuffers<2,>=1.12 (from tensorflow==2.9.1)\n",
            "  Downloading flatbuffers-1.12-py2.py3-none-any.whl (15 kB)\n",
            "Collecting gast<=0.4.0,>=0.2.1 (from tensorflow==2.9.1)\n",
            "  Downloading gast-0.4.0-py3-none-any.whl (9.8 kB)\n",
            "Requirement already satisfied: google-pasta>=0.1.1 in /usr/local/lib/python3.10/dist-packages (from tensorflow==2.9.1) (0.2.0)\n",
            "Requirement already satisfied: grpcio<2.0,>=1.24.3 in /usr/local/lib/python3.10/dist-packages (from tensorflow==2.9.1) (1.59.3)\n",
            "Requirement already satisfied: h5py>=2.9.0 in /usr/local/lib/python3.10/dist-packages (from tensorflow==2.9.1) (3.9.0)\n",
            "Collecting keras<2.10.0,>=2.9.0rc0 (from tensorflow==2.9.1)\n",
            "  Downloading keras-2.9.0-py2.py3-none-any.whl (1.6 MB)\n",
            "\u001b[2K     \u001b[90m━━━━━━━━━━━━━━━━━━━━━━━━━━━━━━━━━━━━━━━━\u001b[0m \u001b[32m1.6/1.6 MB\u001b[0m \u001b[31m65.7 MB/s\u001b[0m eta \u001b[36m0:00:00\u001b[0m\n",
            "\u001b[?25hCollecting keras-preprocessing>=1.1.1 (from tensorflow==2.9.1)\n",
            "  Downloading Keras_Preprocessing-1.1.2-py2.py3-none-any.whl (42 kB)\n",
            "\u001b[2K     \u001b[90m━━━━━━━━━━━━━━━━━━━━━━━━━━━━━━━━━━━━━━━━\u001b[0m \u001b[32m42.6/42.6 kB\u001b[0m \u001b[31m6.2 MB/s\u001b[0m eta \u001b[36m0:00:00\u001b[0m\n",
            "\u001b[?25hRequirement already satisfied: libclang>=13.0.0 in /usr/local/lib/python3.10/dist-packages (from tensorflow==2.9.1) (16.0.6)\n",
            "Requirement already satisfied: numpy>=1.20 in /usr/local/lib/python3.10/dist-packages (from tensorflow==2.9.1) (1.23.5)\n",
            "Requirement already satisfied: opt-einsum>=2.3.2 in /usr/local/lib/python3.10/dist-packages (from tensorflow==2.9.1) (3.3.0)\n",
            "Requirement already satisfied: packaging in /usr/local/lib/python3.10/dist-packages (from tensorflow==2.9.1) (23.2)\n",
            "Collecting protobuf<3.20,>=3.9.2 (from tensorflow==2.9.1)\n",
            "  Downloading protobuf-3.19.6-cp310-cp310-manylinux_2_17_x86_64.manylinux2014_x86_64.whl (1.1 MB)\n",
            "\u001b[2K     \u001b[90m━━━━━━━━━━━━━━━━━━━━━━━━━━━━━━━━━━━━━━━━\u001b[0m \u001b[32m1.1/1.1 MB\u001b[0m \u001b[31m76.2 MB/s\u001b[0m eta \u001b[36m0:00:00\u001b[0m\n",
            "\u001b[?25hRequirement already satisfied: setuptools in /usr/local/lib/python3.10/dist-packages (from tensorflow==2.9.1) (67.7.2)\n",
            "Requirement already satisfied: six>=1.12.0 in /usr/local/lib/python3.10/dist-packages (from tensorflow==2.9.1) (1.16.0)\n",
            "Collecting tensorboard<2.10,>=2.9 (from tensorflow==2.9.1)\n",
            "  Downloading tensorboard-2.9.1-py3-none-any.whl (5.8 MB)\n",
            "\u001b[2K     \u001b[90m━━━━━━━━━━━━━━━━━━━━━━━━━━━━━━━━━━━━━━━━\u001b[0m \u001b[32m5.8/5.8 MB\u001b[0m \u001b[31m79.6 MB/s\u001b[0m eta \u001b[36m0:00:00\u001b[0m\n",
            "\u001b[?25hRequirement already satisfied: tensorflow-io-gcs-filesystem>=0.23.1 in /usr/local/lib/python3.10/dist-packages (from tensorflow==2.9.1) (0.34.0)\n",
            "Collecting tensorflow-estimator<2.10.0,>=2.9.0rc0 (from tensorflow==2.9.1)\n",
            "  Downloading tensorflow_estimator-2.9.0-py2.py3-none-any.whl (438 kB)\n",
            "\u001b[2K     \u001b[90m━━━━━━━━━━━━━━━━━━━━━━━━━━━━━━━━━━━━━━━━\u001b[0m \u001b[32m438.7/438.7 kB\u001b[0m \u001b[31m49.0 MB/s\u001b[0m eta \u001b[36m0:00:00\u001b[0m\n",
            "\u001b[?25hRequirement already satisfied: termcolor>=1.1.0 in /usr/local/lib/python3.10/dist-packages (from tensorflow==2.9.1) (2.3.0)\n",
            "Requirement already satisfied: typing-extensions>=3.6.6 in /usr/local/lib/python3.10/dist-packages (from tensorflow==2.9.1) (4.5.0)\n",
            "Requirement already satisfied: wrapt>=1.11.0 in /usr/local/lib/python3.10/dist-packages (from tensorflow==2.9.1) (1.14.1)\n",
            "Requirement already satisfied: wheel<1.0,>=0.23.0 in /usr/local/lib/python3.10/dist-packages (from astunparse>=1.6.0->tensorflow==2.9.1) (0.42.0)\n",
            "Requirement already satisfied: google-auth<3,>=1.6.3 in /usr/local/lib/python3.10/dist-packages (from tensorboard<2.10,>=2.9->tensorflow==2.9.1) (2.17.3)\n",
            "Collecting google-auth-oauthlib<0.5,>=0.4.1 (from tensorboard<2.10,>=2.9->tensorflow==2.9.1)\n",
            "  Downloading google_auth_oauthlib-0.4.6-py2.py3-none-any.whl (18 kB)\n",
            "Requirement already satisfied: markdown>=2.6.8 in /usr/local/lib/python3.10/dist-packages (from tensorboard<2.10,>=2.9->tensorflow==2.9.1) (3.5.1)\n",
            "Requirement already satisfied: requests<3,>=2.21.0 in /usr/local/lib/python3.10/dist-packages (from tensorboard<2.10,>=2.9->tensorflow==2.9.1) (2.31.0)\n",
            "Collecting tensorboard-data-server<0.7.0,>=0.6.0 (from tensorboard<2.10,>=2.9->tensorflow==2.9.1)\n",
            "  Downloading tensorboard_data_server-0.6.1-py3-none-manylinux2010_x86_64.whl (4.9 MB)\n",
            "\u001b[2K     \u001b[90m━━━━━━━━━━━━━━━━━━━━━━━━━━━━━━━━━━━━━━━━\u001b[0m \u001b[32m4.9/4.9 MB\u001b[0m \u001b[31m106.0 MB/s\u001b[0m eta \u001b[36m0:00:00\u001b[0m\n",
            "\u001b[?25hCollecting tensorboard-plugin-wit>=1.6.0 (from tensorboard<2.10,>=2.9->tensorflow==2.9.1)\n",
            "  Downloading tensorboard_plugin_wit-1.8.1-py3-none-any.whl (781 kB)\n",
            "\u001b[2K     \u001b[90m━━━━━━━━━━━━━━━━━━━━━━━━━━━━━━━━━━━━━━━━\u001b[0m \u001b[32m781.3/781.3 kB\u001b[0m \u001b[31m55.5 MB/s\u001b[0m eta \u001b[36m0:00:00\u001b[0m\n",
            "\u001b[?25hRequirement already satisfied: werkzeug>=1.0.1 in /usr/local/lib/python3.10/dist-packages (from tensorboard<2.10,>=2.9->tensorflow==2.9.1) (3.0.1)\n",
            "Requirement already satisfied: cachetools<6.0,>=2.0.0 in /usr/local/lib/python3.10/dist-packages (from google-auth<3,>=1.6.3->tensorboard<2.10,>=2.9->tensorflow==2.9.1) (5.3.2)\n",
            "Requirement already satisfied: pyasn1-modules>=0.2.1 in /usr/local/lib/python3.10/dist-packages (from google-auth<3,>=1.6.3->tensorboard<2.10,>=2.9->tensorflow==2.9.1) (0.3.0)\n",
            "Requirement already satisfied: rsa<5,>=3.1.4 in /usr/local/lib/python3.10/dist-packages (from google-auth<3,>=1.6.3->tensorboard<2.10,>=2.9->tensorflow==2.9.1) (4.9)\n",
            "Requirement already satisfied: requests-oauthlib>=0.7.0 in /usr/local/lib/python3.10/dist-packages (from google-auth-oauthlib<0.5,>=0.4.1->tensorboard<2.10,>=2.9->tensorflow==2.9.1) (1.3.1)\n",
            "Requirement already satisfied: charset-normalizer<4,>=2 in /usr/local/lib/python3.10/dist-packages (from requests<3,>=2.21.0->tensorboard<2.10,>=2.9->tensorflow==2.9.1) (3.3.2)\n",
            "Requirement already satisfied: idna<4,>=2.5 in /usr/local/lib/python3.10/dist-packages (from requests<3,>=2.21.0->tensorboard<2.10,>=2.9->tensorflow==2.9.1) (3.6)\n",
            "Requirement already satisfied: urllib3<3,>=1.21.1 in /usr/local/lib/python3.10/dist-packages (from requests<3,>=2.21.0->tensorboard<2.10,>=2.9->tensorflow==2.9.1) (2.0.7)\n",
            "Requirement already satisfied: certifi>=2017.4.17 in /usr/local/lib/python3.10/dist-packages (from requests<3,>=2.21.0->tensorboard<2.10,>=2.9->tensorflow==2.9.1) (2023.11.17)\n",
            "Requirement already satisfied: MarkupSafe>=2.1.1 in /usr/local/lib/python3.10/dist-packages (from werkzeug>=1.0.1->tensorboard<2.10,>=2.9->tensorflow==2.9.1) (2.1.3)\n",
            "Requirement already satisfied: pyasn1<0.6.0,>=0.4.6 in /usr/local/lib/python3.10/dist-packages (from pyasn1-modules>=0.2.1->google-auth<3,>=1.6.3->tensorboard<2.10,>=2.9->tensorflow==2.9.1) (0.5.1)\n",
            "Requirement already satisfied: oauthlib>=3.0.0 in /usr/local/lib/python3.10/dist-packages (from requests-oauthlib>=0.7.0->google-auth-oauthlib<0.5,>=0.4.1->tensorboard<2.10,>=2.9->tensorflow==2.9.1) (3.2.2)\n",
            "Installing collected packages: tensorboard-plugin-wit, keras, flatbuffers, tensorflow-estimator, tensorboard-data-server, protobuf, keras-preprocessing, gast, google-auth-oauthlib, tensorboard, tensorflow\n",
            "  Attempting uninstall: keras\n",
            "    Found existing installation: keras 2.14.0\n",
            "    Uninstalling keras-2.14.0:\n",
            "      Successfully uninstalled keras-2.14.0\n",
            "  Attempting uninstall: flatbuffers\n",
            "    Found existing installation: flatbuffers 23.5.26\n",
            "    Uninstalling flatbuffers-23.5.26:\n",
            "      Successfully uninstalled flatbuffers-23.5.26\n",
            "  Attempting uninstall: tensorflow-estimator\n",
            "    Found existing installation: tensorflow-estimator 2.14.0\n",
            "    Uninstalling tensorflow-estimator-2.14.0:\n",
            "      Successfully uninstalled tensorflow-estimator-2.14.0\n",
            "  Attempting uninstall: tensorboard-data-server\n",
            "    Found existing installation: tensorboard-data-server 0.7.2\n",
            "    Uninstalling tensorboard-data-server-0.7.2:\n",
            "      Successfully uninstalled tensorboard-data-server-0.7.2\n",
            "  Attempting uninstall: protobuf\n",
            "    Found existing installation: protobuf 3.20.3\n",
            "    Uninstalling protobuf-3.20.3:\n",
            "      Successfully uninstalled protobuf-3.20.3\n",
            "  Attempting uninstall: gast\n",
            "    Found existing installation: gast 0.5.4\n",
            "    Uninstalling gast-0.5.4:\n",
            "      Successfully uninstalled gast-0.5.4\n",
            "  Attempting uninstall: google-auth-oauthlib\n",
            "    Found existing installation: google-auth-oauthlib 1.0.0\n",
            "    Uninstalling google-auth-oauthlib-1.0.0:\n",
            "      Successfully uninstalled google-auth-oauthlib-1.0.0\n",
            "  Attempting uninstall: tensorboard\n",
            "    Found existing installation: tensorboard 2.14.1\n",
            "    Uninstalling tensorboard-2.14.1:\n",
            "      Successfully uninstalled tensorboard-2.14.1\n",
            "\u001b[31mERROR: pip's dependency resolver does not currently take into account all the packages that are installed. This behaviour is the source of the following dependency conflicts.\n",
            "tensorflow-datasets 4.9.3 requires protobuf>=3.20, but you have protobuf 3.19.6 which is incompatible.\n",
            "tensorflow-metadata 1.14.0 requires protobuf<4.21,>=3.20.3, but you have protobuf 3.19.6 which is incompatible.\u001b[0m\u001b[31m\n",
            "\u001b[0mSuccessfully installed flatbuffers-1.12 gast-0.4.0 google-auth-oauthlib-0.4.6 keras-2.9.0 keras-preprocessing-1.1.2 protobuf-3.19.6 tensorboard-2.9.1 tensorboard-data-server-0.6.1 tensorboard-plugin-wit-1.8.1 tensorflow-2.9.1 tensorflow-estimator-2.9.0\n"
          ]
        },
        {
          "output_type": "display_data",
          "data": {
            "application/vnd.colab-display-data+json": {
              "pip_warning": {
                "packages": [
                  "google"
                ]
              }
            }
          },
          "metadata": {}
        }
      ]
    },
    {
      "cell_type": "code",
      "source": [
        "import tensorflow as tf\n",
        "\n",
        "print(\"TensorFlow version:\", tf.__version__)"
      ],
      "metadata": {
        "colab": {
          "base_uri": "https://localhost:8080/"
        },
        "id": "H1ScAoaz36OD",
        "outputId": "f6e283c1-d092-4f5d-d26f-9a38191d7b85"
      },
      "execution_count": null,
      "outputs": [
        {
          "output_type": "stream",
          "name": "stdout",
          "text": [
            "TensorFlow version: 2.9.1\n"
          ]
        }
      ]
    },
    {
      "cell_type": "code",
      "source": [
        "from numpy.random import seed\n",
        "\n",
        "# Ignore specific warnings\n",
        "import warnings\n",
        "warnings.filterwarnings(\"ignore\", category=UserWarning)\n",
        "warnings.filterwarnings(\"ignore\", category=DeprecationWarning)\n",
        "\n",
        "#Importing Basic Libaries for Data Load and Image Movement\n",
        "import os\n",
        "import pandas as pd\n",
        "import numpy as np\n",
        "import itertools\n",
        "import shutil\n",
        "\n",
        "#Tensorflow libraries\n",
        "import tensorflow\n",
        "tensorflow.random.set_seed(101)\n",
        "\n",
        "#libraries to build neural network models\n",
        "from keras.models import Sequential\n",
        "from keras.layers import Dense, Dropout, Flatten,GlobalAveragePooling2D\n",
        "from keras import backend as k\n",
        "\n",
        "from keras.utils import to_categorical\n",
        "from keras import optimizers\n",
        "from keras.optimizers import SGD,Adam\n",
        "from tensorflow.keras.preprocessing.image import ImageDataGenerator\n",
        "from keras.models import Model\n",
        "from tensorflow.keras.models import Model\n",
        "from tensorflow.keras.utils import img_to_array,array_to_img\n",
        "from tensorflow.keras.callbacks import EarlyStopping, ReduceLROnPlateau, ModelCheckpoint, CSVLogger\n",
        "from tensorflow.keras import regularizers\n",
        "\n",
        "#Model Libraries:\n",
        "from tensorflow.keras.applications import EfficientNetB7\n",
        "from tensorflow.keras.applications.efficientnet  import preprocess_input\n",
        "\n",
        "#Split and Importing evaluation libraries\n",
        "from tensorflow.keras.metrics import categorical_crossentropy\n",
        "from sklearn.metrics import confusion_matrix, roc_curve, auc,classification_report,balanced_accuracy_score,precision_score,recall_score,f1_score\n",
        "from sklearn.model_selection import train_test_split\n",
        "from sklearn.metrics import roc_curve, auc\n",
        "from sklearn.metrics import roc_auc_score\n",
        "from sklearn.preprocessing import LabelBinarizer\n",
        "\n",
        "#Plotting Graphs:\n",
        "import matplotlib.pyplot as plt\n",
        "%matplotlib inline\n",
        "import seaborn as sns"
      ],
      "metadata": {
        "id": "xQbQ7CXsQgWj"
      },
      "execution_count": null,
      "outputs": []
    },
    {
      "cell_type": "markdown",
      "source": [
        "**DIRECTORIES CREATION**"
      ],
      "metadata": {
        "id": "GxiT1Pm4i9Vt"
      }
    },
    {
      "cell_type": "code",
      "source": [
        "# Creating new directory for file movement:\n",
        "skin_eff_base_dir = 'skin_eff_base_dir'\n",
        "os.mkdir(skin_eff_base_dir)"
      ],
      "metadata": {
        "id": "JipwHZVPIGnH"
      },
      "execution_count": null,
      "outputs": []
    },
    {
      "cell_type": "code",
      "source": [
        "# Generate a pathway leading to the 'skin_eff_base_dir' to which we will append the names of the new folders\n",
        "# Training Directory creation\n",
        "train_dir = os.path.join(skin_eff_base_dir, 'train_dir')\n",
        "os.mkdir(train_dir)\n",
        "\n",
        "# Validation Directory creation\n",
        "val_dir = os.path.join(skin_eff_base_dir, 'val_dir')\n",
        "os.mkdir(val_dir)\n",
        "\n",
        "# Test Directory creation\n",
        "test_dir = os.path.join(skin_eff_base_dir, 'test_dir')\n",
        "os.mkdir(test_dir)"
      ],
      "metadata": {
        "id": "NqjyvhBQIqCx"
      },
      "execution_count": null,
      "outputs": []
    },
    {
      "cell_type": "code",
      "source": [
        "# Creation of new folders inside Training Directory\n",
        "nv = os.path.join(train_dir, 'nv')\n",
        "os.mkdir(nv)\n",
        "mel = os.path.join(train_dir, 'mel')\n",
        "os.mkdir(mel)\n",
        "bkl = os.path.join(train_dir, 'bkl')\n",
        "os.mkdir(bkl)\n",
        "bcc = os.path.join(train_dir, 'bcc')\n",
        "os.mkdir(bcc)\n",
        "akiec = os.path.join(train_dir, 'akiec')\n",
        "os.mkdir(akiec)\n",
        "vasc = os.path.join(train_dir, 'vasc')\n",
        "os.mkdir(vasc)\n",
        "df = os.path.join(train_dir, 'df')\n",
        "os.mkdir(df)"
      ],
      "metadata": {
        "id": "sFYzdCOtItkr"
      },
      "execution_count": null,
      "outputs": []
    },
    {
      "cell_type": "code",
      "source": [
        "# Creation of new folders inside Validation Directory\n",
        "nv = os.path.join(val_dir, 'nv')\n",
        "os.mkdir(nv)\n",
        "mel = os.path.join(val_dir, 'mel')\n",
        "os.mkdir(mel)\n",
        "bkl = os.path.join(val_dir, 'bkl')\n",
        "os.mkdir(bkl)\n",
        "bcc = os.path.join(val_dir, 'bcc')\n",
        "os.mkdir(bcc)\n",
        "akiec = os.path.join(val_dir, 'akiec')\n",
        "os.mkdir(akiec)\n",
        "vasc = os.path.join(val_dir, 'vasc')\n",
        "os.mkdir(vasc)\n",
        "df = os.path.join(val_dir, 'df')\n",
        "os.mkdir(df)"
      ],
      "metadata": {
        "id": "1-MtW1DvIw2g"
      },
      "execution_count": null,
      "outputs": []
    },
    {
      "cell_type": "code",
      "source": [
        "# Creation of new folders inside Test Directory\n",
        "nv = os.path.join(test_dir, 'nv')\n",
        "os.mkdir(nv)\n",
        "mel = os.path.join(test_dir, 'mel')\n",
        "os.mkdir(mel)\n",
        "bkl = os.path.join(test_dir, 'bkl')\n",
        "os.mkdir(bkl)\n",
        "bcc = os.path.join(test_dir, 'bcc')\n",
        "os.mkdir(bcc)\n",
        "akiec = os.path.join(test_dir, 'akiec')\n",
        "os.mkdir(akiec)\n",
        "vasc = os.path.join(test_dir, 'vasc')\n",
        "os.mkdir(vasc)\n",
        "df = os.path.join(test_dir, 'df')\n",
        "os.mkdir(df)"
      ],
      "metadata": {
        "id": "nMDvWqJOIz3F"
      },
      "execution_count": null,
      "outputs": []
    },
    {
      "cell_type": "markdown",
      "source": [
        "**DATA LOAD AND ANALYSIS**"
      ],
      "metadata": {
        "id": "BFDwizF4jHVd"
      }
    },
    {
      "cell_type": "code",
      "source": [
        "#Read metadata information of HAM10000 dataset\n",
        "df_data = pd.read_csv('/content/drive/MyDrive/DISSERTATION/HAM10000_DATASET/HAM10000_metadata')\n",
        "\n",
        "df_data.head()"
      ],
      "metadata": {
        "id": "8oMTRK-gI5eU",
        "colab": {
          "base_uri": "https://localhost:8080/",
          "height": 206
        },
        "outputId": "d89f3b36-5abe-4b05-ffc5-2e59247e9ae6"
      },
      "execution_count": null,
      "outputs": [
        {
          "output_type": "execute_result",
          "data": {
            "text/plain": [
              "     lesion_id      image_id   dx dx_type   age   sex localization  \\\n",
              "0  HAM_0000118  ISIC_0027419  bkl   histo  80.0  male        scalp   \n",
              "1  HAM_0000118  ISIC_0025030  bkl   histo  80.0  male        scalp   \n",
              "2  HAM_0002730  ISIC_0026769  bkl   histo  80.0  male        scalp   \n",
              "3  HAM_0002730  ISIC_0025661  bkl   histo  80.0  male        scalp   \n",
              "4  HAM_0001466  ISIC_0031633  bkl   histo  75.0  male          ear   \n",
              "\n",
              "        dataset  \n",
              "0  vidir_modern  \n",
              "1  vidir_modern  \n",
              "2  vidir_modern  \n",
              "3  vidir_modern  \n",
              "4  vidir_modern  "
            ],
            "text/html": [
              "\n",
              "  <div id=\"df-36728a03-3830-484d-844e-c4379ae12b46\" class=\"colab-df-container\">\n",
              "    <div>\n",
              "<style scoped>\n",
              "    .dataframe tbody tr th:only-of-type {\n",
              "        vertical-align: middle;\n",
              "    }\n",
              "\n",
              "    .dataframe tbody tr th {\n",
              "        vertical-align: top;\n",
              "    }\n",
              "\n",
              "    .dataframe thead th {\n",
              "        text-align: right;\n",
              "    }\n",
              "</style>\n",
              "<table border=\"1\" class=\"dataframe\">\n",
              "  <thead>\n",
              "    <tr style=\"text-align: right;\">\n",
              "      <th></th>\n",
              "      <th>lesion_id</th>\n",
              "      <th>image_id</th>\n",
              "      <th>dx</th>\n",
              "      <th>dx_type</th>\n",
              "      <th>age</th>\n",
              "      <th>sex</th>\n",
              "      <th>localization</th>\n",
              "      <th>dataset</th>\n",
              "    </tr>\n",
              "  </thead>\n",
              "  <tbody>\n",
              "    <tr>\n",
              "      <th>0</th>\n",
              "      <td>HAM_0000118</td>\n",
              "      <td>ISIC_0027419</td>\n",
              "      <td>bkl</td>\n",
              "      <td>histo</td>\n",
              "      <td>80.0</td>\n",
              "      <td>male</td>\n",
              "      <td>scalp</td>\n",
              "      <td>vidir_modern</td>\n",
              "    </tr>\n",
              "    <tr>\n",
              "      <th>1</th>\n",
              "      <td>HAM_0000118</td>\n",
              "      <td>ISIC_0025030</td>\n",
              "      <td>bkl</td>\n",
              "      <td>histo</td>\n",
              "      <td>80.0</td>\n",
              "      <td>male</td>\n",
              "      <td>scalp</td>\n",
              "      <td>vidir_modern</td>\n",
              "    </tr>\n",
              "    <tr>\n",
              "      <th>2</th>\n",
              "      <td>HAM_0002730</td>\n",
              "      <td>ISIC_0026769</td>\n",
              "      <td>bkl</td>\n",
              "      <td>histo</td>\n",
              "      <td>80.0</td>\n",
              "      <td>male</td>\n",
              "      <td>scalp</td>\n",
              "      <td>vidir_modern</td>\n",
              "    </tr>\n",
              "    <tr>\n",
              "      <th>3</th>\n",
              "      <td>HAM_0002730</td>\n",
              "      <td>ISIC_0025661</td>\n",
              "      <td>bkl</td>\n",
              "      <td>histo</td>\n",
              "      <td>80.0</td>\n",
              "      <td>male</td>\n",
              "      <td>scalp</td>\n",
              "      <td>vidir_modern</td>\n",
              "    </tr>\n",
              "    <tr>\n",
              "      <th>4</th>\n",
              "      <td>HAM_0001466</td>\n",
              "      <td>ISIC_0031633</td>\n",
              "      <td>bkl</td>\n",
              "      <td>histo</td>\n",
              "      <td>75.0</td>\n",
              "      <td>male</td>\n",
              "      <td>ear</td>\n",
              "      <td>vidir_modern</td>\n",
              "    </tr>\n",
              "  </tbody>\n",
              "</table>\n",
              "</div>\n",
              "    <div class=\"colab-df-buttons\">\n",
              "\n",
              "  <div class=\"colab-df-container\">\n",
              "    <button class=\"colab-df-convert\" onclick=\"convertToInteractive('df-36728a03-3830-484d-844e-c4379ae12b46')\"\n",
              "            title=\"Convert this dataframe to an interactive table.\"\n",
              "            style=\"display:none;\">\n",
              "\n",
              "  <svg xmlns=\"http://www.w3.org/2000/svg\" height=\"24px\" viewBox=\"0 -960 960 960\">\n",
              "    <path d=\"M120-120v-720h720v720H120Zm60-500h600v-160H180v160Zm220 220h160v-160H400v160Zm0 220h160v-160H400v160ZM180-400h160v-160H180v160Zm440 0h160v-160H620v160ZM180-180h160v-160H180v160Zm440 0h160v-160H620v160Z\"/>\n",
              "  </svg>\n",
              "    </button>\n",
              "\n",
              "  <style>\n",
              "    .colab-df-container {\n",
              "      display:flex;\n",
              "      gap: 12px;\n",
              "    }\n",
              "\n",
              "    .colab-df-convert {\n",
              "      background-color: #E8F0FE;\n",
              "      border: none;\n",
              "      border-radius: 50%;\n",
              "      cursor: pointer;\n",
              "      display: none;\n",
              "      fill: #1967D2;\n",
              "      height: 32px;\n",
              "      padding: 0 0 0 0;\n",
              "      width: 32px;\n",
              "    }\n",
              "\n",
              "    .colab-df-convert:hover {\n",
              "      background-color: #E2EBFA;\n",
              "      box-shadow: 0px 1px 2px rgba(60, 64, 67, 0.3), 0px 1px 3px 1px rgba(60, 64, 67, 0.15);\n",
              "      fill: #174EA6;\n",
              "    }\n",
              "\n",
              "    .colab-df-buttons div {\n",
              "      margin-bottom: 4px;\n",
              "    }\n",
              "\n",
              "    [theme=dark] .colab-df-convert {\n",
              "      background-color: #3B4455;\n",
              "      fill: #D2E3FC;\n",
              "    }\n",
              "\n",
              "    [theme=dark] .colab-df-convert:hover {\n",
              "      background-color: #434B5C;\n",
              "      box-shadow: 0px 1px 3px 1px rgba(0, 0, 0, 0.15);\n",
              "      filter: drop-shadow(0px 1px 2px rgba(0, 0, 0, 0.3));\n",
              "      fill: #FFFFFF;\n",
              "    }\n",
              "  </style>\n",
              "\n",
              "    <script>\n",
              "      const buttonEl =\n",
              "        document.querySelector('#df-36728a03-3830-484d-844e-c4379ae12b46 button.colab-df-convert');\n",
              "      buttonEl.style.display =\n",
              "        google.colab.kernel.accessAllowed ? 'block' : 'none';\n",
              "\n",
              "      async function convertToInteractive(key) {\n",
              "        const element = document.querySelector('#df-36728a03-3830-484d-844e-c4379ae12b46');\n",
              "        const dataTable =\n",
              "          await google.colab.kernel.invokeFunction('convertToInteractive',\n",
              "                                                    [key], {});\n",
              "        if (!dataTable) return;\n",
              "\n",
              "        const docLinkHtml = 'Like what you see? Visit the ' +\n",
              "          '<a target=\"_blank\" href=https://colab.research.google.com/notebooks/data_table.ipynb>data table notebook</a>'\n",
              "          + ' to learn more about interactive tables.';\n",
              "        element.innerHTML = '';\n",
              "        dataTable['output_type'] = 'display_data';\n",
              "        await google.colab.output.renderOutput(dataTable, element);\n",
              "        const docLink = document.createElement('div');\n",
              "        docLink.innerHTML = docLinkHtml;\n",
              "        element.appendChild(docLink);\n",
              "      }\n",
              "    </script>\n",
              "  </div>\n",
              "\n",
              "\n",
              "<div id=\"df-24facbb2-9da6-40ae-b745-34484c99ea42\">\n",
              "  <button class=\"colab-df-quickchart\" onclick=\"quickchart('df-24facbb2-9da6-40ae-b745-34484c99ea42')\"\n",
              "            title=\"Suggest charts\"\n",
              "            style=\"display:none;\">\n",
              "\n",
              "<svg xmlns=\"http://www.w3.org/2000/svg\" height=\"24px\"viewBox=\"0 0 24 24\"\n",
              "     width=\"24px\">\n",
              "    <g>\n",
              "        <path d=\"M19 3H5c-1.1 0-2 .9-2 2v14c0 1.1.9 2 2 2h14c1.1 0 2-.9 2-2V5c0-1.1-.9-2-2-2zM9 17H7v-7h2v7zm4 0h-2V7h2v10zm4 0h-2v-4h2v4z\"/>\n",
              "    </g>\n",
              "</svg>\n",
              "  </button>\n",
              "\n",
              "<style>\n",
              "  .colab-df-quickchart {\n",
              "      --bg-color: #E8F0FE;\n",
              "      --fill-color: #1967D2;\n",
              "      --hover-bg-color: #E2EBFA;\n",
              "      --hover-fill-color: #174EA6;\n",
              "      --disabled-fill-color: #AAA;\n",
              "      --disabled-bg-color: #DDD;\n",
              "  }\n",
              "\n",
              "  [theme=dark] .colab-df-quickchart {\n",
              "      --bg-color: #3B4455;\n",
              "      --fill-color: #D2E3FC;\n",
              "      --hover-bg-color: #434B5C;\n",
              "      --hover-fill-color: #FFFFFF;\n",
              "      --disabled-bg-color: #3B4455;\n",
              "      --disabled-fill-color: #666;\n",
              "  }\n",
              "\n",
              "  .colab-df-quickchart {\n",
              "    background-color: var(--bg-color);\n",
              "    border: none;\n",
              "    border-radius: 50%;\n",
              "    cursor: pointer;\n",
              "    display: none;\n",
              "    fill: var(--fill-color);\n",
              "    height: 32px;\n",
              "    padding: 0;\n",
              "    width: 32px;\n",
              "  }\n",
              "\n",
              "  .colab-df-quickchart:hover {\n",
              "    background-color: var(--hover-bg-color);\n",
              "    box-shadow: 0 1px 2px rgba(60, 64, 67, 0.3), 0 1px 3px 1px rgba(60, 64, 67, 0.15);\n",
              "    fill: var(--button-hover-fill-color);\n",
              "  }\n",
              "\n",
              "  .colab-df-quickchart-complete:disabled,\n",
              "  .colab-df-quickchart-complete:disabled:hover {\n",
              "    background-color: var(--disabled-bg-color);\n",
              "    fill: var(--disabled-fill-color);\n",
              "    box-shadow: none;\n",
              "  }\n",
              "\n",
              "  .colab-df-spinner {\n",
              "    border: 2px solid var(--fill-color);\n",
              "    border-color: transparent;\n",
              "    border-bottom-color: var(--fill-color);\n",
              "    animation:\n",
              "      spin 1s steps(1) infinite;\n",
              "  }\n",
              "\n",
              "  @keyframes spin {\n",
              "    0% {\n",
              "      border-color: transparent;\n",
              "      border-bottom-color: var(--fill-color);\n",
              "      border-left-color: var(--fill-color);\n",
              "    }\n",
              "    20% {\n",
              "      border-color: transparent;\n",
              "      border-left-color: var(--fill-color);\n",
              "      border-top-color: var(--fill-color);\n",
              "    }\n",
              "    30% {\n",
              "      border-color: transparent;\n",
              "      border-left-color: var(--fill-color);\n",
              "      border-top-color: var(--fill-color);\n",
              "      border-right-color: var(--fill-color);\n",
              "    }\n",
              "    40% {\n",
              "      border-color: transparent;\n",
              "      border-right-color: var(--fill-color);\n",
              "      border-top-color: var(--fill-color);\n",
              "    }\n",
              "    60% {\n",
              "      border-color: transparent;\n",
              "      border-right-color: var(--fill-color);\n",
              "    }\n",
              "    80% {\n",
              "      border-color: transparent;\n",
              "      border-right-color: var(--fill-color);\n",
              "      border-bottom-color: var(--fill-color);\n",
              "    }\n",
              "    90% {\n",
              "      border-color: transparent;\n",
              "      border-bottom-color: var(--fill-color);\n",
              "    }\n",
              "  }\n",
              "</style>\n",
              "\n",
              "  <script>\n",
              "    async function quickchart(key) {\n",
              "      const quickchartButtonEl =\n",
              "        document.querySelector('#' + key + ' button');\n",
              "      quickchartButtonEl.disabled = true;  // To prevent multiple clicks.\n",
              "      quickchartButtonEl.classList.add('colab-df-spinner');\n",
              "      try {\n",
              "        const charts = await google.colab.kernel.invokeFunction(\n",
              "            'suggestCharts', [key], {});\n",
              "      } catch (error) {\n",
              "        console.error('Error during call to suggestCharts:', error);\n",
              "      }\n",
              "      quickchartButtonEl.classList.remove('colab-df-spinner');\n",
              "      quickchartButtonEl.classList.add('colab-df-quickchart-complete');\n",
              "    }\n",
              "    (() => {\n",
              "      let quickchartButtonEl =\n",
              "        document.querySelector('#df-24facbb2-9da6-40ae-b745-34484c99ea42 button');\n",
              "      quickchartButtonEl.style.display =\n",
              "        google.colab.kernel.accessAllowed ? 'block' : 'none';\n",
              "    })();\n",
              "  </script>\n",
              "</div>\n",
              "    </div>\n",
              "  </div>\n"
            ]
          },
          "metadata": {},
          "execution_count": 12
        }
      ]
    },
    {
      "cell_type": "code",
      "source": [
        "df_data.shape"
      ],
      "metadata": {
        "colab": {
          "base_uri": "https://localhost:8080/"
        },
        "id": "Aumbyo5RTxsM",
        "outputId": "5ddd5f7c-6e24-48a1-9832-be218cf9a8b2"
      },
      "execution_count": null,
      "outputs": [
        {
          "output_type": "execute_result",
          "data": {
            "text/plain": [
              "(10015, 8)"
            ]
          },
          "metadata": {},
          "execution_count": 13
        }
      ]
    },
    {
      "cell_type": "code",
      "source": [
        "df_data.info()"
      ],
      "metadata": {
        "colab": {
          "base_uri": "https://localhost:8080/"
        },
        "id": "S5QIQ5GgT0Nk",
        "outputId": "a9279ec5-7587-4098-f7a0-cd682f4fc726"
      },
      "execution_count": null,
      "outputs": [
        {
          "output_type": "stream",
          "name": "stdout",
          "text": [
            "<class 'pandas.core.frame.DataFrame'>\n",
            "RangeIndex: 10015 entries, 0 to 10014\n",
            "Data columns (total 8 columns):\n",
            " #   Column        Non-Null Count  Dtype  \n",
            "---  ------        --------------  -----  \n",
            " 0   lesion_id     10015 non-null  object \n",
            " 1   image_id      10015 non-null  object \n",
            " 2   dx            10015 non-null  object \n",
            " 3   dx_type       10015 non-null  object \n",
            " 4   age           9958 non-null   float64\n",
            " 5   sex           10015 non-null  object \n",
            " 6   localization  10015 non-null  object \n",
            " 7   dataset       10015 non-null  object \n",
            "dtypes: float64(1), object(7)\n",
            "memory usage: 626.1+ KB\n"
          ]
        }
      ]
    },
    {
      "cell_type": "code",
      "source": [
        "#HAM1000 attributes basic analysis\n",
        "print('unique lesion_id records:' ,df_data.lesion_id.nunique())\n",
        "print('unique image_id records:' ,df_data.image_id.nunique())\n",
        "print('unique dx records:' ,df_data.dx.nunique())\n",
        "print('unique dx_type records:' ,df_data.dx_type.nunique())\n",
        "print('unique  age records:' ,df_data.age.nunique())\n",
        "print('unique  sex records:' ,df_data.sex.nunique())\n",
        "print('unique  localization records:' ,df_data.localization.nunique())\n",
        "print('unique   dataset records:' ,df_data. dataset.nunique())"
      ],
      "metadata": {
        "colab": {
          "base_uri": "https://localhost:8080/"
        },
        "id": "O0lcfK8VS9fl",
        "outputId": "fa22d099-5328-4293-c934-c81d499651e7"
      },
      "execution_count": null,
      "outputs": [
        {
          "output_type": "stream",
          "name": "stdout",
          "text": [
            "unique lesion_id records: 7470\n",
            "unique image_id records: 10015\n",
            "unique dx records: 7\n",
            "unique dx_type records: 4\n",
            "unique  age records: 18\n",
            "unique  sex records: 3\n",
            "unique  localization records: 15\n",
            "unique   dataset records: 4\n"
          ]
        }
      ]
    },
    {
      "cell_type": "code",
      "source": [
        "#HAM10000 dataset value counts\n",
        "column_list=['dx','dx_type','age','sex','localization','dataset']\n",
        "for column in column_list:\n",
        "    print(f\"Value counts for '{column}':\")\n",
        "    print(df_data[column].value_counts())\n",
        "    print(\"\\n\")"
      ],
      "metadata": {
        "colab": {
          "base_uri": "https://localhost:8080/"
        },
        "id": "ytCZDukVYgqH",
        "outputId": "2d2bca55-6464-4715-e1fc-e07492229e2a"
      },
      "execution_count": null,
      "outputs": [
        {
          "output_type": "stream",
          "name": "stdout",
          "text": [
            "Value counts for 'dx':\n",
            "nv       6705\n",
            "mel      1113\n",
            "bkl      1099\n",
            "bcc       514\n",
            "akiec     327\n",
            "vasc      142\n",
            "df        115\n",
            "Name: dx, dtype: int64\n",
            "\n",
            "\n",
            "Value counts for 'dx_type':\n",
            "histo        5340\n",
            "follow_up    3704\n",
            "consensus     902\n",
            "confocal       69\n",
            "Name: dx_type, dtype: int64\n",
            "\n",
            "\n",
            "Value counts for 'age':\n",
            "45.0    1299\n",
            "50.0    1187\n",
            "55.0    1009\n",
            "40.0     985\n",
            "60.0     803\n",
            "70.0     756\n",
            "35.0     753\n",
            "65.0     731\n",
            "75.0     618\n",
            "30.0     464\n",
            "80.0     404\n",
            "85.0     290\n",
            "25.0     247\n",
            "20.0     169\n",
            "5.0       86\n",
            "15.0      77\n",
            "10.0      41\n",
            "0.0       39\n",
            "Name: age, dtype: int64\n",
            "\n",
            "\n",
            "Value counts for 'sex':\n",
            "male       5406\n",
            "female     4552\n",
            "unknown      57\n",
            "Name: sex, dtype: int64\n",
            "\n",
            "\n",
            "Value counts for 'localization':\n",
            "back               2192\n",
            "lower extremity    2077\n",
            "trunk              1404\n",
            "upper extremity    1118\n",
            "abdomen            1022\n",
            "face                745\n",
            "chest               407\n",
            "foot                319\n",
            "unknown             234\n",
            "neck                168\n",
            "scalp               128\n",
            "hand                 90\n",
            "ear                  56\n",
            "genital              48\n",
            "acral                 7\n",
            "Name: localization, dtype: int64\n",
            "\n",
            "\n",
            "Value counts for 'dataset':\n",
            "vidir_molemax    3954\n",
            "vidir_modern     3363\n",
            "rosendahl        2259\n",
            "vienna_dias       439\n",
            "Name: dataset, dtype: int64\n",
            "\n",
            "\n"
          ]
        }
      ]
    },
    {
      "cell_type": "code",
      "source": [
        "# HAM10000 dataset visualization of variables\n",
        "for column in column_list:\n",
        "    plt.figure(figsize=(4, 4))\n",
        "    df_data[column].value_counts().sort_index().plot(kind='bar', color='blue')\n",
        "    plt.title(f'Bar Chart for {column}')\n",
        "    plt.xlabel(column)\n",
        "    plt.ylabel('Count')\n",
        "    plt.show()"
      ],
      "metadata": {
        "colab": {
          "base_uri": "https://localhost:8080/",
          "height": 1000
        },
        "id": "yziNi4UBXGvl",
        "outputId": "ac879941-16c4-479f-9c79-9a2788088b56"
      },
      "execution_count": null,
      "outputs": [
        {
          "output_type": "display_data",
          "data": {
            "text/plain": [
              "<Figure size 400x400 with 1 Axes>"
            ],
            "image/png": "[encoded data removed]"
          },
          "metadata": {}
        },
        {
          "output_type": "display_data",
          "data": {
            "text/plain": [
              "<Figure size 400x400 with 1 Axes>"
            ],
            "image/png": "[encoded data removed]"
          },
          "metadata": {}
        },
        {
          "output_type": "display_data",
          "data": {
            "text/plain": [
              "<Figure size 400x400 with 1 Axes>"
            ],
            "image/png": "[encoded data removed]"
          },
          "metadata": {}
        },
        {
          "output_type": "display_data",
          "data": {
            "text/plain": [
              "<Figure size 400x400 with 1 Axes>"
            ],
            "image/png": "[encoded data removed]"
          },
          "metadata": {}
        },
        {
          "output_type": "display_data",
          "data": {
            "text/plain": [
              "<Figure size 400x400 with 1 Axes>"
            ],
            "image/png": "[encoded data removed]"
          },
          "metadata": {}
        },
        {
          "output_type": "display_data",
          "data": {
            "text/plain": [
              "<Figure size 400x400 with 1 Axes>"
            ],
            "image/png": "[encoded data removed]"
          },
          "metadata": {}
        }
      ]
    },
    {
      "cell_type": "code",
      "source": [
        "#Sorting the dataset based on Lesion_Id\n",
        "df_data = df_data.sort_values(by='lesion_id')"
      ],
      "metadata": {
        "id": "HH9rgm_lJPiW"
      },
      "execution_count": null,
      "outputs": []
    },
    {
      "cell_type": "code",
      "source": [
        "'''import pandas as pd\n",
        "from sklearn.model_selection import train_test_split'''"
      ],
      "metadata": {
        "id": "NZ9zV3HPI-uR",
        "colab": {
          "base_uri": "https://localhost:8080/",
          "height": 35
        },
        "outputId": "803968ac-01ea-4dc6-d0fe-7d67dd3fe97c"
      },
      "execution_count": null,
      "outputs": [
        {
          "output_type": "execute_result",
          "data": {
            "text/plain": [
              "'import pandas as pd\\nfrom sklearn.model_selection import train_test_split'"
            ],
            "application/vnd.google.colaboratory.intrinsic+json": {
              "type": "string"
            }
          },
          "metadata": {},
          "execution_count": 19
        }
      ]
    },
    {
      "cell_type": "code",
      "source": [
        "# Train , Test and Validation Split Ratio\n",
        "train_ratio = 0.7  # 70% of the data for training\n",
        "test_ratio = 0.15  # 15% of the data for testing\n",
        "val_ratio = 0.15   # 15% of the data for validation"
      ],
      "metadata": {
        "id": "EWRBCNgbI_zB"
      },
      "execution_count": null,
      "outputs": []
    },
    {
      "cell_type": "code",
      "source": [
        "# Split the DataFrame into train, test, and validation dataframes\n",
        "df_train, test_val_df = train_test_split(df_data, test_size=(test_ratio + val_ratio), random_state=42)\n",
        "df_test, df_val = train_test_split(test_val_df, test_size=(val_ratio / (test_ratio + val_ratio)), random_state=42)\n"
      ],
      "metadata": {
        "id": "B-LKzCNEJC3n"
      },
      "execution_count": null,
      "outputs": []
    },
    {
      "cell_type": "code",
      "source": [
        "#Length of Data Frame\n",
        "print('Length of df_train:',len(df_train))\n",
        "print('Length of df_val:',len(df_val))\n",
        "print('Length of df_test:',len(df_test))"
      ],
      "metadata": {
        "id": "TvivLVtyJrSV",
        "colab": {
          "base_uri": "https://localhost:8080/"
        },
        "outputId": "d69797d9-1406-4635-b496-c86744294625"
      },
      "execution_count": null,
      "outputs": [
        {
          "output_type": "stream",
          "name": "stdout",
          "text": [
            "Length of df_train: 7010\n",
            "Length of df_val: 1503\n",
            "Length of df_test: 1502\n"
          ]
        }
      ]
    },
    {
      "cell_type": "code",
      "source": [
        "#Training set unique class values\n",
        "df_train['dx'].value_counts()"
      ],
      "metadata": {
        "id": "lSveIm-QJ7AY",
        "colab": {
          "base_uri": "https://localhost:8080/"
        },
        "outputId": "ad463a48-7eba-4dc7-9b69-130319e798a1"
      },
      "execution_count": null,
      "outputs": [
        {
          "output_type": "execute_result",
          "data": {
            "text/plain": [
              "nv       4647\n",
              "bkl       799\n",
              "mel       790\n",
              "bcc       362\n",
              "akiec     228\n",
              "vasc      100\n",
              "df         84\n",
              "Name: dx, dtype: int64"
            ]
          },
          "metadata": {},
          "execution_count": 23
        }
      ]
    },
    {
      "cell_type": "code",
      "source": [
        "#Validation set unique class values\n",
        "df_val['dx'].value_counts()"
      ],
      "metadata": {
        "id": "mrWYmFc_J-lk",
        "colab": {
          "base_uri": "https://localhost:8080/"
        },
        "outputId": "04d721b1-1d07-4220-e599-8f9455073493"
      },
      "execution_count": null,
      "outputs": [
        {
          "output_type": "execute_result",
          "data": {
            "text/plain": [
              "nv       1015\n",
              "mel       182\n",
              "bkl       151\n",
              "bcc        70\n",
              "akiec      54\n",
              "vasc       18\n",
              "df         13\n",
              "Name: dx, dtype: int64"
            ]
          },
          "metadata": {},
          "execution_count": 24
        }
      ]
    },
    {
      "cell_type": "code",
      "source": [
        "#Test set unique class values\n",
        "df_test['dx'].value_counts()"
      ],
      "metadata": {
        "id": "A-USUIghKCaW",
        "colab": {
          "base_uri": "https://localhost:8080/"
        },
        "outputId": "7cb9364c-d96c-4df3-e191-442d916ab3e3"
      },
      "execution_count": null,
      "outputs": [
        {
          "output_type": "execute_result",
          "data": {
            "text/plain": [
              "nv       1043\n",
              "bkl       149\n",
              "mel       141\n",
              "bcc        82\n",
              "akiec      45\n",
              "vasc       24\n",
              "df         18\n",
              "Name: dx, dtype: int64"
            ]
          },
          "metadata": {},
          "execution_count": 25
        }
      ]
    },
    {
      "cell_type": "markdown",
      "source": [
        "**IMAGES COPY FROM SOURCE TO DESTINATION**"
      ],
      "metadata": {
        "id": "TBr7I-VyjQQl"
      }
    },
    {
      "cell_type": "code",
      "source": [
        "# Get a list of images from HAM folder in Google Drive\n",
        "folder = os.listdir('/content/drive/MyDrive/DISSERTATION/HAM10000_DATASET/ALL_TRAIN_IMAGES')\n",
        "\n",
        "# Get a list of train ,test and val images\n",
        "train_list = list(df_train['image_id'])\n",
        "val_list = list(df_val['image_id'])\n",
        "test_list = list(df_test['image_id'])"
      ],
      "metadata": {
        "id": "rmJwMCb0KJw6"
      },
      "execution_count": null,
      "outputs": []
    },
    {
      "cell_type": "code",
      "source": [
        "#Moving the images from google dir to train_dir\n",
        "for image in train_list:\n",
        "\n",
        "    fname = image + '.jpg'\n",
        "    #label = df_data.loc[image,'dx']\n",
        "    label=df_data.loc[df_data['image_id'] == image, 'dx'].values[0]\n",
        "\n",
        "\n",
        "    if fname in folder:\n",
        "        # source path to image\n",
        "        src = os.path.join('/content/drive/MyDrive/DISSERTATION/HAM10000_DATASET/ALL_TRAIN_IMAGES', fname)\n",
        "        # destination path to image\n",
        "        dst = os.path.join(train_dir, label, fname)\n",
        "        # copy the image from the source to the destination\n",
        "        shutil.copyfile(src, dst)"
      ],
      "metadata": {
        "id": "3GLCFhjZKvnA"
      },
      "execution_count": null,
      "outputs": []
    },
    {
      "cell_type": "code",
      "source": [
        "#Moving the images from google dir to val_dir\n",
        "for image in val_list:\n",
        "\n",
        "    fname = image + '.jpg'\n",
        "    #label = df_data.loc[image,'dx']\n",
        "    label=df_data.loc[df_data['image_id'] == image, 'dx'].values[0]\n",
        "\n",
        "    if fname in folder:\n",
        "        # source path to image\n",
        "        src = os.path.join('/content/drive/MyDrive/DISSERTATION/HAM10000_DATASET/ALL_TRAIN_IMAGES', fname)\n",
        "        # destination path to image\n",
        "        dst = os.path.join(val_dir, label, fname)\n",
        "        # copy the image from the source to the destination\n",
        "        shutil.copyfile(src, dst)"
      ],
      "metadata": {
        "id": "AK4R4YFPLUTL"
      },
      "execution_count": null,
      "outputs": []
    },
    {
      "cell_type": "code",
      "source": [
        "#Moving the images from google dir to test_dir\n",
        "for image in test_list:\n",
        "\n",
        "    fname = image + '.jpg'\n",
        "    #label = df_data.loc[image,'dx']\n",
        "    label=df_data.loc[df_data['image_id'] == image, 'dx'].values[0]\n",
        "\n",
        "    if fname in folder:\n",
        "        # source path to image\n",
        "        src = os.path.join('/content/drive/MyDrive/DISSERTATION/HAM10000_DATASET/ALL_TRAIN_IMAGES', fname)\n",
        "        # destination path to image\n",
        "        dst = os.path.join(test_dir, label, fname)\n",
        "        # copy the image from the source to the destination\n",
        "        shutil.copyfile(src, dst)"
      ],
      "metadata": {
        "id": "Nc2OrFzyLmN8"
      },
      "execution_count": null,
      "outputs": []
    },
    {
      "cell_type": "code",
      "source": [
        "# Determine the count of training images present in each directory.\n",
        "\n",
        "print('nv:',len(os.listdir('skin_eff_base_dir/train_dir/nv')))\n",
        "print('mel:',len(os.listdir('skin_eff_base_dir/train_dir/mel')))\n",
        "print('bkl:',len(os.listdir('skin_eff_base_dir/train_dir/bkl')))\n",
        "print('bcc:',len(os.listdir('skin_eff_base_dir/train_dir/bcc')))\n",
        "print('akiec:',len(os.listdir('skin_eff_base_dir/train_dir/akiec')))\n",
        "print('vasc:',len(os.listdir('skin_eff_base_dir/train_dir/vasc')))\n",
        "print('df:',len(os.listdir('skin_eff_base_dir/train_dir/df')))"
      ],
      "metadata": {
        "id": "Bg7TmBR6NAoB",
        "colab": {
          "base_uri": "https://localhost:8080/"
        },
        "outputId": "32a95e13-728e-4a57-bf78-6bacf4428f23"
      },
      "execution_count": null,
      "outputs": [
        {
          "output_type": "stream",
          "name": "stdout",
          "text": [
            "nv: 4647\n",
            "mel: 790\n",
            "bkl: 799\n",
            "bcc: 362\n",
            "akiec: 228\n",
            "vasc: 100\n",
            "df: 84\n"
          ]
        }
      ]
    },
    {
      "cell_type": "code",
      "source": [
        "# Determine the count of val images present in each directory.\n",
        "\n",
        "print('nv:',len(os.listdir('skin_eff_base_dir/val_dir/nv')))\n",
        "print('mel:',len(os.listdir('skin_eff_base_dir/val_dir/mel')))\n",
        "print('bkl:',len(os.listdir('skin_eff_base_dir/val_dir/bkl')))\n",
        "print('bcc:',len(os.listdir('skin_eff_base_dir/val_dir/bcc')))\n",
        "print('akiec:',len(os.listdir('skin_eff_base_dir/val_dir/akiec')))\n",
        "print('vasc:',len(os.listdir('skin_eff_base_dir/val_dir/vasc')))\n",
        "print('df:',len(os.listdir('skin_eff_base_dir/val_dir/df')))"
      ],
      "metadata": {
        "id": "T8_mrnwmNBRU",
        "colab": {
          "base_uri": "https://localhost:8080/"
        },
        "outputId": "556bde45-c313-4c01-a92e-1ea14cc8b613"
      },
      "execution_count": null,
      "outputs": [
        {
          "output_type": "stream",
          "name": "stdout",
          "text": [
            "nv: 1015\n",
            "mel: 182\n",
            "bkl: 151\n",
            "bcc: 70\n",
            "akiec: 54\n",
            "vasc: 18\n",
            "df: 13\n"
          ]
        }
      ]
    },
    {
      "cell_type": "code",
      "source": [
        "# Check how many test images we have in each folder.\n",
        "\n",
        "print('nv:',len(os.listdir('skin_eff_base_dir/test_dir/nv')))\n",
        "print('mel:',len(os.listdir('skin_eff_base_dir/test_dir/mel')))\n",
        "print('bkl:',len(os.listdir('skin_eff_base_dir/test_dir/bkl')))\n",
        "print('bcc:',len(os.listdir('skin_eff_base_dir/test_dir/bcc')))\n",
        "print('akiec:',len(os.listdir('skin_eff_base_dir/test_dir/akiec')))\n",
        "print('vasc:',len(os.listdir('skin_eff_base_dir/test_dir/vasc')))\n",
        "print('df:',len(os.listdir('skin_eff_base_dir/test_dir/df')))"
      ],
      "metadata": {
        "id": "BRMVjw1ANDzG",
        "colab": {
          "base_uri": "https://localhost:8080/"
        },
        "outputId": "a05b9763-25ca-4c5c-c546-7da9512cb5f8"
      },
      "execution_count": null,
      "outputs": [
        {
          "output_type": "stream",
          "name": "stdout",
          "text": [
            "nv: 1043\n",
            "mel: 141\n",
            "bkl: 149\n",
            "bcc: 82\n",
            "akiec: 45\n",
            "vasc: 24\n",
            "df: 18\n"
          ]
        }
      ]
    },
    {
      "cell_type": "code",
      "source": [
        "#Copy the train images into skin_eff_aug_dir\n",
        "class_list = ['mel','bkl','bcc','akiec','vasc','df']\n",
        "\n",
        "for item in class_list:\n",
        "\n",
        "    # We are creating temporary directories\n",
        "    # create a aug dir\n",
        "    skin_eff_aug_dir = 'skin_eff_aug_dir'\n",
        "    os.mkdir(skin_eff_aug_dir)\n",
        "    # create a dir within the base dir to store images of the same class\n",
        "    img_dir = os.path.join(skin_eff_aug_dir, 'img_dir')\n",
        "    os.mkdir(img_dir)\n",
        "\n",
        "    # Choose a class\n",
        "    img_class = item\n",
        "\n",
        "    # list all images in that directory\n",
        "    img_list = os.listdir('skin_eff_base_dir/train_dir/' + img_class)\n",
        "\n",
        "    # Copy images from the class train dir to the img_dir e.g. class 'mel'\n",
        "    for fname in img_list:\n",
        "            # source path to image\n",
        "            src = os.path.join('skin_eff_base_dir/train_dir/' + img_class, fname)\n",
        "            # destination path to image\n",
        "            dst = os.path.join(img_dir, fname)\n",
        "            # copy the image from the source to the destination\n",
        "            shutil.copyfile(src, dst)\n",
        "\n",
        "\n",
        "    # point to a dir containing the images and not to the images themselves\n",
        "    path = skin_eff_aug_dir\n",
        "    save_path = 'skin_eff_base_dir/train_dir/' + img_class\n",
        "\n",
        "    # Create a data generator skin ui\n",
        "    datagen = ImageDataGenerator(\n",
        "        rotation_range=40,\n",
        "        width_shift_range=0.2,\n",
        "        height_shift_range=0.2,\n",
        "        zoom_range=0.2,\n",
        "        horizontal_flip=True,\n",
        "        vertical_flip=True,\n",
        "        brightness_range=(0.9,1.1),\n",
        "        fill_mode='nearest')\n",
        "\n",
        "    batch_size = 50\n",
        "\n",
        "    aug_datagen = datagen.flow_from_directory(path,\n",
        "                                           save_to_dir=save_path,\n",
        "                                           save_format='jpg',\n",
        "                                                    target_size=(224,224),\n",
        "                                                    batch_size=batch_size)\n",
        "\n",
        "    num_aug_images_wanted = 4500 # total number of images  in each class\n",
        "\n",
        "    num_files = len(os.listdir(img_dir))\n",
        "    num_batches = int(np.ceil((num_aug_images_wanted-num_files)/batch_size))\n",
        "\n",
        "    # run the generator and create augmented images\n",
        "    for i in range(0,num_batches):\n",
        "\n",
        "        imgs, labels = next(aug_datagen)\n",
        "\n",
        "    # delete temporary directory with the raw image files\n",
        "    shutil.rmtree('skin_eff_aug_dir')"
      ],
      "metadata": {
        "colab": {
          "base_uri": "https://localhost:8080/"
        },
        "id": "x4XeTm9mHrg_",
        "outputId": "47e37152-4d7e-49bc-e41d-579f59a7be8e"
      },
      "execution_count": null,
      "outputs": [
        {
          "output_type": "stream",
          "name": "stdout",
          "text": [
            "Found 790 images belonging to 1 classes.\n",
            "Found 799 images belonging to 1 classes.\n",
            "Found 362 images belonging to 1 classes.\n",
            "Found 228 images belonging to 1 classes.\n",
            "Found 100 images belonging to 1 classes.\n",
            "Found 84 images belonging to 1 classes.\n"
          ]
        }
      ]
    },
    {
      "cell_type": "code",
      "source": [
        "# Determine the count of training images present in each directory.\n",
        "\n",
        "print('nv:',len(os.listdir('skin_eff_base_dir/train_dir/nv')))\n",
        "print('mel:',len(os.listdir('skin_eff_base_dir/train_dir/mel')))\n",
        "print('bkl:',len(os.listdir('skin_eff_base_dir/train_dir/bkl')))\n",
        "print('bcc:',len(os.listdir('skin_eff_base_dir/train_dir/bcc')))\n",
        "print('akiec:',len(os.listdir('skin_eff_base_dir/train_dir/akiec')))\n",
        "print('vasc:',len(os.listdir('skin_eff_base_dir/train_dir/vasc')))\n",
        "print('df:',len(os.listdir('skin_eff_base_dir/train_dir/df')))"
      ],
      "metadata": {
        "colab": {
          "base_uri": "https://localhost:8080/"
        },
        "id": "1tDmxd5zHrrW",
        "outputId": "bfa4ef6b-3422-4498-eb91-f81b1715f627"
      },
      "execution_count": null,
      "outputs": [
        {
          "output_type": "stream",
          "name": "stdout",
          "text": [
            "nv: 4647\n",
            "mel: 4500\n",
            "bkl: 4545\n",
            "bcc: 4132\n",
            "akiec: 4154\n",
            "vasc: 4500\n",
            "df: 3830\n"
          ]
        }
      ]
    },
    {
      "cell_type": "code",
      "source": [
        "# Determine the count of val images present in each directory.\n",
        "\n",
        "print('nv:',len(os.listdir('skin_eff_base_dir/val_dir/nv')))\n",
        "print('mel:',len(os.listdir('skin_eff_base_dir/val_dir/mel')))\n",
        "print('bkl:',len(os.listdir('skin_eff_base_dir/val_dir/bkl')))\n",
        "print('bcc:',len(os.listdir('skin_eff_base_dir/val_dir/bcc')))\n",
        "print('akiec:',len(os.listdir('skin_eff_base_dir/val_dir/akiec')))\n",
        "print('vasc:',len(os.listdir('skin_eff_base_dir/val_dir/vasc')))\n",
        "print('df:',len(os.listdir('skin_eff_base_dir/val_dir/df')))"
      ],
      "metadata": {
        "colab": {
          "base_uri": "https://localhost:8080/"
        },
        "id": "dmIiTcT7HrxX",
        "outputId": "5dbbbcb1-f384-46bd-d09b-a9cd4b39df46"
      },
      "execution_count": null,
      "outputs": [
        {
          "output_type": "stream",
          "name": "stdout",
          "text": [
            "nv: 1015\n",
            "mel: 182\n",
            "bkl: 151\n",
            "bcc: 70\n",
            "akiec: 54\n",
            "vasc: 18\n",
            "df: 13\n"
          ]
        }
      ]
    },
    {
      "cell_type": "code",
      "source": [
        "# Check how many test images we have in each folder.\n",
        "\n",
        "print('nv:',len(os.listdir('skin_eff_base_dir/test_dir/nv')))\n",
        "print('mel:',len(os.listdir('skin_eff_base_dir/test_dir/mel')))\n",
        "print('bkl:',len(os.listdir('skin_eff_base_dir/test_dir/bkl')))\n",
        "print('bcc:',len(os.listdir('skin_eff_base_dir/test_dir/bcc')))\n",
        "print('akiec:',len(os.listdir('skin_eff_base_dir/test_dir/akiec')))\n",
        "print('vasc:',len(os.listdir('skin_eff_base_dir/test_dir/vasc')))\n",
        "print('df:',len(os.listdir('skin_eff_base_dir/test_dir/df')))"
      ],
      "metadata": {
        "colab": {
          "base_uri": "https://localhost:8080/"
        },
        "id": "Q2M6XfzpHr7u",
        "outputId": "3079e408-6409-42da-e412-0dcceeb47339"
      },
      "execution_count": null,
      "outputs": [
        {
          "output_type": "stream",
          "name": "stdout",
          "text": [
            "nv: 1043\n",
            "mel: 141\n",
            "bkl: 149\n",
            "bcc: 82\n",
            "akiec: 45\n",
            "vasc: 24\n",
            "df: 18\n"
          ]
        }
      ]
    },
    {
      "cell_type": "markdown",
      "source": [
        "**IMAGE GENERATOR STEPS**"
      ],
      "metadata": {
        "id": "XyiOReZcjtkd"
      }
    },
    {
      "cell_type": "code",
      "source": [
        "#Prepare for Generator steps\n",
        "\n",
        "train_path = 'skin_eff_base_dir/train_dir'\n",
        "valid_path = 'skin_eff_base_dir/val_dir'\n",
        "test_path='skin_eff_base_dir/test_dir'\n",
        "\n",
        "num_train_samples = len(df_train)\n",
        "num_val_samples = len(df_val)\n",
        "num_test_samples = len(df_test)\n",
        "train_batch_size = 10\n",
        "val_batch_size = 10\n",
        "test_batch_size = 10\n",
        "\n",
        "image_size = 224\n",
        "\n",
        "train_steps = np.ceil(num_train_samples / train_batch_size)\n",
        "val_steps = np.ceil(num_val_samples / val_batch_size)\n",
        "test_steps = np.ceil(num_test_samples / test_batch_size)"
      ],
      "metadata": {
        "id": "QlqM7JdkT5zB"
      },
      "execution_count": null,
      "outputs": []
    },
    {
      "cell_type": "code",
      "source": [
        "#Data Generator Preprocessing and creating train,test and validation batches\n",
        "datagen = ImageDataGenerator(\n",
        "    preprocessing_function= \\\n",
        "    tensorflow.keras.applications.efficientnet.preprocess_input)\n",
        "\n",
        "train_batches = datagen.flow_from_directory(train_path,\n",
        "                                            target_size=(image_size,image_size),\n",
        "                                            batch_size=train_batch_size,class_mode='categorical')\n",
        "\n",
        "valid_batches = datagen.flow_from_directory(valid_path,\n",
        "                                            target_size=(image_size,image_size),\n",
        "                                            batch_size=val_batch_size,class_mode='categorical')\n",
        "\n",
        "test_batches = datagen.flow_from_directory(test_path,\n",
        "                                            target_size=(image_size,image_size),\n",
        "                                            batch_size=test_batch_size,\n",
        "                                            shuffle=False,class_mode='categorical')"
      ],
      "metadata": {
        "id": "AnL0PXE4UsV2",
        "colab": {
          "base_uri": "https://localhost:8080/"
        },
        "outputId": "1fa3a252-2278-4201-83b1-cc4a0a7c3838"
      },
      "execution_count": null,
      "outputs": [
        {
          "output_type": "stream",
          "name": "stdout",
          "text": [
            "Found 30308 images belonging to 7 classes.\n",
            "Found 1503 images belonging to 7 classes.\n",
            "Found 1502 images belonging to 7 classes.\n"
          ]
        }
      ]
    },
    {
      "cell_type": "markdown",
      "source": [
        "**MODEL BUILDING**"
      ],
      "metadata": {
        "id": "9a9qGFPhj1eM"
      }
    },
    {
      "cell_type": "code",
      "source": [
        "#Model Building with image size 224(Pre Trained on Imagenet)\n",
        "eff_model = Sequential()\n",
        "pretrained_model=EfficientNetB7(\n",
        "    include_top=False,\n",
        "    weights='imagenet',\n",
        "    input_shape=(224,224,3)\n",
        ")\n",
        "\n",
        "#Pre Trained Model Freezing\n",
        "for layer in pretrained_model.layers:\n",
        "        layer.trainable=False\n",
        "\n",
        "#Add customization to the models\n",
        "eff_model.add(pretrained_model)\n",
        "eff_model.add(GlobalAveragePooling2D())\n",
        "eff_model.add(Dense(128, activation='relu'))\n",
        "eff_model.add(Dense(7, activation='softmax'))"
      ],
      "metadata": {
        "id": "rfmIeOqcLyGv",
        "colab": {
          "base_uri": "https://localhost:8080/"
        },
        "outputId": "2f32d709-28c0-4b29-b37c-f3a1728553f9"
      },
      "execution_count": null,
      "outputs": [
        {
          "output_type": "stream",
          "name": "stdout",
          "text": [
            "Downloading data from https://storage.googleapis.com/keras-applications/efficientnetb7_notop.h5\n",
            "258076736/258076736 [==============================] - 9s 0us/step\n"
          ]
        }
      ]
    },
    {
      "cell_type": "code",
      "source": [
        "eff_model.summary()"
      ],
      "metadata": {
        "colab": {
          "base_uri": "https://localhost:8080/"
        },
        "id": "M2pNDnWnkjlo",
        "outputId": "b2d1b27f-6065-4f4d-d893-1dfc0822381f"
      },
      "execution_count": null,
      "outputs": [
        {
          "output_type": "stream",
          "name": "stdout",
          "text": [
            "Model: \"sequential\"\n",
            "_________________________________________________________________\n",
            " Layer (type)                Output Shape              Param #   \n",
            "=================================================================\n",
            " efficientnetb7 (Functional)  (None, 7, 7, 2560)       64097687  \n",
            "                                                                 \n",
            " global_average_pooling2d (G  (None, 2560)             0         \n",
            " lobalAveragePooling2D)                                          \n",
            "                                                                 \n",
            " dense (Dense)               (None, 128)               327808    \n",
            "                                                                 \n",
            " dense_1 (Dense)             (None, 7)                 903       \n",
            "                                                                 \n",
            "=================================================================\n",
            "Total params: 64,426,398\n",
            "Trainable params: 328,711\n",
            "Non-trainable params: 64,097,687\n",
            "_________________________________________________________________\n"
          ]
        }
      ]
    },
    {
      "cell_type": "code",
      "source": [
        "#Compile the model\n",
        "eff_model.compile(optimizer=Adam(learning_rate=0.01),loss='categorical_crossentropy',metrics=['accuracy'])"
      ],
      "metadata": {
        "id": "hX4tY0sMVFgP"
      },
      "execution_count": null,
      "outputs": []
    },
    {
      "cell_type": "code",
      "source": [
        "#Early stopping and Check points\n",
        "\n",
        "early_stop = EarlyStopping(monitor='val_loss', patience=1,verbose=1,mode='auto', restore_best_weights=True)\n",
        "checkpoint = ModelCheckpoint('/content/drive/MyDrive/DISSERTATION/HAM10000_DATASET/MODEL_OUTPUTS/SKIN_CANCER_EFFNET_B7_Base_Aug_Model.h5', monitor='val_accuracy', save_best_only=True)\n",
        "\n",
        "callbacks_list = [checkpoint, early_stop]"
      ],
      "metadata": {
        "id": "4wHQspgcVLpv"
      },
      "execution_count": null,
      "outputs": []
    },
    {
      "cell_type": "code",
      "source": [
        "#Train the model\n",
        "history=eff_model.fit_generator(\n",
        "        train_batches,\n",
        "        steps_per_epoch=train_steps,    #The 2 slashes division return rounded integer\n",
        "        epochs=50,\n",
        "        validation_data=valid_batches,\n",
        "        validation_steps=val_steps,\n",
        "        callbacks=callbacks_list)"
      ],
      "metadata": {
        "id": "fVmL7eNyVbCW",
        "colab": {
          "base_uri": "https://localhost:8080/"
        },
        "outputId": "813f140d-31e6-41d1-8274-dd6bdad386e2"
      },
      "execution_count": null,
      "outputs": [
        {
          "output_type": "stream",
          "name": "stdout",
          "text": [
            "Epoch 1/50\n",
            "701/701 [==============================] - 138s 160ms/step - loss: 1.2645 - accuracy: 0.5301 - val_loss: 0.9021 - val_accuracy: 0.6999\n",
            "Epoch 2/50\n",
            "701/701 [==============================] - 110s 157ms/step - loss: 1.0909 - accuracy: 0.5827 - val_loss: 0.8228 - val_accuracy: 0.7013\n",
            "Epoch 3/50\n",
            "701/701 [==============================] - 110s 157ms/step - loss: 1.0611 - accuracy: 0.5969 - val_loss: 0.8148 - val_accuracy: 0.7053\n",
            "Epoch 4/50\n",
            "701/701 [==============================] - ETA: 0s - loss: 0.9898 - accuracy: 0.6305Restoring model weights from the end of the best epoch: 3.\n",
            "701/701 [==============================] - 113s 160ms/step - loss: 0.9898 - accuracy: 0.6305 - val_loss: 0.8301 - val_accuracy: 0.7132\n",
            "Epoch 4: early stopping\n"
          ]
        }
      ]
    },
    {
      "cell_type": "markdown",
      "source": [
        "**MODEL EVALUATION**"
      ],
      "metadata": {
        "id": "rec78A6xj92y"
      }
    },
    {
      "cell_type": "code",
      "source": [
        "# Evaluate the model and generate a confusion matrix for Test\n",
        "test_batches.shuffle = False\n",
        "predictions = eff_model.predict(test_batches)\n",
        "predicted_classes = np.argmax(predictions, axis=1)"
      ],
      "metadata": {
        "id": "AfaWVEaEWBdd",
        "colab": {
          "base_uri": "https://localhost:8080/"
        },
        "outputId": "7abde102-a64e-4b89-81ed-d427e55427e0"
      },
      "execution_count": null,
      "outputs": [
        {
          "output_type": "stream",
          "name": "stdout",
          "text": [
            "151/151 [==============================] - 23s 124ms/step\n"
          ]
        }
      ]
    },
    {
      "cell_type": "code",
      "source": [
        "#Generate Confusion Matrix and Classification Report for Test Inages\n",
        "true_classes = test_batches.classes\n",
        "class_labels = list(test_batches.class_indices.keys())\n",
        "\n",
        "confusion_matrix_result = confusion_matrix(true_classes, predicted_classes)\n",
        "classification_report_result = classification_report(\n",
        "    true_classes,\n",
        "    predicted_classes,\n",
        "    target_names=class_labels\n",
        ")\n",
        "\n",
        "print(\"Confusion Matrix:\\n\", confusion_matrix_result)\n",
        "print(\"\\nClassification Report:\\n\", classification_report_result)"
      ],
      "metadata": {
        "id": "vyPJZc9GWCaJ",
        "colab": {
          "base_uri": "https://localhost:8080/"
        },
        "outputId": "814d65ff-64b9-4afb-c790-5719b7730488"
      },
      "execution_count": null,
      "outputs": [
        {
          "output_type": "stream",
          "name": "stdout",
          "text": [
            "Confusion Matrix:\n",
            " [[  4  14  13   5   5   4   0]\n",
            " [  1  28  16  17   4  14   2]\n",
            " [  5   9  59   5  28  42   1]\n",
            " [  0   1   2   9   1   5   0]\n",
            " [  1   7  18   4  52  58   1]\n",
            " [  1  11  34  12  87 893   5]\n",
            " [  0   0   4   1   0   8  11]]\n",
            "\n",
            "Classification Report:\n",
            "               precision    recall  f1-score   support\n",
            "\n",
            "       akiec       0.33      0.09      0.14        45\n",
            "         bcc       0.40      0.34      0.37        82\n",
            "         bkl       0.40      0.40      0.40       149\n",
            "          df       0.17      0.50      0.25        18\n",
            "         mel       0.29      0.37      0.33       141\n",
            "          nv       0.87      0.86      0.86      1043\n",
            "        vasc       0.55      0.46      0.50        24\n",
            "\n",
            "    accuracy                           0.70      1502\n",
            "   macro avg       0.43      0.43      0.41      1502\n",
            "weighted avg       0.72      0.70      0.71      1502\n",
            "\n"
          ]
        }
      ]
    },
    {
      "cell_type": "code",
      "source": [
        "# Plotting the confusion matrix\n",
        "plt.figure(figsize=(5, 5))\n",
        "sns.set(font_scale=1.2)\n",
        "sns.heatmap(confusion_matrix_result, annot=True, fmt='g', cmap='Blues', cbar=False,\n",
        "            annot_kws={'size': 12}, linewidths=0.5, linecolor='black')\n",
        "\n",
        "plt.title('Confusion Matrix')\n",
        "plt.xlabel('Predicted')\n",
        "plt.ylabel('True')\n",
        "plt.show()"
      ],
      "metadata": {
        "colab": {
          "base_uri": "https://localhost:8080/",
          "height": 501
        },
        "id": "3OJdNSm8gIgE",
        "outputId": "1a8608d9-8105-4aa3-8414-ca91e74c98b2"
      },
      "execution_count": null,
      "outputs": [
        {
          "output_type": "display_data",
          "data": {
            "text/plain": [
              "<Figure size 500x500 with 1 Axes>"
            ],
            "image/png": "[encoded data removed]"
          },
          "metadata": {}
        }
      ]
    },
    {
      "cell_type": "code",
      "source": [
        "#Creating Train and Valication dataset Loss and Accuracy graphs\n",
        "\n",
        "fig, ax = plt.subplots(2,1)\n",
        "ax[0].plot(history.history['loss'], color='b', label=\"Training loss\")\n",
        "ax[0].plot(history.history['val_loss'], color='r', label=\"validation loss\",axes =ax[0])\n",
        "ax[0].set_title('Training and Validation Loss')\n",
        "ax[0].set_xlabel('Epochs')\n",
        "ax[0].set_ylabel('Loss')\n",
        "legend = ax[0].legend(loc='best', shadow=True)\n",
        "\n",
        "ax[1].plot(history.history['accuracy'], color='b', label=\"Training accuracy\")\n",
        "ax[1].plot(history.history['val_accuracy'], color='r',label=\"Validation accuracy\")\n",
        "ax[1].set_title('Training and Validation Accuracy')\n",
        "legend = ax[1].legend(loc='best', shadow=True)\n",
        "ax[1].set_xlabel('Epochs')\n",
        "ax[1].set_ylabel('Accuracy')\n",
        "\n",
        "plt.tight_layout()\n",
        "plt.show()"
      ],
      "metadata": {
        "id": "zT1OpvjFWFV5",
        "colab": {
          "base_uri": "https://localhost:8080/",
          "height": 473
        },
        "outputId": "d7d5f52f-70c1-46b0-ac89-7d2b3649dc1c"
      },
      "execution_count": null,
      "outputs": [
        {
          "output_type": "display_data",
          "data": {
            "text/plain": [
              "<Figure size 640x480 with 2 Axes>"
            ],
            "image/png": "[encoded data removed]"
          },
          "metadata": {}
        }
      ]
    },
    {
      "cell_type": "code",
      "source": [
        "#Assigning Loss and Accuracy Values to varaibles\n",
        "train_loss = history.history['loss'][-1]\n",
        "train_accuracy = history.history['accuracy'][-1]\n",
        "val_loss = history.history['val_loss'][-1]\n",
        "val_accuracy = history.history['val_accuracy'][-1]"
      ],
      "metadata": {
        "id": "0BLCfs7Pqw7J"
      },
      "execution_count": null,
      "outputs": []
    },
    {
      "cell_type": "code",
      "source": [
        "#Printing Train and Test Accuracy\n",
        "print('train_loss:',train_loss)\n",
        "print('train_accuracy:',train_accuracy)\n",
        "print('val_loss:',val_loss)\n",
        "print('val_accuracy:',val_accuracy)"
      ],
      "metadata": {
        "id": "nKq6UDiq1K5H",
        "colab": {
          "base_uri": "https://localhost:8080/"
        },
        "outputId": "215d75da-5994-43dc-f9c2-08106a054f62"
      },
      "execution_count": null,
      "outputs": [
        {
          "output_type": "stream",
          "name": "stdout",
          "text": [
            "train_loss: 0.9897641539573669\n",
            "train_accuracy: 0.6305277943611145\n",
            "val_loss: 0.8300551176071167\n",
            "val_accuracy: 0.7132402062416077\n"
          ]
        }
      ]
    },
    {
      "cell_type": "code",
      "source": [
        "# Load the model weights\n",
        "eff_model.load_weights('/content/drive/MyDrive/DISSERTATION/HAM10000_DATASET/MODEL_OUTPUTS/SKIN_CANCER_EFFNET_B7_Base_Aug_Model.h5')\n",
        "\n",
        "# Generate predictions\n",
        "predictions = eff_model.predict(test_batches)\n",
        "\n",
        "# Convert true labels to one-hot encoded format\n",
        "true_labels = np.array(test_batches.labels)\n",
        "print(true_labels)\n",
        "label_binarizer = LabelBinarizer()\n",
        "print(label_binarizer)\n",
        "true_labels = label_binarizer.fit_transform(true_labels)\n",
        "print(true_labels)\n",
        "\n",
        "# Calculate ROC AUC scores\n",
        "roc_auc_scores = roc_auc_score(true_labels, predictions, average='macro')"
      ],
      "metadata": {
        "id": "yvLLqlAIgUPK",
        "colab": {
          "base_uri": "https://localhost:8080/"
        },
        "outputId": "b484eb1e-4696-4d6d-c04a-bb87dbd50b6a"
      },
      "execution_count": null,
      "outputs": [
        {
          "output_type": "stream",
          "name": "stdout",
          "text": [
            "151/151 [==============================] - 18s 119ms/step\n",
            "[0 0 0 ... 6 6 6]\n",
            "LabelBinarizer()\n",
            "[[1 0 0 ... 0 0 0]\n",
            " [1 0 0 ... 0 0 0]\n",
            " [1 0 0 ... 0 0 0]\n",
            " ...\n",
            " [0 0 0 ... 0 0 1]\n",
            " [0 0 0 ... 0 0 1]\n",
            " [0 0 0 ... 0 0 1]]\n"
          ]
        }
      ]
    },
    {
      "cell_type": "code",
      "source": [
        "#ROC AUC curve for the Skin Classification\n",
        "num_classes = 7\n",
        "fpr = dict()\n",
        "tpr = dict()\n",
        "roc_auc = dict()\n",
        "\n",
        "plt.figure(figsize=(10, 6))\n",
        "\n",
        "for i in range(num_classes):\n",
        "    fpr[i], tpr[i], _ = roc_curve(true_labels[:, i], predictions[:, i])\n",
        "    roc_auc[i] = auc(fpr[i], tpr[i])\n",
        "\n",
        "    plt.plot(fpr[i], tpr[i], label=f'Class {i} (AUC = {roc_auc[i]:.2f})')\n",
        "\n",
        "plt.plot([0, 1], [0, 1], 'k--')\n",
        "plt.xlim([0.0, 1.0])\n",
        "plt.ylim([0.0, 1.05])\n",
        "plt.xlabel('False Positive Rate')\n",
        "plt.ylabel('True Positive Rate')\n",
        "plt.title('ROC Curve for Multiclass Classification')\n",
        "plt.legend(loc=\"lower right\")\n",
        "plt.show()\n"
      ],
      "metadata": {
        "id": "4LxCarjOhL9Y",
        "colab": {
          "base_uri": "https://localhost:8080/",
          "height": 578
        },
        "outputId": "05e60621-5088-4865-b9af-7420f9c29fba"
      },
      "execution_count": null,
      "outputs": [
        {
          "output_type": "display_data",
          "data": {
            "text/plain": [
              "<Figure size 1000x600 with 1 Axes>"
            ],
            "image/png": "[encoded data removed]"
          },
          "metadata": {}
        }
      ]
    },
    {
      "cell_type": "code",
      "source": [
        "import datetime\n",
        "import pytz\n",
        "\n",
        "london_timezone = pytz.timezone('Europe/London')\n",
        "current_time_london = datetime.datetime.now(london_timezone)\n",
        "print(\"Current Date and Time in London:\", current_time_london.strftime(\"%Y-%m-%d %H:%M:%S %Z\"))"
      ],
      "metadata": {
        "colab": {
          "base_uri": "https://localhost:8080/"
        },
        "id": "QknzcnTnZY_1",
        "outputId": "652ab4d0-f67d-4a6d-eed2-9f19295bb802"
      },
      "execution_count": null,
      "outputs": [
        {
          "output_type": "stream",
          "name": "stdout",
          "text": [
            "Current Date and Time in London: 2023-12-06 17:57:41 GMT\n"
          ]
        }
      ]
    }
  ]
}
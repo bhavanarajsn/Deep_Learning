{
  "nbformat": 4,
  "nbformat_minor": 0,
  "metadata": {
    "colab": {
      "provenance": [],
      "machine_shape": "hm",
      "gpuType": "T4"
    },
    "kernelspec": {
      "name": "python3",
      "display_name": "Python 3"
    },
    "language_info": {
      "name": "python"
    },
    "accelerator": "GPU"
  },
  "cells": [
    {
      "cell_type": "markdown",
      "source": [
        "**DRIVE MOUNT**"
      ],
      "metadata": {
        "id": "IIdLny29pi8A"
      }
    },
    {
      "cell_type": "code",
      "execution_count": null,
      "metadata": {
        "id": "xZ-r8CCqST9d",
        "colab": {
          "base_uri": "https://localhost:8080/"
        },
        "outputId": "128f87e9-9a6e-4faf-afaf-e09974562669"
      },
      "outputs": [
        {
          "output_type": "stream",
          "name": "stdout",
          "text": [
            "Mounted at /content/drive\n"
          ]
        }
      ],
      "source": [
        "#Mounting Google Drive in Colab notebook\n",
        "from google.colab import drive\n",
        "import numpy as np\n",
        "drive.mount('/content/drive')"
      ]
    },
    {
      "cell_type": "code",
      "source": [
        "#Showing Start of the time\n",
        "import datetime\n",
        "import pytz\n",
        "\n",
        "london_timezone = pytz.timezone('Europe/London')\n",
        "current_time_london = datetime.datetime.now(london_timezone)\n",
        "print(\"Current Date and Time in London:\", current_time_london.strftime(\"%Y-%m-%d %H:%M:%S %Z\"))"
      ],
      "metadata": {
        "colab": {
          "base_uri": "https://localhost:8080/"
        },
        "id": "0spMA_96pp6m",
        "outputId": "986e8557-7c1e-4842-c02b-e419ef3c32d1"
      },
      "execution_count": null,
      "outputs": [
        {
          "output_type": "stream",
          "name": "stdout",
          "text": [
            "Current Date and Time in London: 2024-01-03 11:38:44 GMT\n"
          ]
        }
      ]
    },
    {
      "cell_type": "markdown",
      "source": [
        "**LIBRARY IMPORTS**"
      ],
      "metadata": {
        "id": "e62TCkwWpwRa"
      }
    },
    {
      "cell_type": "code",
      "source": [
        "#Import All Libraries\n",
        "from numpy.random import seed\n",
        "\n",
        "# Ignore specific warnings\n",
        "import warnings\n",
        "warnings.filterwarnings(\"ignore\", category=UserWarning)\n",
        "warnings.filterwarnings(\"ignore\", category=DeprecationWarning)\n",
        "\n",
        "#Importing Basic Libaries for Data Load and Image Movement\n",
        "import os\n",
        "import pandas as pd\n",
        "import numpy as np\n",
        "import itertools\n",
        "import shutil\n",
        "\n",
        "#Tensorflow libraries\n",
        "import tensorflow\n",
        "tensorflow.random.set_seed(101)\n",
        "\n",
        "#libraries to build neural network models\n",
        "from keras.models import Sequential\n",
        "from keras.layers import Dense, Dropout, Flatten,GlobalAveragePooling2D\n",
        "from keras import backend as k\n",
        "\n",
        "from keras.utils import to_categorical\n",
        "from keras import optimizers\n",
        "from keras.optimizers import SGD,Adam\n",
        "from tensorflow.keras.preprocessing.image import ImageDataGenerator\n",
        "from keras.models import Model\n",
        "from tensorflow.keras.models import Model\n",
        "from tensorflow.keras.utils import img_to_array,array_to_img\n",
        "from tensorflow.keras.callbacks import EarlyStopping, ReduceLROnPlateau, ModelCheckpoint, CSVLogger\n",
        "from tensorflow.keras import regularizers\n",
        "\n",
        "#Model Libraries:\n",
        "from tensorflow.keras.applications import DenseNet201\n",
        "from tensorflow.keras.applications.densenet  import preprocess_input\n",
        "\n",
        "#Split and Importing evaluation libraries\n",
        "from tensorflow.keras.metrics import categorical_crossentropy\n",
        "from sklearn.metrics import confusion_matrix, roc_curve, auc,classification_report,balanced_accuracy_score,precision_score,recall_score,f1_score\n",
        "from sklearn.model_selection import train_test_split\n",
        "from sklearn.metrics import roc_curve, auc\n",
        "from sklearn.metrics import roc_auc_score\n",
        "from sklearn.preprocessing import LabelBinarizer\n",
        "\n",
        "#Plotting Graphs:\n",
        "import matplotlib.pyplot as plt\n",
        "%matplotlib inline\n",
        "import seaborn as sns"
      ],
      "metadata": {
        "id": "qHnOLntKIZft"
      },
      "execution_count": null,
      "outputs": []
    },
    {
      "cell_type": "markdown",
      "source": [
        "**DIRECTORIES CREATION**"
      ],
      "metadata": {
        "id": "n9EjU3Ofp3jO"
      }
    },
    {
      "cell_type": "code",
      "source": [
        "# Creating new directory for file movement:\n",
        "skin_dense_base_dir = 'skin_dense_base_dir'\n",
        "os.mkdir(skin_dense_base_dir)"
      ],
      "metadata": {
        "id": "JipwHZVPIGnH"
      },
      "execution_count": null,
      "outputs": []
    },
    {
      "cell_type": "code",
      "source": [
        "# Generate a pathway leading to the 'skin_dense_base_dir' to which we will append the names of the new folders\n",
        "# Training Directory creation\n",
        "train_dir = os.path.join(skin_dense_base_dir, 'train_dir')\n",
        "os.mkdir(train_dir)\n",
        "\n",
        "# Validation Directory creation\n",
        "val_dir = os.path.join(skin_dense_base_dir, 'val_dir')\n",
        "os.mkdir(val_dir)\n",
        "\n",
        "# Test Directory creation\n",
        "test_dir = os.path.join(skin_dense_base_dir, 'test_dir')\n",
        "os.mkdir(test_dir)"
      ],
      "metadata": {
        "id": "NqjyvhBQIqCx"
      },
      "execution_count": null,
      "outputs": []
    },
    {
      "cell_type": "code",
      "source": [
        "# Creation of new folders inside Training Directory\n",
        "nv = os.path.join(train_dir, 'nv')\n",
        "os.mkdir(nv)\n",
        "mel = os.path.join(train_dir, 'mel')\n",
        "os.mkdir(mel)\n",
        "bkl = os.path.join(train_dir, 'bkl')\n",
        "os.mkdir(bkl)\n",
        "bcc = os.path.join(train_dir, 'bcc')\n",
        "os.mkdir(bcc)\n",
        "akiec = os.path.join(train_dir, 'akiec')\n",
        "os.mkdir(akiec)\n",
        "vasc = os.path.join(train_dir, 'vasc')\n",
        "os.mkdir(vasc)\n",
        "df = os.path.join(train_dir, 'df')\n",
        "os.mkdir(df)"
      ],
      "metadata": {
        "id": "sFYzdCOtItkr"
      },
      "execution_count": null,
      "outputs": []
    },
    {
      "cell_type": "code",
      "source": [
        "# Creation of new folders inside Validation Directory\n",
        "nv = os.path.join(val_dir, 'nv')\n",
        "os.mkdir(nv)\n",
        "mel = os.path.join(val_dir, 'mel')\n",
        "os.mkdir(mel)\n",
        "bkl = os.path.join(val_dir, 'bkl')\n",
        "os.mkdir(bkl)\n",
        "bcc = os.path.join(val_dir, 'bcc')\n",
        "os.mkdir(bcc)\n",
        "akiec = os.path.join(val_dir, 'akiec')\n",
        "os.mkdir(akiec)\n",
        "vasc = os.path.join(val_dir, 'vasc')\n",
        "os.mkdir(vasc)\n",
        "df = os.path.join(val_dir, 'df')\n",
        "os.mkdir(df)"
      ],
      "metadata": {
        "id": "1-MtW1DvIw2g"
      },
      "execution_count": null,
      "outputs": []
    },
    {
      "cell_type": "code",
      "source": [
        "# create new folders inside test_dir\n",
        "nv = os.path.join(test_dir, 'nv')\n",
        "os.mkdir(nv)\n",
        "mel = os.path.join(test_dir, 'mel')\n",
        "os.mkdir(mel)\n",
        "bkl = os.path.join(test_dir, 'bkl')\n",
        "os.mkdir(bkl)\n",
        "bcc = os.path.join(test_dir, 'bcc')\n",
        "os.mkdir(bcc)\n",
        "akiec = os.path.join(test_dir, 'akiec')\n",
        "os.mkdir(akiec)\n",
        "vasc = os.path.join(test_dir, 'vasc')\n",
        "os.mkdir(vasc)\n",
        "df = os.path.join(test_dir, 'df')\n",
        "os.mkdir(df)"
      ],
      "metadata": {
        "id": "nMDvWqJOIz3F"
      },
      "execution_count": null,
      "outputs": []
    },
    {
      "cell_type": "markdown",
      "source": [
        "**DATA LOAD AND ANALYSIS**"
      ],
      "metadata": {
        "id": "GMPQPOxHqJsm"
      }
    },
    {
      "cell_type": "code",
      "source": [
        "#Read metadata information of HAM10000 dataset\n",
        "df_data = pd.read_csv('/content/drive/MyDrive/DISSERTATION/HAM10000_DATASET/HAM10000_metadata')\n",
        "\n",
        "df_data.head()"
      ],
      "metadata": {
        "id": "8oMTRK-gI5eU",
        "colab": {
          "base_uri": "https://localhost:8080/",
          "height": 206
        },
        "outputId": "07bce692-5904-49eb-8d2d-9bf146b77229"
      },
      "execution_count": null,
      "outputs": [
        {
          "output_type": "execute_result",
          "data": {
            "text/plain": [
              "     lesion_id      image_id   dx dx_type   age   sex localization  \\\n",
              "0  HAM_0000118  ISIC_0027419  bkl   histo  80.0  male        scalp   \n",
              "1  HAM_0000118  ISIC_0025030  bkl   histo  80.0  male        scalp   \n",
              "2  HAM_0002730  ISIC_0026769  bkl   histo  80.0  male        scalp   \n",
              "3  HAM_0002730  ISIC_0025661  bkl   histo  80.0  male        scalp   \n",
              "4  HAM_0001466  ISIC_0031633  bkl   histo  75.0  male          ear   \n",
              "\n",
              "        dataset  \n",
              "0  vidir_modern  \n",
              "1  vidir_modern  \n",
              "2  vidir_modern  \n",
              "3  vidir_modern  \n",
              "4  vidir_modern  "
            ],
            "text/html": [
              "\n",
              "  <div id=\"df-96b837e1-1986-413d-894b-9e665a70fcc5\" class=\"colab-df-container\">\n",
              "    <div>\n",
              "<style scoped>\n",
              "    .dataframe tbody tr th:only-of-type {\n",
              "        vertical-align: middle;\n",
              "    }\n",
              "\n",
              "    .dataframe tbody tr th {\n",
              "        vertical-align: top;\n",
              "    }\n",
              "\n",
              "    .dataframe thead th {\n",
              "        text-align: right;\n",
              "    }\n",
              "</style>\n",
              "<table border=\"1\" class=\"dataframe\">\n",
              "  <thead>\n",
              "    <tr style=\"text-align: right;\">\n",
              "      <th></th>\n",
              "      <th>lesion_id</th>\n",
              "      <th>image_id</th>\n",
              "      <th>dx</th>\n",
              "      <th>dx_type</th>\n",
              "      <th>age</th>\n",
              "      <th>sex</th>\n",
              "      <th>localization</th>\n",
              "      <th>dataset</th>\n",
              "    </tr>\n",
              "  </thead>\n",
              "  <tbody>\n",
              "    <tr>\n",
              "      <th>0</th>\n",
              "      <td>HAM_0000118</td>\n",
              "      <td>ISIC_0027419</td>\n",
              "      <td>bkl</td>\n",
              "      <td>histo</td>\n",
              "      <td>80.0</td>\n",
              "      <td>male</td>\n",
              "      <td>scalp</td>\n",
              "      <td>vidir_modern</td>\n",
              "    </tr>\n",
              "    <tr>\n",
              "      <th>1</th>\n",
              "      <td>HAM_0000118</td>\n",
              "      <td>ISIC_0025030</td>\n",
              "      <td>bkl</td>\n",
              "      <td>histo</td>\n",
              "      <td>80.0</td>\n",
              "      <td>male</td>\n",
              "      <td>scalp</td>\n",
              "      <td>vidir_modern</td>\n",
              "    </tr>\n",
              "    <tr>\n",
              "      <th>2</th>\n",
              "      <td>HAM_0002730</td>\n",
              "      <td>ISIC_0026769</td>\n",
              "      <td>bkl</td>\n",
              "      <td>histo</td>\n",
              "      <td>80.0</td>\n",
              "      <td>male</td>\n",
              "      <td>scalp</td>\n",
              "      <td>vidir_modern</td>\n",
              "    </tr>\n",
              "    <tr>\n",
              "      <th>3</th>\n",
              "      <td>HAM_0002730</td>\n",
              "      <td>ISIC_0025661</td>\n",
              "      <td>bkl</td>\n",
              "      <td>histo</td>\n",
              "      <td>80.0</td>\n",
              "      <td>male</td>\n",
              "      <td>scalp</td>\n",
              "      <td>vidir_modern</td>\n",
              "    </tr>\n",
              "    <tr>\n",
              "      <th>4</th>\n",
              "      <td>HAM_0001466</td>\n",
              "      <td>ISIC_0031633</td>\n",
              "      <td>bkl</td>\n",
              "      <td>histo</td>\n",
              "      <td>75.0</td>\n",
              "      <td>male</td>\n",
              "      <td>ear</td>\n",
              "      <td>vidir_modern</td>\n",
              "    </tr>\n",
              "  </tbody>\n",
              "</table>\n",
              "</div>\n",
              "    <div class=\"colab-df-buttons\">\n",
              "\n",
              "  <div class=\"colab-df-container\">\n",
              "    <button class=\"colab-df-convert\" onclick=\"convertToInteractive('df-96b837e1-1986-413d-894b-9e665a70fcc5')\"\n",
              "            title=\"Convert this dataframe to an interactive table.\"\n",
              "            style=\"display:none;\">\n",
              "\n",
              "  <svg xmlns=\"http://www.w3.org/2000/svg\" height=\"24px\" viewBox=\"0 -960 960 960\">\n",
              "    <path d=\"M120-120v-720h720v720H120Zm60-500h600v-160H180v160Zm220 220h160v-160H400v160Zm0 220h160v-160H400v160ZM180-400h160v-160H180v160Zm440 0h160v-160H620v160ZM180-180h160v-160H180v160Zm440 0h160v-160H620v160Z\"/>\n",
              "  </svg>\n",
              "    </button>\n",
              "\n",
              "  <style>\n",
              "    .colab-df-container {\n",
              "      display:flex;\n",
              "      gap: 12px;\n",
              "    }\n",
              "\n",
              "    .colab-df-convert {\n",
              "      background-color: #E8F0FE;\n",
              "      border: none;\n",
              "      border-radius: 50%;\n",
              "      cursor: pointer;\n",
              "      display: none;\n",
              "      fill: #1967D2;\n",
              "      height: 32px;\n",
              "      padding: 0 0 0 0;\n",
              "      width: 32px;\n",
              "    }\n",
              "\n",
              "    .colab-df-convert:hover {\n",
              "      background-color: #E2EBFA;\n",
              "      box-shadow: 0px 1px 2px rgba(60, 64, 67, 0.3), 0px 1px 3px 1px rgba(60, 64, 67, 0.15);\n",
              "      fill: #174EA6;\n",
              "    }\n",
              "\n",
              "    .colab-df-buttons div {\n",
              "      margin-bottom: 4px;\n",
              "    }\n",
              "\n",
              "    [theme=dark] .colab-df-convert {\n",
              "      background-color: #3B4455;\n",
              "      fill: #D2E3FC;\n",
              "    }\n",
              "\n",
              "    [theme=dark] .colab-df-convert:hover {\n",
              "      background-color: #434B5C;\n",
              "      box-shadow: 0px 1px 3px 1px rgba(0, 0, 0, 0.15);\n",
              "      filter: drop-shadow(0px 1px 2px rgba(0, 0, 0, 0.3));\n",
              "      fill: #FFFFFF;\n",
              "    }\n",
              "  </style>\n",
              "\n",
              "    <script>\n",
              "      const buttonEl =\n",
              "        document.querySelector('#df-96b837e1-1986-413d-894b-9e665a70fcc5 button.colab-df-convert');\n",
              "      buttonEl.style.display =\n",
              "        google.colab.kernel.accessAllowed ? 'block' : 'none';\n",
              "\n",
              "      async function convertToInteractive(key) {\n",
              "        const element = document.querySelector('#df-96b837e1-1986-413d-894b-9e665a70fcc5');\n",
              "        const dataTable =\n",
              "          await google.colab.kernel.invokeFunction('convertToInteractive',\n",
              "                                                    [key], {});\n",
              "        if (!dataTable) return;\n",
              "\n",
              "        const docLinkHtml = 'Like what you see? Visit the ' +\n",
              "          '<a target=\"_blank\" href=https://colab.research.google.com/notebooks/data_table.ipynb>data table notebook</a>'\n",
              "          + ' to learn more about interactive tables.';\n",
              "        element.innerHTML = '';\n",
              "        dataTable['output_type'] = 'display_data';\n",
              "        await google.colab.output.renderOutput(dataTable, element);\n",
              "        const docLink = document.createElement('div');\n",
              "        docLink.innerHTML = docLinkHtml;\n",
              "        element.appendChild(docLink);\n",
              "      }\n",
              "    </script>\n",
              "  </div>\n",
              "\n",
              "\n",
              "<div id=\"df-0deaa1e0-2dc4-49d1-b7d0-e4ef1ea26fa6\">\n",
              "  <button class=\"colab-df-quickchart\" onclick=\"quickchart('df-0deaa1e0-2dc4-49d1-b7d0-e4ef1ea26fa6')\"\n",
              "            title=\"Suggest charts\"\n",
              "            style=\"display:none;\">\n",
              "\n",
              "<svg xmlns=\"http://www.w3.org/2000/svg\" height=\"24px\"viewBox=\"0 0 24 24\"\n",
              "     width=\"24px\">\n",
              "    <g>\n",
              "        <path d=\"M19 3H5c-1.1 0-2 .9-2 2v14c0 1.1.9 2 2 2h14c1.1 0 2-.9 2-2V5c0-1.1-.9-2-2-2zM9 17H7v-7h2v7zm4 0h-2V7h2v10zm4 0h-2v-4h2v4z\"/>\n",
              "    </g>\n",
              "</svg>\n",
              "  </button>\n",
              "\n",
              "<style>\n",
              "  .colab-df-quickchart {\n",
              "      --bg-color: #E8F0FE;\n",
              "      --fill-color: #1967D2;\n",
              "      --hover-bg-color: #E2EBFA;\n",
              "      --hover-fill-color: #174EA6;\n",
              "      --disabled-fill-color: #AAA;\n",
              "      --disabled-bg-color: #DDD;\n",
              "  }\n",
              "\n",
              "  [theme=dark] .colab-df-quickchart {\n",
              "      --bg-color: #3B4455;\n",
              "      --fill-color: #D2E3FC;\n",
              "      --hover-bg-color: #434B5C;\n",
              "      --hover-fill-color: #FFFFFF;\n",
              "      --disabled-bg-color: #3B4455;\n",
              "      --disabled-fill-color: #666;\n",
              "  }\n",
              "\n",
              "  .colab-df-quickchart {\n",
              "    background-color: var(--bg-color);\n",
              "    border: none;\n",
              "    border-radius: 50%;\n",
              "    cursor: pointer;\n",
              "    display: none;\n",
              "    fill: var(--fill-color);\n",
              "    height: 32px;\n",
              "    padding: 0;\n",
              "    width: 32px;\n",
              "  }\n",
              "\n",
              "  .colab-df-quickchart:hover {\n",
              "    background-color: var(--hover-bg-color);\n",
              "    box-shadow: 0 1px 2px rgba(60, 64, 67, 0.3), 0 1px 3px 1px rgba(60, 64, 67, 0.15);\n",
              "    fill: var(--button-hover-fill-color);\n",
              "  }\n",
              "\n",
              "  .colab-df-quickchart-complete:disabled,\n",
              "  .colab-df-quickchart-complete:disabled:hover {\n",
              "    background-color: var(--disabled-bg-color);\n",
              "    fill: var(--disabled-fill-color);\n",
              "    box-shadow: none;\n",
              "  }\n",
              "\n",
              "  .colab-df-spinner {\n",
              "    border: 2px solid var(--fill-color);\n",
              "    border-color: transparent;\n",
              "    border-bottom-color: var(--fill-color);\n",
              "    animation:\n",
              "      spin 1s steps(1) infinite;\n",
              "  }\n",
              "\n",
              "  @keyframes spin {\n",
              "    0% {\n",
              "      border-color: transparent;\n",
              "      border-bottom-color: var(--fill-color);\n",
              "      border-left-color: var(--fill-color);\n",
              "    }\n",
              "    20% {\n",
              "      border-color: transparent;\n",
              "      border-left-color: var(--fill-color);\n",
              "      border-top-color: var(--fill-color);\n",
              "    }\n",
              "    30% {\n",
              "      border-color: transparent;\n",
              "      border-left-color: var(--fill-color);\n",
              "      border-top-color: var(--fill-color);\n",
              "      border-right-color: var(--fill-color);\n",
              "    }\n",
              "    40% {\n",
              "      border-color: transparent;\n",
              "      border-right-color: var(--fill-color);\n",
              "      border-top-color: var(--fill-color);\n",
              "    }\n",
              "    60% {\n",
              "      border-color: transparent;\n",
              "      border-right-color: var(--fill-color);\n",
              "    }\n",
              "    80% {\n",
              "      border-color: transparent;\n",
              "      border-right-color: var(--fill-color);\n",
              "      border-bottom-color: var(--fill-color);\n",
              "    }\n",
              "    90% {\n",
              "      border-color: transparent;\n",
              "      border-bottom-color: var(--fill-color);\n",
              "    }\n",
              "  }\n",
              "</style>\n",
              "\n",
              "  <script>\n",
              "    async function quickchart(key) {\n",
              "      const quickchartButtonEl =\n",
              "        document.querySelector('#' + key + ' button');\n",
              "      quickchartButtonEl.disabled = true;  // To prevent multiple clicks.\n",
              "      quickchartButtonEl.classList.add('colab-df-spinner');\n",
              "      try {\n",
              "        const charts = await google.colab.kernel.invokeFunction(\n",
              "            'suggestCharts', [key], {});\n",
              "      } catch (error) {\n",
              "        console.error('Error during call to suggestCharts:', error);\n",
              "      }\n",
              "      quickchartButtonEl.classList.remove('colab-df-spinner');\n",
              "      quickchartButtonEl.classList.add('colab-df-quickchart-complete');\n",
              "    }\n",
              "    (() => {\n",
              "      let quickchartButtonEl =\n",
              "        document.querySelector('#df-0deaa1e0-2dc4-49d1-b7d0-e4ef1ea26fa6 button');\n",
              "      quickchartButtonEl.style.display =\n",
              "        google.colab.kernel.accessAllowed ? 'block' : 'none';\n",
              "    })();\n",
              "  </script>\n",
              "</div>\n",
              "    </div>\n",
              "  </div>\n"
            ]
          },
          "metadata": {},
          "execution_count": 9
        }
      ]
    },
    {
      "cell_type": "code",
      "source": [
        "#Shape of the data\n",
        "df_data.shape"
      ],
      "metadata": {
        "colab": {
          "base_uri": "https://localhost:8080/"
        },
        "id": "ojgvv4V_qPzQ",
        "outputId": "017bf60b-5562-4693-9752-197666581818"
      },
      "execution_count": null,
      "outputs": [
        {
          "output_type": "execute_result",
          "data": {
            "text/plain": [
              "(10015, 8)"
            ]
          },
          "metadata": {},
          "execution_count": 10
        }
      ]
    },
    {
      "cell_type": "code",
      "source": [
        "#Information about image dataset metadata\n",
        "df_data.info()"
      ],
      "metadata": {
        "colab": {
          "base_uri": "https://localhost:8080/"
        },
        "id": "b5ZZiK4nqQeo",
        "outputId": "7d129225-a336-49ba-ffdb-47abbedcaeb4"
      },
      "execution_count": null,
      "outputs": [
        {
          "output_type": "stream",
          "name": "stdout",
          "text": [
            "<class 'pandas.core.frame.DataFrame'>\n",
            "RangeIndex: 10015 entries, 0 to 10014\n",
            "Data columns (total 8 columns):\n",
            " #   Column        Non-Null Count  Dtype  \n",
            "---  ------        --------------  -----  \n",
            " 0   lesion_id     10015 non-null  object \n",
            " 1   image_id      10015 non-null  object \n",
            " 2   dx            10015 non-null  object \n",
            " 3   dx_type       10015 non-null  object \n",
            " 4   age           9958 non-null   float64\n",
            " 5   sex           10015 non-null  object \n",
            " 6   localization  10015 non-null  object \n",
            " 7   dataset       10015 non-null  object \n",
            "dtypes: float64(1), object(7)\n",
            "memory usage: 626.1+ KB\n"
          ]
        }
      ]
    },
    {
      "cell_type": "code",
      "source": [
        "#HAM1000 attributes basic analysis\n",
        "print('unique lesion_id records:' ,df_data.lesion_id.nunique())\n",
        "print('unique image_id records:' ,df_data.image_id.nunique())\n",
        "print('unique dx records:' ,df_data.dx.nunique())\n",
        "print('unique dx_type records:' ,df_data.dx_type.nunique())\n",
        "print('unique  age records:' ,df_data.age.nunique())\n",
        "print('unique  sex records:' ,df_data.sex.nunique())\n",
        "print('unique  localization records:' ,df_data.localization.nunique())\n",
        "print('unique   dataset records:' ,df_data. dataset.nunique())"
      ],
      "metadata": {
        "colab": {
          "base_uri": "https://localhost:8080/"
        },
        "id": "u9t8tUcHqUgb",
        "outputId": "5b2dd2fb-fa7d-4b56-abeb-9ef577804f59"
      },
      "execution_count": null,
      "outputs": [
        {
          "output_type": "stream",
          "name": "stdout",
          "text": [
            "unique lesion_id records: 7470\n",
            "unique image_id records: 10015\n",
            "unique dx records: 7\n",
            "unique dx_type records: 4\n",
            "unique  age records: 18\n",
            "unique  sex records: 3\n",
            "unique  localization records: 15\n",
            "unique   dataset records: 4\n"
          ]
        }
      ]
    },
    {
      "cell_type": "code",
      "source": [
        "#HAM10000 dataset value counts\n",
        "column_list=['dx','dx_type','age','sex','localization','dataset']\n",
        "for column in column_list:\n",
        "    print(f\"Value counts for '{column}':\")\n",
        "    print(df_data[column].value_counts())\n",
        "    print(\"\\n\")"
      ],
      "metadata": {
        "colab": {
          "base_uri": "https://localhost:8080/"
        },
        "id": "q9AkDQcgqXfz",
        "outputId": "54de092f-e122-413d-f2cf-c23939358386"
      },
      "execution_count": null,
      "outputs": [
        {
          "output_type": "stream",
          "name": "stdout",
          "text": [
            "Value counts for 'dx':\n",
            "nv       6705\n",
            "mel      1113\n",
            "bkl      1099\n",
            "bcc       514\n",
            "akiec     327\n",
            "vasc      142\n",
            "df        115\n",
            "Name: dx, dtype: int64\n",
            "\n",
            "\n",
            "Value counts for 'dx_type':\n",
            "histo        5340\n",
            "follow_up    3704\n",
            "consensus     902\n",
            "confocal       69\n",
            "Name: dx_type, dtype: int64\n",
            "\n",
            "\n",
            "Value counts for 'age':\n",
            "45.0    1299\n",
            "50.0    1187\n",
            "55.0    1009\n",
            "40.0     985\n",
            "60.0     803\n",
            "70.0     756\n",
            "35.0     753\n",
            "65.0     731\n",
            "75.0     618\n",
            "30.0     464\n",
            "80.0     404\n",
            "85.0     290\n",
            "25.0     247\n",
            "20.0     169\n",
            "5.0       86\n",
            "15.0      77\n",
            "10.0      41\n",
            "0.0       39\n",
            "Name: age, dtype: int64\n",
            "\n",
            "\n",
            "Value counts for 'sex':\n",
            "male       5406\n",
            "female     4552\n",
            "unknown      57\n",
            "Name: sex, dtype: int64\n",
            "\n",
            "\n",
            "Value counts for 'localization':\n",
            "back               2192\n",
            "lower extremity    2077\n",
            "trunk              1404\n",
            "upper extremity    1118\n",
            "abdomen            1022\n",
            "face                745\n",
            "chest               407\n",
            "foot                319\n",
            "unknown             234\n",
            "neck                168\n",
            "scalp               128\n",
            "hand                 90\n",
            "ear                  56\n",
            "genital              48\n",
            "acral                 7\n",
            "Name: localization, dtype: int64\n",
            "\n",
            "\n",
            "Value counts for 'dataset':\n",
            "vidir_molemax    3954\n",
            "vidir_modern     3363\n",
            "rosendahl        2259\n",
            "vienna_dias       439\n",
            "Name: dataset, dtype: int64\n",
            "\n",
            "\n"
          ]
        }
      ]
    },
    {
      "cell_type": "code",
      "source": [
        "# HAM10000 dataset visualization of variables\n",
        "for column in column_list:\n",
        "    plt.figure(figsize=(4, 4))\n",
        "    df_data[column].value_counts().sort_index().plot(kind='bar', color='blue')\n",
        "    plt.title(f'Bar Chart for {column}')\n",
        "    plt.xlabel(column)\n",
        "    plt.ylabel('Count')\n",
        "    plt.show()"
      ],
      "metadata": {
        "colab": {
          "base_uri": "https://localhost:8080/",
          "height": 1000
        },
        "id": "1rBKtoTJqant",
        "outputId": "034f978b-0c7f-446a-dbe4-595fe73ad330"
      },
      "execution_count": null,
      "outputs": [
        {
          "output_type": "display_data",
          "data": {
            "text/plain": [
              "<Figure size 400x400 with 1 Axes>"
            ],
            "image/png": "[encoded data removed]"
          },
          "metadata": {}
        },
        {
          "output_type": "display_data",
          "data": {
            "text/plain": [
              "<Figure size 400x400 with 1 Axes>"
            ],
            "image/png": "[encoded data removed]"
          },
          "metadata": {}
        },
        {
          "output_type": "display_data",
          "data": {
            "text/plain": [
              "<Figure size 400x400 with 1 Axes>"
            ],
            "image/png": "[encoded data removed]"
          },
          "metadata": {}
        },
        {
          "output_type": "display_data",
          "data": {
            "text/plain": [
              "<Figure size 400x400 with 1 Axes>"
            ],
            "image/png": "[encoded data removed]"
          },
          "metadata": {}
        },
        {
          "output_type": "display_data",
          "data": {
            "text/plain": [
              "<Figure size 400x400 with 1 Axes>"
            ],
            "image/png": "[encoded data removed]"
          },
          "metadata": {}
        },
        {
          "output_type": "display_data",
          "data": {
            "text/plain": [
              "<Figure size 400x400 with 1 Axes>"
            ],
            "image/png": "[encoded data removed]"
          },
          "metadata": {}
        }
      ]
    },
    {
      "cell_type": "code",
      "source": [
        "#Sorting the dataset based on Lesion_Id\n",
        "df_data = df_data.sort_values(by='lesion_id')"
      ],
      "metadata": {
        "id": "HH9rgm_lJPiW"
      },
      "execution_count": null,
      "outputs": []
    },
    {
      "cell_type": "code",
      "source": [
        "# Train , Test and Validation Split Ratio\n",
        "train_ratio = 0.7  # 70% of the data for training\n",
        "test_ratio = 0.15  # 15% of the data for testing\n",
        "val_ratio = 0.15   # 15% of the data for validation"
      ],
      "metadata": {
        "id": "EWRBCNgbI_zB"
      },
      "execution_count": null,
      "outputs": []
    },
    {
      "cell_type": "code",
      "source": [
        "# Split the DataFrame into train, test, and validation dataframes\n",
        "df_train, test_val_df = train_test_split(df_data, test_size=(test_ratio + val_ratio), random_state=42)\n",
        "df_test, df_val = train_test_split(test_val_df, test_size=(val_ratio / (test_ratio + val_ratio)), random_state=42)"
      ],
      "metadata": {
        "id": "B-LKzCNEJC3n"
      },
      "execution_count": null,
      "outputs": []
    },
    {
      "cell_type": "code",
      "source": [
        "#Length of Data Frame\n",
        "print('Length of df_train:',len(df_train))\n",
        "print('Length of df_val:',len(df_val))\n",
        "print('Length of df_test:',len(df_test))"
      ],
      "metadata": {
        "id": "TvivLVtyJrSV",
        "colab": {
          "base_uri": "https://localhost:8080/"
        },
        "outputId": "61e518ed-fff1-407d-ffce-3fed651c56a6"
      },
      "execution_count": null,
      "outputs": [
        {
          "output_type": "stream",
          "name": "stdout",
          "text": [
            "Length of df_train: 7010\n",
            "Length of df_val: 1503\n",
            "Length of df_test: 1502\n"
          ]
        }
      ]
    },
    {
      "cell_type": "code",
      "source": [
        "#Training set unique class values\n",
        "df_train['dx'].value_counts()"
      ],
      "metadata": {
        "id": "lSveIm-QJ7AY",
        "colab": {
          "base_uri": "https://localhost:8080/"
        },
        "outputId": "dd921c11-ce3a-4047-d0a4-bfde724b1fda"
      },
      "execution_count": null,
      "outputs": [
        {
          "output_type": "execute_result",
          "data": {
            "text/plain": [
              "nv       4647\n",
              "bkl       799\n",
              "mel       790\n",
              "bcc       362\n",
              "akiec     228\n",
              "vasc      100\n",
              "df         84\n",
              "Name: dx, dtype: int64"
            ]
          },
          "metadata": {},
          "execution_count": 19
        }
      ]
    },
    {
      "cell_type": "code",
      "source": [
        "#Validation set unique class values\n",
        "df_val['dx'].value_counts()"
      ],
      "metadata": {
        "id": "mrWYmFc_J-lk",
        "colab": {
          "base_uri": "https://localhost:8080/"
        },
        "outputId": "733de9ca-5312-433a-9781-2546517744e0"
      },
      "execution_count": null,
      "outputs": [
        {
          "output_type": "execute_result",
          "data": {
            "text/plain": [
              "nv       1015\n",
              "mel       182\n",
              "bkl       151\n",
              "bcc        70\n",
              "akiec      54\n",
              "vasc       18\n",
              "df         13\n",
              "Name: dx, dtype: int64"
            ]
          },
          "metadata": {},
          "execution_count": 20
        }
      ]
    },
    {
      "cell_type": "code",
      "source": [
        "#Test set unique class values\n",
        "df_test['dx'].value_counts()"
      ],
      "metadata": {
        "id": "A-USUIghKCaW",
        "colab": {
          "base_uri": "https://localhost:8080/"
        },
        "outputId": "e1f9e12c-3e2b-4fcd-92ad-db6755e82c7d"
      },
      "execution_count": null,
      "outputs": [
        {
          "output_type": "execute_result",
          "data": {
            "text/plain": [
              "nv       1043\n",
              "bkl       149\n",
              "mel       141\n",
              "bcc        82\n",
              "akiec      45\n",
              "vasc       24\n",
              "df         18\n",
              "Name: dx, dtype: int64"
            ]
          },
          "metadata": {},
          "execution_count": 21
        }
      ]
    },
    {
      "cell_type": "markdown",
      "source": [
        "**IMAGES COPY FROM SOURCE TO DESTINATION**"
      ],
      "metadata": {
        "id": "DuzHEhT80dmD"
      }
    },
    {
      "cell_type": "code",
      "source": [
        "# Get a list of images from HAM folder in Google Drive\n",
        "folder = os.listdir('/content/drive/MyDrive/DISSERTATION/HAM10000_DATASET/ALL_TRAIN_IMAGES')\n",
        "\n",
        "# Get a list of train ,test and val images\n",
        "train_list = list(df_train['image_id'])\n",
        "val_list = list(df_val['image_id'])\n",
        "test_list = list(df_test['image_id'])"
      ],
      "metadata": {
        "id": "rmJwMCb0KJw6"
      },
      "execution_count": null,
      "outputs": []
    },
    {
      "cell_type": "code",
      "source": [
        "#Moving the images from google dir to train_dir\n",
        "for image in train_list:\n",
        "\n",
        "    fname = image + '.jpg'\n",
        "    #label = df_data.loc[image,'dx']\n",
        "    label=df_data.loc[df_data['image_id'] == image, 'dx'].values[0]\n",
        "\n",
        "\n",
        "    if fname in folder:\n",
        "        # source path to image\n",
        "        src = os.path.join('/content/drive/MyDrive/DISSERTATION/HAM10000_DATASET/ALL_TRAIN_IMAGES', fname)\n",
        "        # destination path to image\n",
        "        dst = os.path.join(train_dir, label, fname)\n",
        "        # copy the image from the source to the destination\n",
        "        shutil.copyfile(src, dst)"
      ],
      "metadata": {
        "id": "3GLCFhjZKvnA"
      },
      "execution_count": null,
      "outputs": []
    },
    {
      "cell_type": "code",
      "source": [
        "#Moving the images from google dir to val_dir\n",
        "for image in val_list:\n",
        "\n",
        "    fname = image + '.jpg'\n",
        "    #label = df_data.loc[image,'dx']\n",
        "    label=df_data.loc[df_data['image_id'] == image, 'dx'].values[0]\n",
        "\n",
        "    if fname in folder:\n",
        "        # source path to image\n",
        "        src = os.path.join('/content/drive/MyDrive/DISSERTATION/HAM10000_DATASET/ALL_TRAIN_IMAGES', fname)\n",
        "        # destination path to image\n",
        "        dst = os.path.join(val_dir, label, fname)\n",
        "        # copy the image from the source to the destination\n",
        "        shutil.copyfile(src, dst)"
      ],
      "metadata": {
        "id": "AK4R4YFPLUTL"
      },
      "execution_count": null,
      "outputs": []
    },
    {
      "cell_type": "code",
      "source": [
        "#Moving the images from google dir to test_dir\n",
        "for image in test_list:\n",
        "\n",
        "    fname = image + '.jpg'\n",
        "    #label = df_data.loc[image,'dx']\n",
        "    label=df_data.loc[df_data['image_id'] == image, 'dx'].values[0]\n",
        "\n",
        "    if fname in folder:\n",
        "        # source path to image\n",
        "        src = os.path.join('/content/drive/MyDrive/DISSERTATION/HAM10000_DATASET/ALL_TRAIN_IMAGES', fname)\n",
        "        # destination path to image\n",
        "        dst = os.path.join(test_dir, label, fname)\n",
        "        # copy the image from the source to the destination\n",
        "        shutil.copyfile(src, dst)"
      ],
      "metadata": {
        "id": "Nc2OrFzyLmN8"
      },
      "execution_count": null,
      "outputs": []
    },
    {
      "cell_type": "code",
      "source": [
        "# Determine the count of training images present in each directory.\n",
        "\n",
        "print('nv:',len(os.listdir('skin_dense_base_dir/train_dir/nv')))\n",
        "print('mel:',len(os.listdir('skin_dense_base_dir/train_dir/mel')))\n",
        "print('bkl:',len(os.listdir('skin_dense_base_dir/train_dir/bkl')))\n",
        "print('bcc:',len(os.listdir('skin_dense_base_dir/train_dir/bcc')))\n",
        "print('akiec:',len(os.listdir('skin_dense_base_dir/train_dir/akiec')))\n",
        "print('vasc:',len(os.listdir('skin_dense_base_dir/train_dir/vasc')))\n",
        "print('df:',len(os.listdir('skin_dense_base_dir/train_dir/df')))"
      ],
      "metadata": {
        "id": "Bg7TmBR6NAoB",
        "colab": {
          "base_uri": "https://localhost:8080/"
        },
        "outputId": "15d98668-dfe0-4829-ef63-008f51f733ac"
      },
      "execution_count": null,
      "outputs": [
        {
          "output_type": "stream",
          "name": "stdout",
          "text": [
            "nv: 4647\n",
            "mel: 790\n",
            "bkl: 799\n",
            "bcc: 362\n",
            "akiec: 228\n",
            "vasc: 100\n",
            "df: 84\n"
          ]
        }
      ]
    },
    {
      "cell_type": "code",
      "source": [
        "# Determine the count of val images present in each directory.\n",
        "\n",
        "print('nv:',len(os.listdir('skin_dense_base_dir/val_dir/nv')))\n",
        "print('mel:',len(os.listdir('skin_dense_base_dir/val_dir/mel')))\n",
        "print('bkl:',len(os.listdir('skin_dense_base_dir/val_dir/bkl')))\n",
        "print('bcc:',len(os.listdir('skin_dense_base_dir/val_dir/bcc')))\n",
        "print('akiec:',len(os.listdir('skin_dense_base_dir/val_dir/akiec')))\n",
        "print('vasc:',len(os.listdir('skin_dense_base_dir/val_dir/vasc')))\n",
        "print('df:',len(os.listdir('skin_dense_base_dir/val_dir/df')))"
      ],
      "metadata": {
        "id": "T8_mrnwmNBRU",
        "colab": {
          "base_uri": "https://localhost:8080/"
        },
        "outputId": "611cb270-bf91-47bf-9310-ecfd55aff867"
      },
      "execution_count": null,
      "outputs": [
        {
          "output_type": "stream",
          "name": "stdout",
          "text": [
            "nv: 1015\n",
            "mel: 182\n",
            "bkl: 151\n",
            "bcc: 70\n",
            "akiec: 54\n",
            "vasc: 18\n",
            "df: 13\n"
          ]
        }
      ]
    },
    {
      "cell_type": "code",
      "source": [
        "# Check how many test images we have in each folder.\n",
        "\n",
        "print('nv:',len(os.listdir('skin_dense_base_dir/test_dir/nv')))\n",
        "print('mel:',len(os.listdir('skin_dense_base_dir/test_dir/mel')))\n",
        "print('bkl:',len(os.listdir('skin_dense_base_dir/test_dir/bkl')))\n",
        "print('bcc:',len(os.listdir('skin_dense_base_dir/test_dir/bcc')))\n",
        "print('akiec:',len(os.listdir('skin_dense_base_dir/test_dir/akiec')))\n",
        "print('vasc:',len(os.listdir('skin_dense_base_dir/test_dir/vasc')))\n",
        "print('df:',len(os.listdir('skin_dense_base_dir/test_dir/df')))"
      ],
      "metadata": {
        "id": "BRMVjw1ANDzG",
        "colab": {
          "base_uri": "https://localhost:8080/"
        },
        "outputId": "d452ac08-ca12-4c2c-96a6-c6b9b9af6061"
      },
      "execution_count": null,
      "outputs": [
        {
          "output_type": "stream",
          "name": "stdout",
          "text": [
            "nv: 1043\n",
            "mel: 141\n",
            "bkl: 149\n",
            "bcc: 82\n",
            "akiec: 45\n",
            "vasc: 24\n",
            "df: 18\n"
          ]
        }
      ]
    },
    {
      "cell_type": "code",
      "source": [
        "#Copy the train images into skin_dense_aug_dir\n",
        "class_list = ['mel','bkl','bcc','akiec','vasc','df']\n",
        "\n",
        "for item in class_list:\n",
        "\n",
        "    # We are creating temporary directories\n",
        "    # create a aug dir\n",
        "    skin_dense_aug_dir = 'skin_dense_aug_dir'\n",
        "    os.mkdir(skin_dense_aug_dir)\n",
        "    # create a dir within the base dir to store images of the same class\n",
        "    img_dir = os.path.join(skin_dense_aug_dir, 'img_dir')\n",
        "    os.mkdir(img_dir)\n",
        "\n",
        "    # Choose a class\n",
        "    img_class = item\n",
        "\n",
        "    # list all images in that directory\n",
        "    img_list = os.listdir('skin_dense_base_dir/train_dir/' + img_class)\n",
        "\n",
        "    # Copy images from the class train dir to the img_dir e.g. class 'mel'\n",
        "    for fname in img_list:\n",
        "            # source path to image\n",
        "            src = os.path.join('skin_dense_base_dir/train_dir/' + img_class, fname)\n",
        "            # destination path to image\n",
        "            dst = os.path.join(img_dir, fname)\n",
        "            # copy the image from the source to the destination\n",
        "            shutil.copyfile(src, dst)\n",
        "\n",
        "\n",
        "    # point to a dir containing the images and not to the images themselves\n",
        "    path = skin_dense_aug_dir\n",
        "    save_path = 'skin_dense_base_dir/train_dir/' + img_class\n",
        "\n",
        "    # Create a data generator skin ui\n",
        "    datagen = ImageDataGenerator(\n",
        "        rotation_range=40,\n",
        "        width_shift_range=0.2,\n",
        "        height_shift_range=0.2,\n",
        "        zoom_range=0.2,\n",
        "        horizontal_flip=True,\n",
        "        vertical_flip=True,\n",
        "        brightness_range=(0.9,1.1),\n",
        "        fill_mode='nearest')\n",
        "\n",
        "    batch_size = 50\n",
        "\n",
        "    aug_datagen = datagen.flow_from_directory(path,\n",
        "                                           save_to_dir=save_path,\n",
        "                                           save_format='jpg',\n",
        "                                                    target_size=(224,224),\n",
        "                                                    batch_size=batch_size)\n",
        "\n",
        "    num_aug_images_wanted = 4500 # total number of images  in each class\n",
        "\n",
        "    num_files = len(os.listdir(img_dir))\n",
        "    num_batches = int(np.ceil((num_aug_images_wanted-num_files)/batch_size))\n",
        "\n",
        "    # run the generator and create augmented images\n",
        "    for i in range(0,num_batches):\n",
        "\n",
        "        imgs, labels = next(aug_datagen)\n",
        "\n",
        "    # delete temporary directory with the raw image files\n",
        "    shutil.rmtree('skin_dense_aug_dir')"
      ],
      "metadata": {
        "id": "e64GOpevTFBe",
        "colab": {
          "base_uri": "https://localhost:8080/"
        },
        "outputId": "10b7e447-bca1-405a-f238-d5961748317e"
      },
      "execution_count": null,
      "outputs": [
        {
          "output_type": "stream",
          "name": "stdout",
          "text": [
            "Found 790 images belonging to 1 classes.\n",
            "Found 799 images belonging to 1 classes.\n",
            "Found 362 images belonging to 1 classes.\n",
            "Found 228 images belonging to 1 classes.\n",
            "Found 100 images belonging to 1 classes.\n",
            "Found 84 images belonging to 1 classes.\n"
          ]
        }
      ]
    },
    {
      "cell_type": "code",
      "source": [
        "# Determine the count of training images present in each directory.\n",
        "\n",
        "print('nv:',len(os.listdir('skin_dense_base_dir/train_dir/nv')))\n",
        "print('mel:',len(os.listdir('skin_dense_base_dir/train_dir/mel')))\n",
        "print('bkl:',len(os.listdir('skin_dense_base_dir/train_dir/bkl')))\n",
        "print('bcc:',len(os.listdir('skin_dense_base_dir/train_dir/bcc')))\n",
        "print('akiec:',len(os.listdir('skin_dense_base_dir/train_dir/akiec')))\n",
        "print('vasc:',len(os.listdir('skin_dense_base_dir/train_dir/vasc')))\n",
        "print('df:',len(os.listdir('skin_dense_base_dir/train_dir/df')))"
      ],
      "metadata": {
        "id": "v2x8DAVrTU_V",
        "colab": {
          "base_uri": "https://localhost:8080/"
        },
        "outputId": "e383c8a9-3778-4cb5-ea55-11bd010c44e5"
      },
      "execution_count": null,
      "outputs": [
        {
          "output_type": "stream",
          "name": "stdout",
          "text": [
            "nv: 4647\n",
            "mel: 4500\n",
            "bkl: 4545\n",
            "bcc: 4132\n",
            "akiec: 4154\n",
            "vasc: 4500\n",
            "df: 3830\n"
          ]
        }
      ]
    },
    {
      "cell_type": "code",
      "source": [
        "# Determine the count of val images present in each directory.\n",
        "\n",
        "print('nv:',len(os.listdir('skin_dense_base_dir/val_dir/nv')))\n",
        "print('mel:',len(os.listdir('skin_dense_base_dir/val_dir/mel')))\n",
        "print('bkl:',len(os.listdir('skin_dense_base_dir/val_dir/bkl')))\n",
        "print('bcc:',len(os.listdir('skin_dense_base_dir/val_dir/bcc')))\n",
        "print('akiec:',len(os.listdir('skin_dense_base_dir/val_dir/akiec')))\n",
        "print('vasc:',len(os.listdir('skin_dense_base_dir/val_dir/vasc')))\n",
        "print('df:',len(os.listdir('skin_dense_base_dir/val_dir/df')))"
      ],
      "metadata": {
        "id": "oAXKiytZTWCZ",
        "colab": {
          "base_uri": "https://localhost:8080/"
        },
        "outputId": "8b1d6ac6-6a40-4a43-facd-b9c8ddce849b"
      },
      "execution_count": null,
      "outputs": [
        {
          "output_type": "stream",
          "name": "stdout",
          "text": [
            "nv: 1015\n",
            "mel: 182\n",
            "bkl: 151\n",
            "bcc: 70\n",
            "akiec: 54\n",
            "vasc: 18\n",
            "df: 13\n"
          ]
        }
      ]
    },
    {
      "cell_type": "code",
      "source": [
        "# Check how many test images we have in each folder.\n",
        "\n",
        "print('nv:',len(os.listdir('skin_dense_base_dir/test_dir/nv')))\n",
        "print('mel:',len(os.listdir('skin_dense_base_dir/test_dir/mel')))\n",
        "print('bkl:',len(os.listdir('skin_dense_base_dir/test_dir/bkl')))\n",
        "print('bcc:',len(os.listdir('skin_dense_base_dir/test_dir/bcc')))\n",
        "print('akiec:',len(os.listdir('skin_dense_base_dir/test_dir/akiec')))\n",
        "print('vasc:',len(os.listdir('skin_dense_base_dir/test_dir/vasc')))\n",
        "print('df:',len(os.listdir('skin_dense_base_dir/test_dir/df')))"
      ],
      "metadata": {
        "colab": {
          "base_uri": "https://localhost:8080/"
        },
        "id": "W2DJZCKgr1-e",
        "outputId": "c0f4be47-2ce6-416f-b1b7-b1992c35d185"
      },
      "execution_count": null,
      "outputs": [
        {
          "output_type": "stream",
          "name": "stdout",
          "text": [
            "nv: 1043\n",
            "mel: 141\n",
            "bkl: 149\n",
            "bcc: 82\n",
            "akiec: 45\n",
            "vasc: 24\n",
            "df: 18\n"
          ]
        }
      ]
    },
    {
      "cell_type": "markdown",
      "source": [
        "**IMAGE GENERATOR STEPS**"
      ],
      "metadata": {
        "id": "o81iK0bnxaji"
      }
    },
    {
      "cell_type": "code",
      "source": [
        "#Prepare for Generator steps\n",
        "\n",
        "train_path = 'skin_dense_base_dir/train_dir'\n",
        "valid_path = 'skin_dense_base_dir/val_dir'\n",
        "test_path='skin_dense_base_dir/test_dir'\n",
        "\n",
        "num_train_samples = len(df_train)\n",
        "num_val_samples = len(df_val)\n",
        "num_test_samples = len(df_test)\n",
        "train_batch_size = 10\n",
        "val_batch_size = 10\n",
        "test_batch_size = 10\n",
        "\n",
        "image_size = 224\n",
        "\n",
        "train_steps = np.ceil(num_train_samples / train_batch_size)\n",
        "val_steps = np.ceil(num_val_samples / val_batch_size)\n",
        "test_steps = np.ceil(num_test_samples / test_batch_size)"
      ],
      "metadata": {
        "id": "QlqM7JdkT5zB"
      },
      "execution_count": null,
      "outputs": []
    },
    {
      "cell_type": "code",
      "source": [
        "#Data Generator Preprocessing and creating train,test and validation batches\n",
        "datagen = ImageDataGenerator(\n",
        "    preprocessing_function= \\\n",
        "    tensorflow.keras.applications.densenet.preprocess_input)\n",
        "\n",
        "train_batches = datagen.flow_from_directory(train_path,\n",
        "                                            target_size=(image_size,image_size),\n",
        "                                            batch_size=train_batch_size,class_mode='categorical')\n",
        "\n",
        "valid_batches = datagen.flow_from_directory(valid_path,\n",
        "                                            target_size=(image_size,image_size),\n",
        "                                            batch_size=val_batch_size,class_mode='categorical')\n",
        "\n",
        "test_batches = datagen.flow_from_directory(test_path,\n",
        "                                            target_size=(image_size,image_size),\n",
        "                                            batch_size=test_batch_size,\n",
        "                                            shuffle=False,class_mode='categorical')"
      ],
      "metadata": {
        "id": "AnL0PXE4UsV2",
        "colab": {
          "base_uri": "https://localhost:8080/"
        },
        "outputId": "50118ff9-4b42-48ac-f9be-9b6cfcb34fa5"
      },
      "execution_count": null,
      "outputs": [
        {
          "output_type": "stream",
          "name": "stdout",
          "text": [
            "Found 30308 images belonging to 7 classes.\n",
            "Found 1503 images belonging to 7 classes.\n",
            "Found 1502 images belonging to 7 classes.\n"
          ]
        }
      ]
    },
    {
      "cell_type": "markdown",
      "source": [
        "**MODEL BUILDING**"
      ],
      "metadata": {
        "id": "PfYV2extxoWk"
      }
    },
    {
      "cell_type": "code",
      "source": [
        "#Model Building with image size 224(Pre Trained on Imagenet)\n",
        "densenet_model = Sequential()\n",
        "pretrained_model=DenseNet201(\n",
        "    include_top=False,\n",
        "    weights='imagenet',\n",
        "    input_shape=(224,224,3)\n",
        ")\n",
        "\n",
        "for layer in pretrained_model.layers:\n",
        "        layer.trainable=False\n",
        "\n",
        "densenet_model.add(pretrained_model)\n",
        "densenet_model.add(Flatten())\n",
        "densenet_model.add(Dense(512, activation='relu', kernel_regularizer=regularizers.l2(0.01)))\n",
        "densenet_model.add(Dropout(0.2))\n",
        "\n",
        "for layer in densenet_model.layers[-10:]:\n",
        "    layer.trainable = True\n",
        "\n",
        "densenet_model.add(Dense(7, activation='softmax'))"
      ],
      "metadata": {
        "id": "rfmIeOqcLyGv",
        "colab": {
          "base_uri": "https://localhost:8080/"
        },
        "outputId": "2b7c4d5b-153d-4ea0-939a-ab82260f53cf"
      },
      "execution_count": null,
      "outputs": [
        {
          "output_type": "stream",
          "name": "stdout",
          "text": [
            "Downloading data from https://storage.googleapis.com/tensorflow/keras-applications/densenet/densenet201_weights_tf_dim_ordering_tf_kernels_notop.h5\n",
            "74836368/74836368 [==============================] - 0s 0us/step\n"
          ]
        }
      ]
    },
    {
      "cell_type": "code",
      "source": [
        "densenet_model.summary()"
      ],
      "metadata": {
        "colab": {
          "base_uri": "https://localhost:8080/"
        },
        "id": "09cCPLNTx_ez",
        "outputId": "f56f2058-dbbf-433e-c8d0-0f1f4dda427d"
      },
      "execution_count": null,
      "outputs": [
        {
          "output_type": "stream",
          "name": "stdout",
          "text": [
            "Model: \"sequential\"\n",
            "_________________________________________________________________\n",
            " Layer (type)                Output Shape              Param #   \n",
            "=================================================================\n",
            " densenet201 (Functional)    (None, 7, 7, 1920)        18321984  \n",
            "                                                                 \n",
            " flatten (Flatten)           (None, 94080)             0         \n",
            "                                                                 \n",
            " dense (Dense)               (None, 512)               48169472  \n",
            "                                                                 \n",
            " dropout (Dropout)           (None, 512)               0         \n",
            "                                                                 \n",
            " dense_1 (Dense)             (None, 7)                 3591      \n",
            "                                                                 \n",
            "=================================================================\n",
            "Total params: 66495047 (253.66 MB)\n",
            "Trainable params: 66265991 (252.78 MB)\n",
            "Non-trainable params: 229056 (894.75 KB)\n",
            "_________________________________________________________________\n"
          ]
        }
      ]
    },
    {
      "cell_type": "code",
      "source": [
        "#Compile the model\n",
        "densenet_model.compile(optimizer=Adam(learning_rate=0.0001),loss='categorical_crossentropy',metrics=['accuracy'])"
      ],
      "metadata": {
        "id": "hX4tY0sMVFgP"
      },
      "execution_count": null,
      "outputs": []
    },
    {
      "cell_type": "code",
      "source": [
        "#Early stopping and Check points\n",
        "early_stop = EarlyStopping(monitor='val_loss', patience=3,verbose=1,mode='auto', restore_best_weights=True)\n",
        "checkpoint = ModelCheckpoint('/content/drive/MyDrive/DISSERTATION/HAM10000_DATASET/MODEL_OUTPUTS/SKIN_CANCER_DENSENET_201_Final_Model.h5', monitor='val_accuracy', save_best_only=True)"
      ],
      "metadata": {
        "id": "4wHQspgcVLpv"
      },
      "execution_count": null,
      "outputs": []
    },
    {
      "cell_type": "code",
      "source": [
        "callbacks_list = [checkpoint, early_stop]"
      ],
      "metadata": {
        "id": "1OpyNvfwVZMH"
      },
      "execution_count": null,
      "outputs": []
    },
    {
      "cell_type": "code",
      "source": [
        "#Train the model\n",
        "history=densenet_model.fit_generator(\n",
        "        train_batches,\n",
        "        steps_per_epoch=train_steps,\n",
        "        epochs=50,\n",
        "        validation_data=valid_batches,\n",
        "        validation_steps=val_steps,\n",
        "        callbacks=callbacks_list)"
      ],
      "metadata": {
        "id": "fVmL7eNyVbCW",
        "colab": {
          "base_uri": "https://localhost:8080/"
        },
        "outputId": "054c316b-fb76-4fad-9bfa-71f968e97390"
      },
      "execution_count": null,
      "outputs": [
        {
          "output_type": "stream",
          "name": "stdout",
          "text": [
            "Epoch 1/50\n",
            "701/701 [==============================] - 286s 249ms/step - loss: 3.9743 - accuracy: 0.6459 - val_loss: 2.5598 - val_accuracy: 0.6653\n",
            "Epoch 2/50\n",
            "701/701 [==============================] - 179s 255ms/step - loss: 1.9103 - accuracy: 0.7539 - val_loss: 1.5937 - val_accuracy: 0.7838\n",
            "Epoch 3/50\n",
            "701/701 [==============================] - 170s 243ms/step - loss: 1.2647 - accuracy: 0.7952 - val_loss: 1.1524 - val_accuracy: 0.7991\n",
            "Epoch 4/50\n",
            "701/701 [==============================] - 159s 227ms/step - loss: 0.9443 - accuracy: 0.8264 - val_loss: 1.0366 - val_accuracy: 0.7884\n",
            "Epoch 5/50\n",
            "701/701 [==============================] - 169s 240ms/step - loss: 0.8213 - accuracy: 0.8281 - val_loss: 0.8659 - val_accuracy: 0.8051\n",
            "Epoch 6/50\n",
            "701/701 [==============================] - 159s 227ms/step - loss: 0.6831 - accuracy: 0.8609 - val_loss: 0.8839 - val_accuracy: 0.7957\n",
            "Epoch 7/50\n",
            "701/701 [==============================] - 158s 226ms/step - loss: 0.6258 - accuracy: 0.8614 - val_loss: 1.0961 - val_accuracy: 0.7871\n",
            "Epoch 8/50\n",
            "701/701 [==============================] - 170s 243ms/step - loss: 0.5460 - accuracy: 0.8789 - val_loss: 0.7084 - val_accuracy: 0.8204\n",
            "Epoch 9/50\n",
            "701/701 [==============================] - 168s 240ms/step - loss: 0.5295 - accuracy: 0.8825 - val_loss: 0.7223 - val_accuracy: 0.8217\n",
            "Epoch 10/50\n",
            "701/701 [==============================] - 159s 226ms/step - loss: 0.4774 - accuracy: 0.8896 - val_loss: 1.4039 - val_accuracy: 0.5655\n",
            "Epoch 11/50\n",
            "701/701 [==============================] - 169s 241ms/step - loss: 0.4288 - accuracy: 0.9021 - val_loss: 0.6051 - val_accuracy: 0.8263\n",
            "Epoch 12/50\n",
            "701/701 [==============================] - 159s 226ms/step - loss: 0.4212 - accuracy: 0.9041 - val_loss: 0.6777 - val_accuracy: 0.8250\n",
            "Epoch 13/50\n",
            "701/701 [==============================] - 158s 226ms/step - loss: 0.3728 - accuracy: 0.9147 - val_loss: 0.6877 - val_accuracy: 0.8170\n",
            "Epoch 14/50\n",
            "701/701 [==============================] - ETA: 0s - loss: 0.3512 - accuracy: 0.9208Restoring model weights from the end of the best epoch: 11.\n",
            "701/701 [==============================] - 168s 240ms/step - loss: 0.3512 - accuracy: 0.9208 - val_loss: 0.6166 - val_accuracy: 0.8297\n",
            "Epoch 14: early stopping\n"
          ]
        }
      ]
    },
    {
      "cell_type": "markdown",
      "source": [
        "**MODEL EVALUATION**"
      ],
      "metadata": {
        "id": "3IVhuduXynj6"
      }
    },
    {
      "cell_type": "code",
      "source": [
        "# Evaluate the model and generate a confusion matrix for Test\n",
        "test_batches.shuffle = False\n",
        "predictions = densenet_model.predict(test_batches)\n",
        "predicted_classes = np.argmax(predictions, axis=1)"
      ],
      "metadata": {
        "id": "AfaWVEaEWBdd",
        "colab": {
          "base_uri": "https://localhost:8080/"
        },
        "outputId": "d2282347-78f8-4777-e2bc-2275d3b74b15"
      },
      "execution_count": null,
      "outputs": [
        {
          "output_type": "stream",
          "name": "stdout",
          "text": [
            "151/151 [==============================] - 17s 88ms/step\n"
          ]
        }
      ]
    },
    {
      "cell_type": "code",
      "source": [
        "#Generate Confusion Matrix and Classification Report for Test Inages\n",
        "true_classes = test_batches.classes\n",
        "class_labels = list(test_batches.class_indices.keys())\n",
        "\n",
        "confusion_matrix_result = confusion_matrix(true_classes, predicted_classes)\n",
        "classification_report_result = classification_report(\n",
        "    true_classes,\n",
        "    predicted_classes,\n",
        "    target_names=class_labels\n",
        ")\n",
        "\n",
        "print(\"Confusion Matrix:\\n\", confusion_matrix_result)\n",
        "print(\"\\nClassification Report:\\n\", classification_report_result)"
      ],
      "metadata": {
        "id": "vyPJZc9GWCaJ",
        "colab": {
          "base_uri": "https://localhost:8080/"
        },
        "outputId": "d65ec0a3-f6b4-44ad-bd99-75189ef0a48a"
      },
      "execution_count": null,
      "outputs": [
        {
          "output_type": "stream",
          "name": "stdout",
          "text": [
            "Confusion Matrix:\n",
            " [[  30    6    6    0    0    3    0]\n",
            " [  10   57    1    0    1   13    0]\n",
            " [   9    4   86    0    6   44    0]\n",
            " [   2    0    0   11    0    5    0]\n",
            " [   2    3    7    0   52   76    1]\n",
            " [   2   13   12    0   10 1005    1]\n",
            " [   0    0    0    0    1    0   23]]\n",
            "\n",
            "Classification Report:\n",
            "               precision    recall  f1-score   support\n",
            "\n",
            "       akiec       0.55      0.67      0.60        45\n",
            "         bcc       0.69      0.70      0.69        82\n",
            "         bkl       0.77      0.58      0.66       149\n",
            "          df       1.00      0.61      0.76        18\n",
            "         mel       0.74      0.37      0.49       141\n",
            "          nv       0.88      0.96      0.92      1043\n",
            "        vasc       0.92      0.96      0.94        24\n",
            "\n",
            "    accuracy                           0.84      1502\n",
            "   macro avg       0.79      0.69      0.72      1502\n",
            "weighted avg       0.84      0.84      0.83      1502\n",
            "\n"
          ]
        }
      ]
    },
    {
      "cell_type": "code",
      "source": [
        "# Plotting the confusion matrix\n",
        "plt.figure(figsize=(5, 5))\n",
        "sns.set(font_scale=1.2)\n",
        "sns.heatmap(confusion_matrix_result, annot=True, fmt='g', cmap='Blues', cbar=False,\n",
        "            annot_kws={'size': 12}, linewidths=0.5, linecolor='black')\n",
        "\n",
        "plt.title('Confusion Matrix')\n",
        "plt.xlabel('Predicted')\n",
        "plt.ylabel('True')\n",
        "plt.show()"
      ],
      "metadata": {
        "colab": {
          "base_uri": "https://localhost:8080/",
          "height": 501
        },
        "id": "AzkVnqvoyynJ",
        "outputId": "f3d12211-71d5-4192-81a3-0063ea42f925"
      },
      "execution_count": null,
      "outputs": [
        {
          "output_type": "display_data",
          "data": {
            "text/plain": [
              "<Figure size 500x500 with 1 Axes>"
            ],
            "image/png": "[encoded data removed]"
          },
          "metadata": {}
        }
      ]
    },
    {
      "cell_type": "code",
      "source": [
        "precision = precision_score(true_classes, predicted_classes,average = 'macro')\n",
        "accuracy = balanced_accuracy_score(true_classes, predicted_classes)\n",
        "recall = recall_score(true_classes, predicted_classes,average = 'macro')\n",
        "f1 = f1_score(true_classes, predicted_classes,average = 'macro')\n",
        "balanced_accuracy = balanced_accuracy_score(true_classes, predicted_classes)\n",
        "print(\"The precision score for HAM10000 Dataset  Model is: \", precision)\n",
        "print(\"The accuracy score for HAM10000 Dataset  Model is: \", accuracy)\n",
        "print(\"The recall score for HAM10000 Dataset  Model is: \", recall)\n",
        "print(\"The f1 score for HAM10000 Dataset  Model is: \", f1)\n",
        "print(\"The balanced_accuracy for HAM10000 Dataset  Model is: \", balanced_accuracy)"
      ],
      "metadata": {
        "id": "m6gH2N7xFV-k",
        "colab": {
          "base_uri": "https://localhost:8080/"
        },
        "outputId": "8f55b865-d6df-4655-8111-f6de80a78ad6"
      },
      "execution_count": null,
      "outputs": [
        {
          "output_type": "stream",
          "name": "stdout",
          "text": [
            "The precision score for HAM10000 Dataset  Model is:  0.7914113099865683\n",
            "The accuracy score for HAM10000 Dataset  Model is:  0.6915393187618605\n",
            "The recall score for HAM10000 Dataset  Model is:  0.6915393187618605\n",
            "The f1 score for HAM10000 Dataset  Model is:  0.7226325169412438\n",
            "The balanced_accuracy for HAM10000 Dataset  Model is:  0.6915393187618605\n"
          ]
        }
      ]
    },
    {
      "cell_type": "code",
      "source": [
        "precision = precision_score(true_classes, predicted_classes,average = 'weighted')\n",
        "accuracy = balanced_accuracy_score(true_classes, predicted_classes)\n",
        "recall = recall_score(true_classes, predicted_classes,average = 'weighted')\n",
        "f1 = f1_score(true_classes, predicted_classes,average = 'weighted')\n",
        "balanced_accuracy = balanced_accuracy_score(true_classes, predicted_classes)\n",
        "print(\"The precision score for HAM10000 Dataset  Model is: \", precision)\n",
        "print(\"The accuracy score for HAM10000 Dataset  Model is: \", accuracy)\n",
        "print(\"The recall score for HAM10000 Dataset  Model is: \", recall)\n",
        "print(\"The f1 score for HAM10000 Dataset  Model is: \", f1)\n",
        "print(\"The balanced_accuracy for HAM10000 Dataset  Model is: \", balanced_accuracy)"
      ],
      "metadata": {
        "id": "enUJjjBYFWD7",
        "colab": {
          "base_uri": "https://localhost:8080/"
        },
        "outputId": "00a5ba74-ce7a-4914-da8c-7b9a2d9c2c44"
      },
      "execution_count": null,
      "outputs": [
        {
          "output_type": "stream",
          "name": "stdout",
          "text": [
            "The precision score for HAM10000 Dataset  Model is:  0.8353961743376723\n",
            "The accuracy score for HAM10000 Dataset  Model is:  0.6915393187618605\n",
            "The recall score for HAM10000 Dataset  Model is:  0.8415446071904128\n",
            "The f1 score for HAM10000 Dataset  Model is:  0.8290551364962713\n",
            "The balanced_accuracy for HAM10000 Dataset  Model is:  0.6915393187618605\n"
          ]
        }
      ]
    },
    {
      "cell_type": "code",
      "source": [
        "#Creating Train and Valication dataset Loss and Accuracy graphs\n",
        "\n",
        "fig, ax = plt.subplots(2,1)\n",
        "ax[0].plot(history.history['loss'], color='b', label=\"Training loss\")\n",
        "ax[0].plot(history.history['val_loss'], color='r', label=\"validation loss\",axes =ax[0])\n",
        "ax[0].set_title('Training and Validation Loss')\n",
        "ax[0].set_xlabel('Epochs')\n",
        "ax[0].set_ylabel('Loss')\n",
        "legend = ax[0].legend(loc='best', shadow=True)\n",
        "\n",
        "ax[1].plot(history.history['accuracy'], color='b', label=\"Training accuracy\")\n",
        "ax[1].plot(history.history['val_accuracy'], color='r',label=\"Validation accuracy\")\n",
        "ax[1].set_title('Training and Validation Accuracy')\n",
        "legend = ax[1].legend(loc='best', shadow=True)\n",
        "ax[1].set_xlabel('Epochs')\n",
        "ax[1].set_ylabel('Accuracy')\n",
        "\n",
        "plt.tight_layout()\n",
        "plt.show()"
      ],
      "metadata": {
        "id": "zT1OpvjFWFV5",
        "colab": {
          "base_uri": "https://localhost:8080/",
          "height": 473
        },
        "outputId": "e1722aff-8f26-43eb-e965-2a014f2a950c"
      },
      "execution_count": null,
      "outputs": [
        {
          "output_type": "display_data",
          "data": {
            "text/plain": [
              "<Figure size 640x480 with 2 Axes>"
            ],
            "image/png": "[encoded data removed]"
          },
          "metadata": {}
        }
      ]
    },
    {
      "cell_type": "code",
      "source": [
        "#Assigning Loss and Accuracy Values to varaibles\n",
        "train_loss = history.history['loss'][-1]\n",
        "train_accuracy = history.history['accuracy'][-1]\n",
        "val_loss = history.history['val_loss'][-1]\n",
        "val_accuracy = history.history['val_accuracy'][-1]"
      ],
      "metadata": {
        "id": "0BLCfs7Pqw7J"
      },
      "execution_count": null,
      "outputs": []
    },
    {
      "cell_type": "code",
      "source": [
        "#Printing Train and Test Accuracy\n",
        "print('train_loss:',train_loss)\n",
        "print('train_accuracy:',train_accuracy)\n",
        "print('val_loss:',val_loss)\n",
        "print('val_accuracy:',val_accuracy)"
      ],
      "metadata": {
        "id": "nKq6UDiq1K5H",
        "colab": {
          "base_uri": "https://localhost:8080/"
        },
        "outputId": "90257a60-8171-4d68-c046-62fdf3fcb82e"
      },
      "execution_count": null,
      "outputs": [
        {
          "output_type": "stream",
          "name": "stdout",
          "text": [
            "train_loss: 0.3511797785758972\n",
            "train_accuracy: 0.9208047986030579\n",
            "val_loss: 0.6166023015975952\n",
            "val_accuracy: 0.8296740055084229\n"
          ]
        }
      ]
    },
    {
      "cell_type": "code",
      "source": [
        "# Evaluate the model and generate a confusion matrix\n",
        "test_batches.shuffle = False  # Disable shuffling for evaluation\n",
        "predictions = densenet_model.predict(test_batches)\n",
        "predicted_classes = np.argmax(predictions, axis=1)"
      ],
      "metadata": {
        "id": "lWAafTf7erzq",
        "colab": {
          "base_uri": "https://localhost:8080/"
        },
        "outputId": "c9fd2046-d3e7-428b-e2d5-a2e2a1ad13fe"
      },
      "execution_count": null,
      "outputs": [
        {
          "output_type": "stream",
          "name": "stdout",
          "text": [
            "151/151 [==============================] - 10s 67ms/step\n"
          ]
        }
      ]
    },
    {
      "cell_type": "code",
      "source": [
        "# Load the model weights\n",
        "densenet_model.load_weights('/content/drive/MyDrive/DISSERTATION/HAM10000_DATASET/MODEL_OUTPUTS/SKIN_CANCER_DENSENET_201_Final_Model.h5')\n",
        "\n",
        "# Generate predictions\n",
        "predictions = densenet_model.predict(test_batches)\n",
        "\n",
        "# Convert true labels to one-hot encoded format\n",
        "true_labels = np.array(test_batches.labels)\n",
        "label_binarizer = LabelBinarizer()\n",
        "true_labels = label_binarizer.fit_transform(true_labels)\n",
        "\n",
        "# Calculate ROC AUC scores\n",
        "roc_auc_scores = roc_auc_score(true_labels, predictions, average='macro')\n",
        "print(roc_auc_scores)"
      ],
      "metadata": {
        "id": "yvLLqlAIgUPK",
        "colab": {
          "base_uri": "https://localhost:8080/"
        },
        "outputId": "64a85ec0-9aff-4f97-c4c1-561ef517482d"
      },
      "execution_count": null,
      "outputs": [
        {
          "output_type": "stream",
          "name": "stdout",
          "text": [
            "151/151 [==============================] - 10s 67ms/step\n"
          ]
        }
      ]
    },
    {
      "cell_type": "code",
      "source": [
        "#Roc Curve plot\n",
        "num_classes = 7\n",
        "fpr = dict()\n",
        "tpr = dict()\n",
        "roc_auc = dict()\n",
        "\n",
        "\n",
        "plt.figure(figsize=(10, 6))\n",
        "\n",
        "for i in range(num_classes):\n",
        "    fpr[i], tpr[i], _ = roc_curve(true_labels[:, i], predictions[:, i])\n",
        "    roc_auc[i] = auc(fpr[i], tpr[i])\n",
        "\n",
        "    plt.plot(fpr[i], tpr[i], label=f'Class {i} (AUC = {roc_auc[i]:.2f})')\n",
        "\n",
        "plt.plot([0, 1], [0, 1], 'k--')\n",
        "plt.xlim([0.0, 1.0])\n",
        "plt.ylim([0.0, 1.05])\n",
        "plt.xlabel('False Positive Rate')\n",
        "plt.ylabel('True Positive Rate')\n",
        "plt.title('ROC Curve for Multiclass Classification')\n",
        "plt.legend(loc=\"lower right\")\n",
        "plt.show()"
      ],
      "metadata": {
        "id": "4LxCarjOhL9Y",
        "colab": {
          "base_uri": "https://localhost:8080/",
          "height": 578
        },
        "outputId": "a0f4d47a-f5bc-4a59-d919-018b3ebd86f2"
      },
      "execution_count": null,
      "outputs": [
        {
          "output_type": "display_data",
          "data": {
            "text/plain": [
              "<Figure size 1000x600 with 1 Axes>"
            ],
            "image/png": "[encoded data removed]"
          },
          "metadata": {}
        }
      ]
    },
    {
      "cell_type": "code",
      "source": [
        "#Date Time\n",
        "import datetime\n",
        "import pytz\n",
        "\n",
        "london_timezone = pytz.timezone('Europe/London')\n",
        "current_time_london = datetime.datetime.now(london_timezone)\n",
        "print(\"Current Date and Time in London:\", current_time_london.strftime(\"%Y-%m-%d %H:%M:%S %Z\"))"
      ],
      "metadata": {
        "colab": {
          "base_uri": "https://localhost:8080/"
        },
        "id": "3eIoq3WwzNBr",
        "outputId": "c4bd40df-4fb0-4835-e806-6eaf05b70fb8"
      },
      "execution_count": null,
      "outputs": [
        {
          "output_type": "stream",
          "name": "stdout",
          "text": [
            "Current Date and Time in London: 2024-01-03 12:31:06 GMT\n"
          ]
        }
      ]
    }
  ]
}
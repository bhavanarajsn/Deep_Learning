{
  "nbformat": 4,
  "nbformat_minor": 0,
  "metadata": {
    "colab": {
      "provenance": [],
      "machine_shape": "hm"
    },
    "kernelspec": {
      "name": "python3",
      "display_name": "Python 3"
    },
    "language_info": {
      "name": "python"
    }
  },
  "cells": [
    {
      "cell_type": "markdown",
      "source": [
        "**DRIVE MOUNT**"
      ],
      "metadata": {
        "id": "NvxKE43EC6K4"
      }
    },
    {
      "cell_type": "code",
      "execution_count": null,
      "metadata": {
        "id": "xZ-r8CCqST9d",
        "colab": {
          "base_uri": "https://localhost:8080/"
        },
        "outputId": "a41f3372-1025-4126-8368-deaa7849798a"
      },
      "outputs": [
        {
          "output_type": "stream",
          "name": "stdout",
          "text": [
            "Mounted at /content/drive\n"
          ]
        }
      ],
      "source": [
        "#Mounting Google Drive in Colab notebook\n",
        "from google.colab import drive\n",
        "import numpy as np\n",
        "drive.mount('/content/drive')"
      ]
    },
    {
      "cell_type": "code",
      "source": [
        "import datetime\n",
        "import pytz\n",
        "\n",
        "london_timezone = pytz.timezone('Europe/London')\n",
        "current_time_london = datetime.datetime.now(london_timezone)\n",
        "print(\"Current Date and Time in London:\", current_time_london.strftime(\"%Y-%m-%d %H:%M:%S %Z\"))"
      ],
      "metadata": {
        "id": "zVgFDwyl0bM1",
        "colab": {
          "base_uri": "https://localhost:8080/"
        },
        "outputId": "eb9cb3d9-041c-434a-e8cb-c477400a1aed"
      },
      "execution_count": null,
      "outputs": [
        {
          "output_type": "stream",
          "name": "stdout",
          "text": [
            "Current Date and Time in London: 2023-12-12 16:30:24 GMT\n"
          ]
        }
      ]
    },
    {
      "cell_type": "markdown",
      "source": [
        "**LIBRARY IMPORTS**"
      ],
      "metadata": {
        "id": "nTuMLdZXDG7G"
      }
    },
    {
      "cell_type": "code",
      "source": [
        "pip install -q -U keras-tuner"
      ],
      "metadata": {
        "colab": {
          "base_uri": "https://localhost:8080/"
        },
        "id": "Ctsu9GznlKLr",
        "outputId": "179c618f-80e8-4927-a351-e50c88645c86"
      },
      "execution_count": null,
      "outputs": [
        {
          "output_type": "stream",
          "name": "stdout",
          "text": [
            "\u001b[?25l     \u001b[90m━━━━━━━━━━━━━━━━━━━━━━━━━━━━━━━━━━━━━━━━\u001b[0m \u001b[32m0.0/128.9 kB\u001b[0m \u001b[31m?\u001b[0m eta \u001b[36m-:--:--\u001b[0m\r\u001b[2K     \u001b[91m━━━━━━━━━━━━━━━━━━━━━━━━━━━━━━━━━━━━━━\u001b[0m\u001b[90m╺\u001b[0m\u001b[90m━\u001b[0m \u001b[32m122.9/128.9 kB\u001b[0m \u001b[31m4.2 MB/s\u001b[0m eta \u001b[36m0:00:01\u001b[0m\r\u001b[2K     \u001b[90m━━━━━━━━━━━━━━━━━━━━━━━━━━━━━━━━━━━━━━━━\u001b[0m \u001b[32m128.9/128.9 kB\u001b[0m \u001b[31m3.5 MB/s\u001b[0m eta \u001b[36m0:00:00\u001b[0m\n",
            "\u001b[?25h"
          ]
        }
      ]
    },
    {
      "cell_type": "code",
      "source": [
        "from numpy.random import seed\n",
        "\n",
        "# Ignore specific warnings\n",
        "import warnings\n",
        "warnings.filterwarnings(\"ignore\", category=UserWarning)\n",
        "warnings.filterwarnings(\"ignore\", category=DeprecationWarning)\n",
        "\n",
        "#Importing Basic Libaries for Data Load and Image Movement\n",
        "import os\n",
        "import pandas as pd\n",
        "import numpy as np\n",
        "import itertools\n",
        "import shutil\n",
        "\n",
        "#Tensorflow libraries\n",
        "import tensorflow\n",
        "import keras\n",
        "tensorflow.random.set_seed(101)\n",
        "\n",
        "#libraries to build neural network models\n",
        "from keras.models import Sequential\n",
        "from keras.layers import Dense, Dropout, Flatten,GlobalAveragePooling2D\n",
        "from keras import backend as k\n",
        "\n",
        "from keras.utils import to_categorical\n",
        "from keras import optimizers\n",
        "from keras.optimizers import SGD,Adam\n",
        "from tensorflow.keras.preprocessing.image import ImageDataGenerator\n",
        "from keras.models import Model\n",
        "from tensorflow.keras.models import Model\n",
        "from tensorflow.keras.utils import img_to_array,array_to_img\n",
        "from tensorflow.keras.callbacks import EarlyStopping, ReduceLROnPlateau, ModelCheckpoint, CSVLogger\n",
        "from tensorflow.keras import regularizers\n",
        "from keras_tuner.tuners import RandomSearch\n",
        "\n",
        "#Model Libraries:\n",
        "from tensorflow.keras.applications import DenseNet201\n",
        "from tensorflow.keras.applications.densenet  import preprocess_input\n",
        "\n",
        "#Split and Importing evaluation libraries\n",
        "from tensorflow.keras.metrics import categorical_crossentropy\n",
        "from sklearn.metrics import confusion_matrix, roc_curve, auc,classification_report,balanced_accuracy_score,precision_score,recall_score,f1_score\n",
        "from sklearn.model_selection import train_test_split\n",
        "from sklearn.metrics import roc_curve, auc\n",
        "from sklearn.metrics import roc_auc_score\n",
        "from sklearn.preprocessing import LabelBinarizer\n",
        "\n",
        "#Plotting Graphs:\n",
        "import matplotlib.pyplot as plt\n",
        "%matplotlib inline\n",
        "import seaborn as sns"
      ],
      "metadata": {
        "id": "qHnOLntKIZft"
      },
      "execution_count": null,
      "outputs": []
    },
    {
      "cell_type": "markdown",
      "source": [
        "**DIRECTORIES CREATION**"
      ],
      "metadata": {
        "id": "YusX6UhbDSSr"
      }
    },
    {
      "cell_type": "code",
      "source": [
        "# Creating new directory for file movement:\n",
        "skin_dense_base_dir = 'skin_dense_base_dir'\n",
        "os.mkdir(skin_dense_base_dir)"
      ],
      "metadata": {
        "id": "JipwHZVPIGnH"
      },
      "execution_count": null,
      "outputs": []
    },
    {
      "cell_type": "code",
      "source": [
        "# Generate a pathway leading to the 'skin_dense_base_dir' to which we will append the names of the new folders\n",
        "# Training Directory creation\n",
        "train_dir = os.path.join(skin_dense_base_dir, 'train_dir')\n",
        "os.mkdir(train_dir)\n",
        "\n",
        "# Validation Directory creation\n",
        "val_dir = os.path.join(skin_dense_base_dir, 'val_dir')\n",
        "os.mkdir(val_dir)\n",
        "\n",
        "# Test Directory creation\n",
        "test_dir = os.path.join(skin_dense_base_dir, 'test_dir')\n",
        "os.mkdir(test_dir)"
      ],
      "metadata": {
        "id": "NqjyvhBQIqCx"
      },
      "execution_count": null,
      "outputs": []
    },
    {
      "cell_type": "code",
      "source": [
        "# Creation of new folders inside Training Directory\n",
        "nv = os.path.join(train_dir, 'nv')\n",
        "os.mkdir(nv)\n",
        "mel = os.path.join(train_dir, 'mel')\n",
        "os.mkdir(mel)\n",
        "bkl = os.path.join(train_dir, 'bkl')\n",
        "os.mkdir(bkl)\n",
        "bcc = os.path.join(train_dir, 'bcc')\n",
        "os.mkdir(bcc)\n",
        "akiec = os.path.join(train_dir, 'akiec')\n",
        "os.mkdir(akiec)\n",
        "vasc = os.path.join(train_dir, 'vasc')\n",
        "os.mkdir(vasc)\n",
        "df = os.path.join(train_dir, 'df')\n",
        "os.mkdir(df)"
      ],
      "metadata": {
        "id": "sFYzdCOtItkr"
      },
      "execution_count": null,
      "outputs": []
    },
    {
      "cell_type": "code",
      "source": [
        "# Creation of new folders inside Validation Directory\n",
        "nv = os.path.join(val_dir, 'nv')\n",
        "os.mkdir(nv)\n",
        "mel = os.path.join(val_dir, 'mel')\n",
        "os.mkdir(mel)\n",
        "bkl = os.path.join(val_dir, 'bkl')\n",
        "os.mkdir(bkl)\n",
        "bcc = os.path.join(val_dir, 'bcc')\n",
        "os.mkdir(bcc)\n",
        "akiec = os.path.join(val_dir, 'akiec')\n",
        "os.mkdir(akiec)\n",
        "vasc = os.path.join(val_dir, 'vasc')\n",
        "os.mkdir(vasc)\n",
        "df = os.path.join(val_dir, 'df')\n",
        "os.mkdir(df)"
      ],
      "metadata": {
        "id": "1-MtW1DvIw2g"
      },
      "execution_count": null,
      "outputs": []
    },
    {
      "cell_type": "code",
      "source": [
        "# Creation of new folders inside Test Directory\n",
        "nv = os.path.join(test_dir, 'nv')\n",
        "os.mkdir(nv)\n",
        "mel = os.path.join(test_dir, 'mel')\n",
        "os.mkdir(mel)\n",
        "bkl = os.path.join(test_dir, 'bkl')\n",
        "os.mkdir(bkl)\n",
        "bcc = os.path.join(test_dir, 'bcc')\n",
        "os.mkdir(bcc)\n",
        "akiec = os.path.join(test_dir, 'akiec')\n",
        "os.mkdir(akiec)\n",
        "vasc = os.path.join(test_dir, 'vasc')\n",
        "os.mkdir(vasc)\n",
        "df = os.path.join(test_dir, 'df')\n",
        "os.mkdir(df)"
      ],
      "metadata": {
        "id": "nMDvWqJOIz3F"
      },
      "execution_count": null,
      "outputs": []
    },
    {
      "cell_type": "markdown",
      "source": [
        "**DATA LOAD AND ANALYSIS**"
      ],
      "metadata": {
        "id": "GUCoR_JWDd6_"
      }
    },
    {
      "cell_type": "code",
      "source": [
        "#Read metadata information of HAM10000 dataset\n",
        "df_data = pd.read_csv('/content/drive/MyDrive/DISSERTATION/HAM10000_DATASET/HAM10000_metadata')\n",
        "\n",
        "df_data.head()"
      ],
      "metadata": {
        "id": "8oMTRK-gI5eU",
        "colab": {
          "base_uri": "https://localhost:8080/",
          "height": 206
        },
        "outputId": "38961a6d-4356-4ab6-84b4-33a56d0757e8"
      },
      "execution_count": null,
      "outputs": [
        {
          "output_type": "execute_result",
          "data": {
            "text/plain": [
              "     lesion_id      image_id   dx dx_type   age   sex localization  \\\n",
              "0  HAM_0000118  ISIC_0027419  bkl   histo  80.0  male        scalp   \n",
              "1  HAM_0000118  ISIC_0025030  bkl   histo  80.0  male        scalp   \n",
              "2  HAM_0002730  ISIC_0026769  bkl   histo  80.0  male        scalp   \n",
              "3  HAM_0002730  ISIC_0025661  bkl   histo  80.0  male        scalp   \n",
              "4  HAM_0001466  ISIC_0031633  bkl   histo  75.0  male          ear   \n",
              "\n",
              "        dataset  \n",
              "0  vidir_modern  \n",
              "1  vidir_modern  \n",
              "2  vidir_modern  \n",
              "3  vidir_modern  \n",
              "4  vidir_modern  "
            ],
            "text/html": [
              "\n",
              "  <div id=\"df-ebea8a23-65ad-4512-ae55-333a7220b569\" class=\"colab-df-container\">\n",
              "    <div>\n",
              "<style scoped>\n",
              "    .dataframe tbody tr th:only-of-type {\n",
              "        vertical-align: middle;\n",
              "    }\n",
              "\n",
              "    .dataframe tbody tr th {\n",
              "        vertical-align: top;\n",
              "    }\n",
              "\n",
              "    .dataframe thead th {\n",
              "        text-align: right;\n",
              "    }\n",
              "</style>\n",
              "<table border=\"1\" class=\"dataframe\">\n",
              "  <thead>\n",
              "    <tr style=\"text-align: right;\">\n",
              "      <th></th>\n",
              "      <th>lesion_id</th>\n",
              "      <th>image_id</th>\n",
              "      <th>dx</th>\n",
              "      <th>dx_type</th>\n",
              "      <th>age</th>\n",
              "      <th>sex</th>\n",
              "      <th>localization</th>\n",
              "      <th>dataset</th>\n",
              "    </tr>\n",
              "  </thead>\n",
              "  <tbody>\n",
              "    <tr>\n",
              "      <th>0</th>\n",
              "      <td>HAM_0000118</td>\n",
              "      <td>ISIC_0027419</td>\n",
              "      <td>bkl</td>\n",
              "      <td>histo</td>\n",
              "      <td>80.0</td>\n",
              "      <td>male</td>\n",
              "      <td>scalp</td>\n",
              "      <td>vidir_modern</td>\n",
              "    </tr>\n",
              "    <tr>\n",
              "      <th>1</th>\n",
              "      <td>HAM_0000118</td>\n",
              "      <td>ISIC_0025030</td>\n",
              "      <td>bkl</td>\n",
              "      <td>histo</td>\n",
              "      <td>80.0</td>\n",
              "      <td>male</td>\n",
              "      <td>scalp</td>\n",
              "      <td>vidir_modern</td>\n",
              "    </tr>\n",
              "    <tr>\n",
              "      <th>2</th>\n",
              "      <td>HAM_0002730</td>\n",
              "      <td>ISIC_0026769</td>\n",
              "      <td>bkl</td>\n",
              "      <td>histo</td>\n",
              "      <td>80.0</td>\n",
              "      <td>male</td>\n",
              "      <td>scalp</td>\n",
              "      <td>vidir_modern</td>\n",
              "    </tr>\n",
              "    <tr>\n",
              "      <th>3</th>\n",
              "      <td>HAM_0002730</td>\n",
              "      <td>ISIC_0025661</td>\n",
              "      <td>bkl</td>\n",
              "      <td>histo</td>\n",
              "      <td>80.0</td>\n",
              "      <td>male</td>\n",
              "      <td>scalp</td>\n",
              "      <td>vidir_modern</td>\n",
              "    </tr>\n",
              "    <tr>\n",
              "      <th>4</th>\n",
              "      <td>HAM_0001466</td>\n",
              "      <td>ISIC_0031633</td>\n",
              "      <td>bkl</td>\n",
              "      <td>histo</td>\n",
              "      <td>75.0</td>\n",
              "      <td>male</td>\n",
              "      <td>ear</td>\n",
              "      <td>vidir_modern</td>\n",
              "    </tr>\n",
              "  </tbody>\n",
              "</table>\n",
              "</div>\n",
              "    <div class=\"colab-df-buttons\">\n",
              "\n",
              "  <div class=\"colab-df-container\">\n",
              "    <button class=\"colab-df-convert\" onclick=\"convertToInteractive('df-ebea8a23-65ad-4512-ae55-333a7220b569')\"\n",
              "            title=\"Convert this dataframe to an interactive table.\"\n",
              "            style=\"display:none;\">\n",
              "\n",
              "  <svg xmlns=\"http://www.w3.org/2000/svg\" height=\"24px\" viewBox=\"0 -960 960 960\">\n",
              "    <path d=\"M120-120v-720h720v720H120Zm60-500h600v-160H180v160Zm220 220h160v-160H400v160Zm0 220h160v-160H400v160ZM180-400h160v-160H180v160Zm440 0h160v-160H620v160ZM180-180h160v-160H180v160Zm440 0h160v-160H620v160Z\"/>\n",
              "  </svg>\n",
              "    </button>\n",
              "\n",
              "  <style>\n",
              "    .colab-df-container {\n",
              "      display:flex;\n",
              "      gap: 12px;\n",
              "    }\n",
              "\n",
              "    .colab-df-convert {\n",
              "      background-color: #E8F0FE;\n",
              "      border: none;\n",
              "      border-radius: 50%;\n",
              "      cursor: pointer;\n",
              "      display: none;\n",
              "      fill: #1967D2;\n",
              "      height: 32px;\n",
              "      padding: 0 0 0 0;\n",
              "      width: 32px;\n",
              "    }\n",
              "\n",
              "    .colab-df-convert:hover {\n",
              "      background-color: #E2EBFA;\n",
              "      box-shadow: 0px 1px 2px rgba(60, 64, 67, 0.3), 0px 1px 3px 1px rgba(60, 64, 67, 0.15);\n",
              "      fill: #174EA6;\n",
              "    }\n",
              "\n",
              "    .colab-df-buttons div {\n",
              "      margin-bottom: 4px;\n",
              "    }\n",
              "\n",
              "    [theme=dark] .colab-df-convert {\n",
              "      background-color: #3B4455;\n",
              "      fill: #D2E3FC;\n",
              "    }\n",
              "\n",
              "    [theme=dark] .colab-df-convert:hover {\n",
              "      background-color: #434B5C;\n",
              "      box-shadow: 0px 1px 3px 1px rgba(0, 0, 0, 0.15);\n",
              "      filter: drop-shadow(0px 1px 2px rgba(0, 0, 0, 0.3));\n",
              "      fill: #FFFFFF;\n",
              "    }\n",
              "  </style>\n",
              "\n",
              "    <script>\n",
              "      const buttonEl =\n",
              "        document.querySelector('#df-ebea8a23-65ad-4512-ae55-333a7220b569 button.colab-df-convert');\n",
              "      buttonEl.style.display =\n",
              "        google.colab.kernel.accessAllowed ? 'block' : 'none';\n",
              "\n",
              "      async function convertToInteractive(key) {\n",
              "        const element = document.querySelector('#df-ebea8a23-65ad-4512-ae55-333a7220b569');\n",
              "        const dataTable =\n",
              "          await google.colab.kernel.invokeFunction('convertToInteractive',\n",
              "                                                    [key], {});\n",
              "        if (!dataTable) return;\n",
              "\n",
              "        const docLinkHtml = 'Like what you see? Visit the ' +\n",
              "          '<a target=\"_blank\" href=https://colab.research.google.com/notebooks/data_table.ipynb>data table notebook</a>'\n",
              "          + ' to learn more about interactive tables.';\n",
              "        element.innerHTML = '';\n",
              "        dataTable['output_type'] = 'display_data';\n",
              "        await google.colab.output.renderOutput(dataTable, element);\n",
              "        const docLink = document.createElement('div');\n",
              "        docLink.innerHTML = docLinkHtml;\n",
              "        element.appendChild(docLink);\n",
              "      }\n",
              "    </script>\n",
              "  </div>\n",
              "\n",
              "\n",
              "<div id=\"df-b29bde90-477b-4edf-a124-b275fc04eabb\">\n",
              "  <button class=\"colab-df-quickchart\" onclick=\"quickchart('df-b29bde90-477b-4edf-a124-b275fc04eabb')\"\n",
              "            title=\"Suggest charts\"\n",
              "            style=\"display:none;\">\n",
              "\n",
              "<svg xmlns=\"http://www.w3.org/2000/svg\" height=\"24px\"viewBox=\"0 0 24 24\"\n",
              "     width=\"24px\">\n",
              "    <g>\n",
              "        <path d=\"M19 3H5c-1.1 0-2 .9-2 2v14c0 1.1.9 2 2 2h14c1.1 0 2-.9 2-2V5c0-1.1-.9-2-2-2zM9 17H7v-7h2v7zm4 0h-2V7h2v10zm4 0h-2v-4h2v4z\"/>\n",
              "    </g>\n",
              "</svg>\n",
              "  </button>\n",
              "\n",
              "<style>\n",
              "  .colab-df-quickchart {\n",
              "      --bg-color: #E8F0FE;\n",
              "      --fill-color: #1967D2;\n",
              "      --hover-bg-color: #E2EBFA;\n",
              "      --hover-fill-color: #174EA6;\n",
              "      --disabled-fill-color: #AAA;\n",
              "      --disabled-bg-color: #DDD;\n",
              "  }\n",
              "\n",
              "  [theme=dark] .colab-df-quickchart {\n",
              "      --bg-color: #3B4455;\n",
              "      --fill-color: #D2E3FC;\n",
              "      --hover-bg-color: #434B5C;\n",
              "      --hover-fill-color: #FFFFFF;\n",
              "      --disabled-bg-color: #3B4455;\n",
              "      --disabled-fill-color: #666;\n",
              "  }\n",
              "\n",
              "  .colab-df-quickchart {\n",
              "    background-color: var(--bg-color);\n",
              "    border: none;\n",
              "    border-radius: 50%;\n",
              "    cursor: pointer;\n",
              "    display: none;\n",
              "    fill: var(--fill-color);\n",
              "    height: 32px;\n",
              "    padding: 0;\n",
              "    width: 32px;\n",
              "  }\n",
              "\n",
              "  .colab-df-quickchart:hover {\n",
              "    background-color: var(--hover-bg-color);\n",
              "    box-shadow: 0 1px 2px rgba(60, 64, 67, 0.3), 0 1px 3px 1px rgba(60, 64, 67, 0.15);\n",
              "    fill: var(--button-hover-fill-color);\n",
              "  }\n",
              "\n",
              "  .colab-df-quickchart-complete:disabled,\n",
              "  .colab-df-quickchart-complete:disabled:hover {\n",
              "    background-color: var(--disabled-bg-color);\n",
              "    fill: var(--disabled-fill-color);\n",
              "    box-shadow: none;\n",
              "  }\n",
              "\n",
              "  .colab-df-spinner {\n",
              "    border: 2px solid var(--fill-color);\n",
              "    border-color: transparent;\n",
              "    border-bottom-color: var(--fill-color);\n",
              "    animation:\n",
              "      spin 1s steps(1) infinite;\n",
              "  }\n",
              "\n",
              "  @keyframes spin {\n",
              "    0% {\n",
              "      border-color: transparent;\n",
              "      border-bottom-color: var(--fill-color);\n",
              "      border-left-color: var(--fill-color);\n",
              "    }\n",
              "    20% {\n",
              "      border-color: transparent;\n",
              "      border-left-color: var(--fill-color);\n",
              "      border-top-color: var(--fill-color);\n",
              "    }\n",
              "    30% {\n",
              "      border-color: transparent;\n",
              "      border-left-color: var(--fill-color);\n",
              "      border-top-color: var(--fill-color);\n",
              "      border-right-color: var(--fill-color);\n",
              "    }\n",
              "    40% {\n",
              "      border-color: transparent;\n",
              "      border-right-color: var(--fill-color);\n",
              "      border-top-color: var(--fill-color);\n",
              "    }\n",
              "    60% {\n",
              "      border-color: transparent;\n",
              "      border-right-color: var(--fill-color);\n",
              "    }\n",
              "    80% {\n",
              "      border-color: transparent;\n",
              "      border-right-color: var(--fill-color);\n",
              "      border-bottom-color: var(--fill-color);\n",
              "    }\n",
              "    90% {\n",
              "      border-color: transparent;\n",
              "      border-bottom-color: var(--fill-color);\n",
              "    }\n",
              "  }\n",
              "</style>\n",
              "\n",
              "  <script>\n",
              "    async function quickchart(key) {\n",
              "      const quickchartButtonEl =\n",
              "        document.querySelector('#' + key + ' button');\n",
              "      quickchartButtonEl.disabled = true;  // To prevent multiple clicks.\n",
              "      quickchartButtonEl.classList.add('colab-df-spinner');\n",
              "      try {\n",
              "        const charts = await google.colab.kernel.invokeFunction(\n",
              "            'suggestCharts', [key], {});\n",
              "      } catch (error) {\n",
              "        console.error('Error during call to suggestCharts:', error);\n",
              "      }\n",
              "      quickchartButtonEl.classList.remove('colab-df-spinner');\n",
              "      quickchartButtonEl.classList.add('colab-df-quickchart-complete');\n",
              "    }\n",
              "    (() => {\n",
              "      let quickchartButtonEl =\n",
              "        document.querySelector('#df-b29bde90-477b-4edf-a124-b275fc04eabb button');\n",
              "      quickchartButtonEl.style.display =\n",
              "        google.colab.kernel.accessAllowed ? 'block' : 'none';\n",
              "    })();\n",
              "  </script>\n",
              "</div>\n",
              "    </div>\n",
              "  </div>\n"
            ]
          },
          "metadata": {},
          "execution_count": 10
        }
      ]
    },
    {
      "cell_type": "code",
      "source": [
        "df_data = df_data.sort_values(by='lesion_id')"
      ],
      "metadata": {
        "id": "HH9rgm_lJPiW"
      },
      "execution_count": null,
      "outputs": []
    },
    {
      "cell_type": "code",
      "source": [
        "train_ratio = 0.7  # 70% of the data for training\n",
        "test_ratio = 0.15  # 15% of the data for testing\n",
        "val_ratio = 0.15   # 15% of the data for validation"
      ],
      "metadata": {
        "id": "EWRBCNgbI_zB"
      },
      "execution_count": null,
      "outputs": []
    },
    {
      "cell_type": "code",
      "source": [
        "# Split the DataFrame into train, test, and validation sets\n",
        "df_train, test_val_df = train_test_split(df_data, test_size=(test_ratio + val_ratio), random_state=42)\n",
        "df_test, df_val = train_test_split(test_val_df, test_size=(val_ratio / (test_ratio + val_ratio)), random_state=42)\n"
      ],
      "metadata": {
        "id": "B-LKzCNEJC3n"
      },
      "execution_count": null,
      "outputs": []
    },
    {
      "cell_type": "code",
      "source": [
        "print(len(df_train))\n",
        "print(len(df_val))\n",
        "print(len(df_test))"
      ],
      "metadata": {
        "id": "TvivLVtyJrSV",
        "colab": {
          "base_uri": "https://localhost:8080/"
        },
        "outputId": "f92db612-bcab-4da1-9a02-6855f1bb091f"
      },
      "execution_count": null,
      "outputs": [
        {
          "output_type": "stream",
          "name": "stdout",
          "text": [
            "7010\n",
            "1503\n",
            "1502\n"
          ]
        }
      ]
    },
    {
      "cell_type": "code",
      "source": [
        "df_train['dx'].value_counts()"
      ],
      "metadata": {
        "id": "lSveIm-QJ7AY",
        "colab": {
          "base_uri": "https://localhost:8080/"
        },
        "outputId": "d1d113bb-77f0-4109-811f-a05b468501a4"
      },
      "execution_count": null,
      "outputs": [
        {
          "output_type": "execute_result",
          "data": {
            "text/plain": [
              "nv       4647\n",
              "bkl       799\n",
              "mel       790\n",
              "bcc       362\n",
              "akiec     228\n",
              "vasc      100\n",
              "df         84\n",
              "Name: dx, dtype: int64"
            ]
          },
          "metadata": {},
          "execution_count": 15
        }
      ]
    },
    {
      "cell_type": "code",
      "source": [
        "df_val['dx'].value_counts()"
      ],
      "metadata": {
        "id": "mrWYmFc_J-lk",
        "colab": {
          "base_uri": "https://localhost:8080/"
        },
        "outputId": "0dbe7311-975c-472e-94cb-a5edf0008606"
      },
      "execution_count": null,
      "outputs": [
        {
          "output_type": "execute_result",
          "data": {
            "text/plain": [
              "nv       1015\n",
              "mel       182\n",
              "bkl       151\n",
              "bcc        70\n",
              "akiec      54\n",
              "vasc       18\n",
              "df         13\n",
              "Name: dx, dtype: int64"
            ]
          },
          "metadata": {},
          "execution_count": 16
        }
      ]
    },
    {
      "cell_type": "code",
      "source": [
        "df_test['dx'].value_counts()"
      ],
      "metadata": {
        "id": "A-USUIghKCaW",
        "colab": {
          "base_uri": "https://localhost:8080/"
        },
        "outputId": "8508c032-4583-4aef-9472-ab1756df3117"
      },
      "execution_count": null,
      "outputs": [
        {
          "output_type": "execute_result",
          "data": {
            "text/plain": [
              "nv       1043\n",
              "bkl       149\n",
              "mel       141\n",
              "bcc        82\n",
              "akiec      45\n",
              "vasc       24\n",
              "df         18\n",
              "Name: dx, dtype: int64"
            ]
          },
          "metadata": {},
          "execution_count": 17
        }
      ]
    },
    {
      "cell_type": "code",
      "source": [
        "# Get a list of images from HAM folder in Google Drive\n",
        "folder = os.listdir('/content/drive/MyDrive/DISSERTATION/HAM10000_DATASET/ALL_TRAIN_IMAGES')\n",
        "\n",
        "# Get a list of train ,test and val images\n",
        "train_list = list(df_train['image_id'])\n",
        "val_list = list(df_val['image_id'])\n",
        "test_list = list(df_test['image_id'])"
      ],
      "metadata": {
        "id": "rmJwMCb0KJw6"
      },
      "execution_count": null,
      "outputs": []
    },
    {
      "cell_type": "code",
      "source": [
        "#Moving the images from google dir to train_dir\n",
        "for image in train_list:\n",
        "\n",
        "    fname = image + '.jpg'\n",
        "    #label = df_data.loc[image,'dx']\n",
        "    label=df_data.loc[df_data['image_id'] == image, 'dx'].values[0]\n",
        "\n",
        "\n",
        "    if fname in folder:\n",
        "        # source path to image\n",
        "        src = os.path.join('/content/drive/MyDrive/DISSERTATION/HAM10000_DATASET/ALL_TRAIN_IMAGES', fname)\n",
        "        # destination path to image\n",
        "        dst = os.path.join(train_dir, label, fname)\n",
        "        # copy the image from the source to the destination\n",
        "        shutil.copyfile(src, dst)"
      ],
      "metadata": {
        "id": "3GLCFhjZKvnA"
      },
      "execution_count": null,
      "outputs": []
    },
    {
      "cell_type": "code",
      "source": [
        "#Moving the images from google dir to val_dir\n",
        "for image in val_list:\n",
        "\n",
        "    fname = image + '.jpg'\n",
        "    #label = df_data.loc[image,'dx']\n",
        "    label=df_data.loc[df_data['image_id'] == image, 'dx'].values[0]\n",
        "\n",
        "    if fname in folder:\n",
        "        # source path to image\n",
        "        src = os.path.join('/content/drive/MyDrive/DISSERTATION/HAM10000_DATASET/ALL_TRAIN_IMAGES', fname)\n",
        "        # destination path to image\n",
        "        dst = os.path.join(val_dir, label, fname)\n",
        "        # copy the image from the source to the destination\n",
        "        shutil.copyfile(src, dst)"
      ],
      "metadata": {
        "id": "AK4R4YFPLUTL"
      },
      "execution_count": null,
      "outputs": []
    },
    {
      "cell_type": "code",
      "source": [
        "#Moving the images from google dir to test_dir\n",
        "for image in test_list:\n",
        "\n",
        "    fname = image + '.jpg'\n",
        "    #label = df_data.loc[image,'dx']\n",
        "    label=df_data.loc[df_data['image_id'] == image, 'dx'].values[0]\n",
        "\n",
        "    if fname in folder:\n",
        "        # source path to image\n",
        "        src = os.path.join('/content/drive/MyDrive/DISSERTATION/HAM10000_DATASET/ALL_TRAIN_IMAGES', fname)\n",
        "        # destination path to image\n",
        "        dst = os.path.join(test_dir, label, fname)\n",
        "        # copy the image from the source to the destination\n",
        "        shutil.copyfile(src, dst)"
      ],
      "metadata": {
        "id": "Nc2OrFzyLmN8"
      },
      "execution_count": null,
      "outputs": []
    },
    {
      "cell_type": "code",
      "source": [
        "# Determine the count of training images present in each directory.\n",
        "\n",
        "print('nv:',len(os.listdir('skin_dense_base_dir/train_dir/nv')))\n",
        "print('mel:',len(os.listdir('skin_dense_base_dir/train_dir/mel')))\n",
        "print('bkl:',len(os.listdir('skin_dense_base_dir/train_dir/bkl')))\n",
        "print('bcc:',len(os.listdir('skin_dense_base_dir/train_dir/bcc')))\n",
        "print('akiec:',len(os.listdir('skin_dense_base_dir/train_dir/akiec')))\n",
        "print('vasc:',len(os.listdir('skin_dense_base_dir/train_dir/vasc')))\n",
        "print('df:',len(os.listdir('skin_dense_base_dir/train_dir/df')))"
      ],
      "metadata": {
        "id": "Bg7TmBR6NAoB",
        "colab": {
          "base_uri": "https://localhost:8080/"
        },
        "outputId": "0bedd933-7495-4db6-df8d-763bfd326404"
      },
      "execution_count": null,
      "outputs": [
        {
          "output_type": "stream",
          "name": "stdout",
          "text": [
            "nv: 4647\n",
            "mel: 790\n",
            "bkl: 799\n",
            "bcc: 362\n",
            "akiec: 228\n",
            "vasc: 100\n",
            "df: 84\n"
          ]
        }
      ]
    },
    {
      "cell_type": "code",
      "source": [
        "# Determine the count of val images present in each directory.\n",
        "\n",
        "print('nv:',len(os.listdir('skin_dense_base_dir/val_dir/nv')))\n",
        "print('mel:',len(os.listdir('skin_dense_base_dir/val_dir/mel')))\n",
        "print('bkl:',len(os.listdir('skin_dense_base_dir/val_dir/bkl')))\n",
        "print('bcc:',len(os.listdir('skin_dense_base_dir/val_dir/bcc')))\n",
        "print('akiec:',len(os.listdir('skin_dense_base_dir/val_dir/akiec')))\n",
        "print('vasc:',len(os.listdir('skin_dense_base_dir/val_dir/vasc')))\n",
        "print('df:',len(os.listdir('skin_dense_base_dir/val_dir/df')))"
      ],
      "metadata": {
        "id": "T8_mrnwmNBRU",
        "colab": {
          "base_uri": "https://localhost:8080/"
        },
        "outputId": "8c5b2af7-098d-401b-8ec7-d3eca91fdf15"
      },
      "execution_count": null,
      "outputs": [
        {
          "output_type": "stream",
          "name": "stdout",
          "text": [
            "nv: 1015\n",
            "mel: 182\n",
            "bkl: 151\n",
            "bcc: 70\n",
            "akiec: 54\n",
            "vasc: 18\n",
            "df: 13\n"
          ]
        }
      ]
    },
    {
      "cell_type": "code",
      "source": [
        "# Check how many test images we have in each folder.\n",
        "\n",
        "print('nv:',len(os.listdir('skin_dense_base_dir/test_dir/nv')))\n",
        "print('mel:',len(os.listdir('skin_dense_base_dir/test_dir/mel')))\n",
        "print('bkl:',len(os.listdir('skin_dense_base_dir/test_dir/bkl')))\n",
        "print('bcc:',len(os.listdir('skin_dense_base_dir/test_dir/bcc')))\n",
        "print('akiec:',len(os.listdir('skin_dense_base_dir/test_dir/akiec')))\n",
        "print('vasc:',len(os.listdir('skin_dense_base_dir/test_dir/vasc')))\n",
        "print('df:',len(os.listdir('skin_dense_base_dir/test_dir/df')))"
      ],
      "metadata": {
        "id": "BRMVjw1ANDzG",
        "colab": {
          "base_uri": "https://localhost:8080/"
        },
        "outputId": "2e82d454-11a3-4125-d4bb-8b8471218734"
      },
      "execution_count": null,
      "outputs": [
        {
          "output_type": "stream",
          "name": "stdout",
          "text": [
            "nv: 1043\n",
            "mel: 141\n",
            "bkl: 149\n",
            "bcc: 82\n",
            "akiec: 45\n",
            "vasc: 24\n",
            "df: 18\n"
          ]
        }
      ]
    },
    {
      "cell_type": "code",
      "source": [
        "#Copy the train images into skin_dense_aug_dir\n",
        "class_list = ['mel','bkl','bcc','akiec','vasc','df']\n",
        "\n",
        "for item in class_list:\n",
        "\n",
        "    # We are creating temporary directories\n",
        "    # create a aug dir\n",
        "    skin_dense_aug_dir = 'skin_dense_aug_dir'\n",
        "    os.mkdir(skin_dense_aug_dir)\n",
        "    # create a dir within the base dir to store images of the same class\n",
        "    img_dir = os.path.join(skin_dense_aug_dir, 'img_dir')\n",
        "    os.mkdir(img_dir)\n",
        "\n",
        "    # Choose a class\n",
        "    img_class = item\n",
        "\n",
        "    # list all images in that directory\n",
        "    img_list = os.listdir('skin_dense_base_dir/train_dir/' + img_class)\n",
        "\n",
        "    # Copy images from the class train dir to the img_dir e.g. class 'mel'\n",
        "    for fname in img_list:\n",
        "            # source path to image\n",
        "            src = os.path.join('skin_dense_base_dir/train_dir/' + img_class, fname)\n",
        "            # destination path to image\n",
        "            dst = os.path.join(img_dir, fname)\n",
        "            # copy the image from the source to the destination\n",
        "            shutil.copyfile(src, dst)\n",
        "\n",
        "\n",
        "    # point to a dir containing the images and not to the images themselves\n",
        "    path = skin_dense_aug_dir\n",
        "    save_path = 'skin_dense_base_dir/train_dir/' + img_class\n",
        "\n",
        "    # Create a data generator skin ui\n",
        "    datagen = ImageDataGenerator(\n",
        "        rotation_range=40,\n",
        "        width_shift_range=0.2,\n",
        "        height_shift_range=0.2,\n",
        "        zoom_range=0.2,\n",
        "        horizontal_flip=True,\n",
        "        vertical_flip=True,\n",
        "        brightness_range=(0.9,1.1),\n",
        "        fill_mode='nearest')\n",
        "\n",
        "    batch_size = 50\n",
        "\n",
        "    aug_datagen = datagen.flow_from_directory(path,\n",
        "                                           save_to_dir=save_path,\n",
        "                                           save_format='jpg',\n",
        "                                                    target_size=(224,224),\n",
        "                                                    batch_size=batch_size)\n",
        "\n",
        "    num_aug_images_wanted = 4500 # total number of images  in each class\n",
        "\n",
        "    num_files = len(os.listdir(img_dir))\n",
        "    num_batches = int(np.ceil((num_aug_images_wanted-num_files)/batch_size))\n",
        "\n",
        "    # run the generator and create augmented images\n",
        "    for i in range(0,num_batches):\n",
        "\n",
        "        imgs, labels = next(aug_datagen)\n",
        "\n",
        "    # delete temporary directory with the raw image files\n",
        "    shutil.rmtree('skin_dense_aug_dir')"
      ],
      "metadata": {
        "id": "e64GOpevTFBe",
        "colab": {
          "base_uri": "https://localhost:8080/"
        },
        "outputId": "52287abe-642a-4f32-ffe0-9c88c2443931"
      },
      "execution_count": null,
      "outputs": [
        {
          "output_type": "stream",
          "name": "stdout",
          "text": [
            "Found 790 images belonging to 1 classes.\n",
            "Found 799 images belonging to 1 classes.\n",
            "Found 362 images belonging to 1 classes.\n",
            "Found 228 images belonging to 1 classes.\n",
            "Found 100 images belonging to 1 classes.\n",
            "Found 84 images belonging to 1 classes.\n"
          ]
        }
      ]
    },
    {
      "cell_type": "code",
      "source": [
        "# Determine the count of training images present in each directory.\n",
        "\n",
        "print('nv:',len(os.listdir('skin_dense_base_dir/train_dir/nv')))\n",
        "print('mel:',len(os.listdir('skin_dense_base_dir/train_dir/mel')))\n",
        "print('bkl:',len(os.listdir('skin_dense_base_dir/train_dir/bkl')))\n",
        "print('bcc:',len(os.listdir('skin_dense_base_dir/train_dir/bcc')))\n",
        "print('akiec:',len(os.listdir('skin_dense_base_dir/train_dir/akiec')))\n",
        "print('vasc:',len(os.listdir('skin_dense_base_dir/train_dir/vasc')))\n",
        "print('df:',len(os.listdir('skin_dense_base_dir/train_dir/df')))"
      ],
      "metadata": {
        "id": "v2x8DAVrTU_V",
        "colab": {
          "base_uri": "https://localhost:8080/"
        },
        "outputId": "03565991-128a-4ab0-9975-aabb8a88682a"
      },
      "execution_count": null,
      "outputs": [
        {
          "output_type": "stream",
          "name": "stdout",
          "text": [
            "nv: 4647\n",
            "mel: 4500\n",
            "bkl: 4545\n",
            "bcc: 4132\n",
            "akiec: 4154\n",
            "vasc: 4500\n",
            "df: 3830\n"
          ]
        }
      ]
    },
    {
      "cell_type": "code",
      "source": [
        "# Determine the count of val images present in each directory.\n",
        "\n",
        "print('nv:',len(os.listdir('skin_dense_base_dir/val_dir/nv')))\n",
        "print('mel:',len(os.listdir('skin_dense_base_dir/val_dir/mel')))\n",
        "print('bkl:',len(os.listdir('skin_dense_base_dir/val_dir/bkl')))\n",
        "print('bcc:',len(os.listdir('skin_dense_base_dir/val_dir/bcc')))\n",
        "print('akiec:',len(os.listdir('skin_dense_base_dir/val_dir/akiec')))\n",
        "print('vasc:',len(os.listdir('skin_dense_base_dir/val_dir/vasc')))\n",
        "print('df:',len(os.listdir('skin_dense_base_dir/val_dir/df')))"
      ],
      "metadata": {
        "id": "oAXKiytZTWCZ",
        "colab": {
          "base_uri": "https://localhost:8080/"
        },
        "outputId": "97584b92-6d6b-4f01-e4e1-0e959e986337"
      },
      "execution_count": null,
      "outputs": [
        {
          "output_type": "stream",
          "name": "stdout",
          "text": [
            "nv: 1015\n",
            "mel: 182\n",
            "bkl: 151\n",
            "bcc: 70\n",
            "akiec: 54\n",
            "vasc: 18\n",
            "df: 13\n"
          ]
        }
      ]
    },
    {
      "cell_type": "code",
      "source": [
        "# Check how many test images we have in each folder.\n",
        "\n",
        "print('nv:',len(os.listdir('skin_dense_base_dir/test_dir/nv')))\n",
        "print('mel:',len(os.listdir('skin_dense_base_dir/test_dir/mel')))\n",
        "print('bkl:',len(os.listdir('skin_dense_base_dir/test_dir/bkl')))\n",
        "print('bcc:',len(os.listdir('skin_dense_base_dir/test_dir/bcc')))\n",
        "print('akiec:',len(os.listdir('skin_dense_base_dir/test_dir/akiec')))\n",
        "print('vasc:',len(os.listdir('skin_dense_base_dir/test_dir/vasc')))\n",
        "print('df:',len(os.listdir('skin_dense_base_dir/test_dir/df')))"
      ],
      "metadata": {
        "colab": {
          "base_uri": "https://localhost:8080/"
        },
        "id": "xCiyu_t6EA1L",
        "outputId": "1c34cc43-caa3-48ce-c29b-2faf1de7b151"
      },
      "execution_count": null,
      "outputs": [
        {
          "output_type": "stream",
          "name": "stdout",
          "text": [
            "nv: 1043\n",
            "mel: 141\n",
            "bkl: 149\n",
            "bcc: 82\n",
            "akiec: 45\n",
            "vasc: 24\n",
            "df: 18\n"
          ]
        }
      ]
    },
    {
      "cell_type": "code",
      "source": [
        "#Set Up the Generators¶\n",
        "\n",
        "train_path = 'skin_dense_base_dir/train_dir'\n",
        "valid_path = 'skin_dense_base_dir/val_dir'\n",
        "test_path='skin_dense_base_dir/test_dir'\n",
        "\n",
        "num_train_samples = len(df_train)\n",
        "num_val_samples = len(df_val)\n",
        "num_test_samples = len(df_test)\n",
        "train_batch_size = 10\n",
        "val_batch_size = 10\n",
        "test_batch_size = 10\n",
        "\n",
        "image_size = 224\n",
        "\n",
        "train_steps = np.ceil(num_train_samples / train_batch_size)\n",
        "val_steps = np.ceil(num_val_samples / val_batch_size)\n",
        "test_steps = np.ceil(num_test_samples / test_batch_size)"
      ],
      "metadata": {
        "id": "QlqM7JdkT5zB"
      },
      "execution_count": null,
      "outputs": []
    },
    {
      "cell_type": "code",
      "source": [
        "datagen = ImageDataGenerator(\n",
        "    preprocessing_function= \\\n",
        "    tensorflow.keras.applications.densenet.preprocess_input)\n",
        "\n",
        "\n",
        "\n",
        "train_batches = datagen.flow_from_directory(train_path,\n",
        "                                            target_size=(image_size,image_size),\n",
        "                                            batch_size=train_batch_size,class_mode='categorical')\n",
        "\n",
        "valid_batches = datagen.flow_from_directory(valid_path,\n",
        "                                            target_size=(image_size,image_size),\n",
        "                                            batch_size=val_batch_size,class_mode='categorical')\n",
        "\n",
        "# Note: shuffle=False causes the test dataset to not be shuffled\n",
        "test_batches = datagen.flow_from_directory(test_path,\n",
        "                                            target_size=(image_size,image_size),\n",
        "                                            batch_size=test_batch_size,\n",
        "                                            shuffle=False,class_mode='categorical')"
      ],
      "metadata": {
        "id": "AnL0PXE4UsV2",
        "colab": {
          "base_uri": "https://localhost:8080/"
        },
        "outputId": "7d4b9555-2563-4b61-ba40-60d81face5da"
      },
      "execution_count": null,
      "outputs": [
        {
          "output_type": "stream",
          "name": "stdout",
          "text": [
            "Found 30308 images belonging to 7 classes.\n",
            "Found 1503 images belonging to 7 classes.\n",
            "Found 1502 images belonging to 7 classes.\n"
          ]
        }
      ]
    },
    {
      "cell_type": "markdown",
      "source": [
        "**MODEL BUILDING**"
      ],
      "metadata": {
        "id": "DwqoZb8HEGYR"
      }
    },
    {
      "cell_type": "code",
      "source": [
        "'''#libraries to build our neural netwrok model\n",
        "from keras.models import Sequential\n",
        "from keras.layers import Dense, Dropout, Flatten,GlobalAveragePooling2D\n",
        "#from keras.layers.convolutional import Conv2D, MaxPooling2D\n",
        "from keras import backend as k\n",
        "\n",
        "from keras.utils import to_categorical\n",
        "from keras import optimizers\n",
        "from keras.optimizers import SGD,Adam\n",
        "from tensorflow.keras.applications import DenseNet201\n",
        "from tensorflow.keras.applications.densenet  import preprocess_input\n",
        "from keras.models import Model\n",
        "from tensorflow.keras.utils import img_to_array,array_to_img\n",
        "\n",
        "#librariy to augment our dataset images\n",
        "from keras.preprocessing.image import ImageDataGenerator\n",
        "\n",
        "#libraries to calculate evalution scores of our model\n",
        "from sklearn.metrics import confusion_matrix\n",
        "from sklearn.metrics import balanced_accuracy_score\n",
        "from sklearn.metrics import precision_score\n",
        "from sklearn.metrics import recall_score\n",
        "from sklearn.metrics import f1_score\n",
        "from tensorflow.keras   import regularizers'''"
      ],
      "metadata": {
        "id": "I1aPbJ1hU3CO",
        "colab": {
          "base_uri": "https://localhost:8080/",
          "height": 143
        },
        "outputId": "b80740b9-c8b8-42da-8a4e-8ea53c9f09bb"
      },
      "execution_count": null,
      "outputs": [
        {
          "output_type": "execute_result",
          "data": {
            "text/plain": [
              "'#libraries to build our neural netwrok model\\nfrom keras.models import Sequential\\nfrom keras.layers import Dense, Dropout, Flatten,GlobalAveragePooling2D\\n#from keras.layers.convolutional import Conv2D, MaxPooling2D\\nfrom keras import backend as k\\n\\nfrom keras.utils import to_categorical\\nfrom keras import optimizers\\nfrom keras.optimizers import SGD,Adam\\nfrom tensorflow.keras.applications import DenseNet201\\nfrom tensorflow.keras.applications.densenet  import preprocess_input\\nfrom keras.models import Model\\nfrom tensorflow.keras.utils import img_to_array,array_to_img\\n\\n#librariy to augment our dataset images\\nfrom keras.preprocessing.image import ImageDataGenerator\\n\\n#libraries to calculate evalution scores of our model\\nfrom sklearn.metrics import confusion_matrix\\nfrom sklearn.metrics import balanced_accuracy_score\\nfrom sklearn.metrics import precision_score\\nfrom sklearn.metrics import recall_score\\nfrom sklearn.metrics import f1_score\\nfrom tensorflow.keras   import regularizers'"
            ],
            "application/vnd.google.colaboratory.intrinsic+json": {
              "type": "string"
            }
          },
          "metadata": {},
          "execution_count": 31
        }
      ]
    },
    {
      "cell_type": "code",
      "source": [
        "'''densenet_model = Sequential()\n",
        "pretrained_model=DenseNet201(\n",
        "    include_top=False,\n",
        "    weights='imagenet',\n",
        "    input_shape=(224,224,3)\n",
        ")\n",
        "\n",
        "for layer in pretrained_model.layers:\n",
        "        layer.trainable=False\n",
        "\n",
        "densenet_model.add(pretrained_model)\n",
        "densenet_model.add(Flatten())\n",
        "densenet_model.add(Dense(512, activation='relu', kernel_regularizer=regularizers.l2(0.01)))\n",
        "densenet_model.add(Dropout(0.2))\n",
        "\n",
        "#densenet_model.layers[-1].trainable = True\n",
        "for layer in densenet_model.layers[-10:]:\n",
        "    layer.trainable = True\n",
        "\n",
        "densenet_model.add(Dense(7, activation='softmax'))'''"
      ],
      "metadata": {
        "id": "rfmIeOqcLyGv",
        "colab": {
          "base_uri": "https://localhost:8080/",
          "height": 89
        },
        "outputId": "14254da4-9b93-45af-f63c-6c8ec9e5c7b8"
      },
      "execution_count": null,
      "outputs": [
        {
          "output_type": "execute_result",
          "data": {
            "text/plain": [
              "\"densenet_model = Sequential()\\npretrained_model=DenseNet201(\\n    include_top=False,\\n    weights='imagenet',\\n    input_shape=(224,224,3)\\n)\\n\\nfor layer in pretrained_model.layers:\\n        layer.trainable=False\\n\\ndensenet_model.add(pretrained_model)\\ndensenet_model.add(Flatten())\\ndensenet_model.add(Dense(512, activation='relu', kernel_regularizer=regularizers.l2(0.01)))\\ndensenet_model.add(Dropout(0.2))\\n\\n#densenet_model.layers[-1].trainable = True\\nfor layer in densenet_model.layers[-10:]:\\n    layer.trainable = True\\n\\ndensenet_model.add(Dense(7, activation='softmax'))\""
            ],
            "application/vnd.google.colaboratory.intrinsic+json": {
              "type": "string"
            }
          },
          "metadata": {},
          "execution_count": 32
        }
      ]
    },
    {
      "cell_type": "code",
      "source": [
        "def build_model(hp):\n",
        "    base_model = keras.applications.DenseNet201(\n",
        "        include_top=False,\n",
        "        weights='imagenet',\n",
        "        input_shape=(224, 224, 3),\n",
        "    )\n",
        "\n",
        "    for layer in base_model.layers:\n",
        "        layer.trainable = False\n",
        "\n",
        "    hp_activation = hp.Choice('activation', values=['relu','sgd'])\n",
        "    model = keras.Sequential()\n",
        "    model.add(base_model)\n",
        "    model.add(keras.layers.Flatten())\n",
        "    #model.add(keras.layers.Dense(units=hp.Int('dense_units', min_value=256, max_value=1024, step=64), activation=hp_activation, kernel_regularizer=regularizers.l1(0.01)))\n",
        "    model.add(keras.layers.Dense(units=hp.Choice('dense_units', values=[512, 960]), activation=hp_activation, kernel_regularizer=regularizers.l1(0.01)))\n",
        "    #model.add(Dropout(0.2))\n",
        "    model.add(Dropout(hp.Float('dropout_rate', min_value=0.2, max_value=0.3, step=0.1)))\n",
        "    model.add(keras.layers.Dense(7, activation='softmax'))\n",
        "\n",
        "    for layer in model.layers[-10:]:\n",
        "      layer.trainable = True\n",
        "\n",
        "    model.compile(\n",
        "        optimizer=keras.optimizers.Adam(learning_rate=hp.Choice('learning_rate', values=[1e-4])),\n",
        "        loss='categorical_crossentropy',\n",
        "        metrics=['accuracy'],\n",
        "    )\n",
        "\n",
        "    return model"
      ],
      "metadata": {
        "id": "p7jfbnyvfQZ0"
      },
      "execution_count": null,
      "outputs": []
    },
    {
      "cell_type": "code",
      "source": [
        "'''from keras_tuner.tuners import RandomSearch\n",
        "import keras'''"
      ],
      "metadata": {
        "id": "bbs8O6F0lGOj",
        "colab": {
          "base_uri": "https://localhost:8080/",
          "height": 35
        },
        "outputId": "e27044b2-88bc-4ae8-d65d-385fd4cecf54"
      },
      "execution_count": null,
      "outputs": [
        {
          "output_type": "execute_result",
          "data": {
            "text/plain": [
              "'from keras_tuner.tuners import RandomSearch\\nimport keras'"
            ],
            "application/vnd.google.colaboratory.intrinsic+json": {
              "type": "string"
            }
          },
          "metadata": {},
          "execution_count": 34
        }
      ]
    },
    {
      "cell_type": "code",
      "source": [
        "tuner = RandomSearch(\n",
        "    build_model,\n",
        "    objective='val_accuracy',\n",
        "    max_trials=10,\n",
        "    directory='SKIN_NEW',\n",
        "    project_name='densenet201_tuning_skin',\n",
        ")"
      ],
      "metadata": {
        "id": "XrgRrf_Jnlq8",
        "colab": {
          "base_uri": "https://localhost:8080/"
        },
        "outputId": "0634b35c-9774-470c-ef5d-12b8a535b79d"
      },
      "execution_count": null,
      "outputs": [
        {
          "output_type": "stream",
          "name": "stdout",
          "text": [
            "Downloading data from https://storage.googleapis.com/tensorflow/keras-applications/densenet/densenet201_weights_tf_dim_ordering_tf_kernels_notop.h5\n",
            "74836368/74836368 [==============================] - 0s 0us/step\n"
          ]
        }
      ]
    },
    {
      "cell_type": "code",
      "source": [
        "tuner.search(train_batches, epochs=10, validation_data=valid_batches)"
      ],
      "metadata": {
        "colab": {
          "base_uri": "https://localhost:8080/"
        },
        "id": "Yu03_gzxJEkF",
        "outputId": "c0a05761-aeca-4746-a78e-9199f216b650"
      },
      "execution_count": null,
      "outputs": [
        {
          "output_type": "stream",
          "name": "stdout",
          "text": [
            "Trial 4 Complete [01h 53m 39s]\n",
            "val_accuracy: 0.8656021356582642\n",
            "\n",
            "Best val_accuracy So Far: 0.8669328093528748\n",
            "Total elapsed time: 03h 56m 06s\n"
          ]
        }
      ]
    },
    {
      "cell_type": "code",
      "source": [
        "best_hps = tuner.get_best_hyperparameters(num_trials=1)[0]\n",
        "final_model = build_model(best_hps)"
      ],
      "metadata": {
        "id": "gl5pTEoSnn0L"
      },
      "execution_count": null,
      "outputs": []
    },
    {
      "cell_type": "code",
      "source": [
        "from keras.callbacks import ModelCheckpoint, EarlyStopping, CSVLogger,ReduceLROnPlateau\n",
        "\n",
        "# Define callbacks\n",
        "early_stop = EarlyStopping(monitor='val_loss', patience=2,verbose=1,mode='auto', restore_best_weights=True)\n",
        "#reduce_lr = ReduceLROnPlateau(monitor='val_loss', factor=0.1, patience=5, verbose=1, mode='auto',min_lr=0.00001)\n",
        "checkpoint = ModelCheckpoint('/content/drive/MyDrive/DISSERTATION/HAM10000_DATASET/MODEL_OUTPUTS/SKIN_CANCER_DENSENET_201_Keras_Tuner.h5', monitor='val_accuracy', save_best_only=True)\n",
        "callbacks_list = [checkpoint, early_stop]"
      ],
      "metadata": {
        "id": "FZoUgsfMnohL"
      },
      "execution_count": null,
      "outputs": []
    },
    {
      "cell_type": "code",
      "source": [
        "history=final_model.fit(\n",
        "    train_batches,\n",
        "    epochs=30,\n",
        "    validation_data=valid_batches,callbacks=callbacks_list\n",
        ")"
      ],
      "metadata": {
        "id": "icGTPswNns9E",
        "colab": {
          "base_uri": "https://localhost:8080/"
        },
        "outputId": "a19d3eea-c1a7-4801-d7e6-6c103ca825b8"
      },
      "execution_count": null,
      "outputs": [
        {
          "output_type": "stream",
          "name": "stdout",
          "text": [
            "Epoch 1/30\n",
            "3031/3031 [==============================] - 832s 241ms/step - loss: 54.4390 - accuracy: 0.7155 - val_loss: 12.3198 - val_accuracy: 0.8290\n",
            "Epoch 2/30\n",
            "3031/3031 [==============================] - 730s 241ms/step - loss: 11.5297 - accuracy: 0.8618 - val_loss: 11.0139 - val_accuracy: 0.8323\n",
            "Epoch 3/30\n",
            "3031/3031 [==============================] - 730s 241ms/step - loss: 10.9383 - accuracy: 0.9114 - val_loss: 11.0375 - val_accuracy: 0.8417\n",
            "Epoch 4/30\n",
            "3031/3031 [==============================] - ETA: 0s - loss: 10.6605 - accuracy: 0.9369Restoring model weights from the end of the best epoch: 2.\n",
            "3031/3031 [==============================] - 718s 237ms/step - loss: 10.6605 - accuracy: 0.9369 - val_loss: 11.0179 - val_accuracy: 0.8230\n",
            "Epoch 4: early stopping\n"
          ]
        }
      ]
    },
    {
      "cell_type": "code",
      "source": [
        "print(final_model)"
      ],
      "metadata": {
        "id": "_dXtXgsGSQ8J",
        "colab": {
          "base_uri": "https://localhost:8080/"
        },
        "outputId": "a62db931-1ebb-4dc9-c70c-e0b371237049"
      },
      "execution_count": null,
      "outputs": [
        {
          "output_type": "stream",
          "name": "stdout",
          "text": [
            "<keras.src.engine.sequential.Sequential object at 0x7db92ae31690>\n"
          ]
        }
      ]
    },
    {
      "cell_type": "code",
      "source": [
        "final_model.summary()"
      ],
      "metadata": {
        "colab": {
          "base_uri": "https://localhost:8080/"
        },
        "id": "xzXfBvWCJdMH",
        "outputId": "66176b27-a21e-42af-d4e0-93a795da8970"
      },
      "execution_count": null,
      "outputs": [
        {
          "output_type": "stream",
          "name": "stdout",
          "text": [
            "Model: \"sequential_1\"\n",
            "_________________________________________________________________\n",
            " Layer (type)                Output Shape              Param #   \n",
            "=================================================================\n",
            " densenet201 (Functional)    (None, 7, 7, 1920)        18321984  \n",
            "                                                                 \n",
            " flatten_1 (Flatten)         (None, 94080)             0         \n",
            "                                                                 \n",
            " dense_2 (Dense)             (None, 960)               90317760  \n",
            "                                                                 \n",
            " dropout_1 (Dropout)         (None, 960)               0         \n",
            "                                                                 \n",
            " dense_3 (Dense)             (None, 7)                 6727      \n",
            "                                                                 \n",
            "=================================================================\n",
            "Total params: 108646471 (414.45 MB)\n",
            "Trainable params: 108417415 (413.58 MB)\n",
            "Non-trainable params: 229056 (894.75 KB)\n",
            "_________________________________________________________________\n"
          ]
        }
      ]
    },
    {
      "cell_type": "code",
      "source": [
        "# Evaluate the model and generate a confusion matrix for Test\n",
        "test_batches.shuffle = False\n",
        "predictions = final_model.predict(test_batches)\n",
        "predicted_classes = np.argmax(predictions, axis=1)"
      ],
      "metadata": {
        "colab": {
          "base_uri": "https://localhost:8080/"
        },
        "id": "QWyLb2dNE71H",
        "outputId": "9b2b427e-2811-4718-fbd7-68fd057e78fd"
      },
      "execution_count": null,
      "outputs": [
        {
          "output_type": "stream",
          "name": "stdout",
          "text": [
            "151/151 [==============================] - 16s 87ms/step\n"
          ]
        }
      ]
    },
    {
      "cell_type": "code",
      "source": [
        "#Generate Confusion Matrix and Classification Report for Test Inages\n",
        "true_classes = test_batches.classes\n",
        "class_labels = list(test_batches.class_indices.keys())\n",
        "\n",
        "confusion_matrix_result = confusion_matrix(true_classes, predicted_classes)\n",
        "classification_report_result = classification_report(\n",
        "    true_classes,\n",
        "    predicted_classes,\n",
        "    target_names=class_labels\n",
        ")\n",
        "\n",
        "print(\"Confusion Matrix:\\n\", confusion_matrix_result)\n",
        "print(\"\\nClassification Report:\\n\", classification_report_result)"
      ],
      "metadata": {
        "colab": {
          "base_uri": "https://localhost:8080/"
        },
        "id": "U9PD9QvsE_t2",
        "outputId": "98d9e088-7daf-480f-ecfd-02da7be8bacc"
      },
      "execution_count": null,
      "outputs": [
        {
          "output_type": "stream",
          "name": "stdout",
          "text": [
            "Confusion Matrix:\n",
            " [[  34    5    4    0    0    2    0]\n",
            " [   8   56    2    0    1   15    0]\n",
            " [   9    2   66    0   16   56    0]\n",
            " [   0    1    0   11    0    6    0]\n",
            " [   4    3    5    1   56   71    1]\n",
            " [   1    8    4    0   14 1016    0]\n",
            " [   0    0    0    0    0    2   22]]\n",
            "\n",
            "Classification Report:\n",
            "               precision    recall  f1-score   support\n",
            "\n",
            "       akiec       0.61      0.76      0.67        45\n",
            "         bcc       0.75      0.68      0.71        82\n",
            "         bkl       0.81      0.44      0.57       149\n",
            "          df       0.92      0.61      0.73        18\n",
            "         mel       0.64      0.40      0.49       141\n",
            "          nv       0.87      0.97      0.92      1043\n",
            "        vasc       0.96      0.92      0.94        24\n",
            "\n",
            "    accuracy                           0.84      1502\n",
            "   macro avg       0.79      0.68      0.72      1502\n",
            "weighted avg       0.83      0.84      0.82      1502\n",
            "\n"
          ]
        }
      ]
    },
    {
      "cell_type": "code",
      "source": [
        "#Creating Train and Valication dataset Loss and Accuracy graphs\n",
        "\n",
        "fig, ax = plt.subplots(2,1)\n",
        "ax[0].plot(history.history['loss'], color='b', label=\"Training loss\")\n",
        "ax[0].plot(history.history['val_loss'], color='r', label=\"validation loss\",axes =ax[0])\n",
        "ax[0].set_title('Training and Validation Loss')\n",
        "ax[0].set_xlabel('Epochs')\n",
        "ax[0].set_ylabel('Loss')\n",
        "legend = ax[0].legend(loc='best', shadow=True)\n",
        "\n",
        "ax[1].plot(history.history['accuracy'], color='b', label=\"Training accuracy\")\n",
        "ax[1].plot(history.history['val_accuracy'], color='r',label=\"Validation accuracy\")\n",
        "ax[1].set_title('Training and Validation Accuracy')\n",
        "legend = ax[1].legend(loc='best', shadow=True)\n",
        "ax[1].set_xlabel('Epochs')\n",
        "ax[1].set_ylabel('Accuracy')\n",
        "\n",
        "plt.tight_layout()\n",
        "plt.show()"
      ],
      "metadata": {
        "colab": {
          "base_uri": "https://localhost:8080/",
          "height": 486
        },
        "id": "QaCgaDzhFCDC",
        "outputId": "a164b482-93bb-4b9f-de68-9f7a7de8f6ec"
      },
      "execution_count": null,
      "outputs": [
        {
          "output_type": "display_data",
          "data": {
            "text/plain": [
              "<Figure size 640x480 with 2 Axes>"
            ],
            "image/png": "[encoded data removed]"
          },
          "metadata": {}
        }
      ]
    },
    {
      "cell_type": "code",
      "source": [
        "import datetime\n",
        "import pytz\n",
        "\n",
        "london_timezone = pytz.timezone('Europe/London')\n",
        "current_time_london = datetime.datetime.now(london_timezone)\n",
        "print(\"Current Date and Time in London:\", current_time_london.strftime(\"%Y-%m-%d %H:%M:%S %Z\"))"
      ],
      "metadata": {
        "id": "kpwowIrCnxEz",
        "colab": {
          "base_uri": "https://localhost:8080/"
        },
        "outputId": "0def0664-82c2-4e81-d681-ab77a771b91c"
      },
      "execution_count": null,
      "outputs": [
        {
          "output_type": "stream",
          "name": "stdout",
          "text": [
            "Current Date and Time in London: 2023-12-12 21:28:59 GMT\n"
          ]
        }
      ]
    }
  ]
}